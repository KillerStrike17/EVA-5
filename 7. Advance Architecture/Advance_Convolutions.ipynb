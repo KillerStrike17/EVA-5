{
  "nbformat": 4,
  "nbformat_minor": 0,
  "metadata": {
    "colab": {
      "name": "Advance Convolutions.ipynb",
      "provenance": [],
      "collapsed_sections": [],
      "authorship_tag": "ABX9TyMGfmkIploYDK8GhBl2UzEm",
      "include_colab_link": true
    },
    "kernelspec": {
      "name": "python3",
      "display_name": "Python 3"
    },
    "accelerator": "GPU"
  },
  "cells": [
    {
      "cell_type": "markdown",
      "metadata": {
        "id": "view-in-github",
        "colab_type": "text"
      },
      "source": [
        "<a href=\"https://colab.research.google.com/github/KillerStrike17/EVA-5/blob/master/7.%20Advance%20Architecture/Advance_Convolutions.ipynb\" target=\"_parent\"><img src=\"https://colab.research.google.com/assets/colab-badge.svg\" alt=\"Open In Colab\"/></a>"
      ]
    },
    {
      "cell_type": "code",
      "metadata": {
        "id": "5LiMvLASp1VF",
        "colab_type": "code",
        "colab": {
          "base_uri": "https://localhost:8080/",
          "height": 357
        },
        "outputId": "636df3eb-ee1e-43ba-8a0e-5580ce3e1ee2"
      },
      "source": [
        "!nvidia-smi"
      ],
      "execution_count": 1,
      "outputs": [
        {
          "output_type": "stream",
          "text": [
            "Sat Sep 12 14:11:13 2020       \n",
            "+-----------------------------------------------------------------------------+\n",
            "| NVIDIA-SMI 450.66       Driver Version: 418.67       CUDA Version: 10.1     |\n",
            "|-------------------------------+----------------------+----------------------+\n",
            "| GPU  Name        Persistence-M| Bus-Id        Disp.A | Volatile Uncorr. ECC |\n",
            "| Fan  Temp  Perf  Pwr:Usage/Cap|         Memory-Usage | GPU-Util  Compute M. |\n",
            "|                               |                      |               MIG M. |\n",
            "|===============================+======================+======================|\n",
            "|   0  Tesla T4            Off  | 00000000:00:04.0 Off |                    0 |\n",
            "| N/A   42C    P8    10W /  70W |      0MiB / 15079MiB |      0%      Default |\n",
            "|                               |                      |                 ERR! |\n",
            "+-------------------------------+----------------------+----------------------+\n",
            "                                                                               \n",
            "+-----------------------------------------------------------------------------+\n",
            "| Processes:                                                                  |\n",
            "|  GPU   GI   CI        PID   Type   Process name                  GPU Memory |\n",
            "|        ID   ID                                                   Usage      |\n",
            "|=============================================================================|\n",
            "|  No running processes found                                                 |\n",
            "+-----------------------------------------------------------------------------+\n"
          ],
          "name": "stdout"
        }
      ]
    },
    {
      "cell_type": "code",
      "metadata": {
        "id": "HBrqlHIzT2Vr",
        "colab_type": "code",
        "colab": {
          "base_uri": "https://localhost:8080/",
          "height": 34
        },
        "outputId": "d0fe364d-2f1a-4389-bcff-db9d2d6cf832"
      },
      "source": [
        "!git clone https://github.com/KillerStrike17/PyDeNn.git"
      ],
      "execution_count": 1,
      "outputs": [
        {
          "output_type": "stream",
          "text": [
            "fatal: destination path 'PyDeNn' already exists and is not an empty directory.\n"
          ],
          "name": "stdout"
        }
      ]
    },
    {
      "cell_type": "code",
      "metadata": {
        "id": "w5ettgo8ZirZ",
        "colab_type": "code",
        "colab": {
          "base_uri": "https://localhost:8080/",
          "height": 34
        },
        "outputId": "d225f493-efe1-418f-b0a6-5b6f0e735bf3"
      },
      "source": [
        "%cd PyDeNn/"
      ],
      "execution_count": 1,
      "outputs": [
        {
          "output_type": "stream",
          "text": [
            "/content/PyDeNn\n"
          ],
          "name": "stdout"
        }
      ]
    },
    {
      "cell_type": "code",
      "metadata": {
        "id": "vh3r7LsMp5kk",
        "colab_type": "code",
        "colab": {}
      },
      "source": [
        "from DeNN.custom_model import Adv_conv\n",
        "from DeNN.dataset_loader import data_loader, data_augmentation\n",
        "from DeNN.trainer import trainer"
      ],
      "execution_count": 2,
      "outputs": []
    },
    {
      "cell_type": "code",
      "metadata": {
        "id": "XfceG1mAp_PF",
        "colab_type": "code",
        "colab": {}
      },
      "source": [
        "import torch,torchvision\n",
        "from torchsummary import summary\n",
        "import torch.nn as nn\n",
        "import torch.nn.functional as F\n",
        "import torch.optim as optim\n"
      ],
      "execution_count": 3,
      "outputs": []
    },
    {
      "cell_type": "code",
      "metadata": {
        "id": "RSJvk-LIqBn9",
        "colab_type": "code",
        "colab": {}
      },
      "source": [
        "DATA_PATH = 'data/'\n",
        "BATCH_SIZE =128"
      ],
      "execution_count": 4,
      "outputs": []
    },
    {
      "cell_type": "code",
      "metadata": {
        "id": "2bKxPtkBqDy1",
        "colab_type": "code",
        "colab": {
          "base_uri": "https://localhost:8080/",
          "height": 51
        },
        "outputId": "e74f3597-5c33-4ee7-e0e2-ee08f0a10098"
      },
      "source": [
        "my_transformations = data_augmentation.DataAugmentationCifar10()\n",
        "train, test = data_loader.DatasetCifar10(data_path = DATA_PATH,transformations = my_transformations,batch_size = BATCH_SIZE).load_data()"
      ],
      "execution_count": 5,
      "outputs": [
        {
          "output_type": "stream",
          "text": [
            "Files already downloaded and verified\n",
            "Files already downloaded and verified\n"
          ],
          "name": "stdout"
        }
      ]
    },
    {
      "cell_type": "code",
      "metadata": {
        "id": "XRrz2XGdqFag",
        "colab_type": "code",
        "colab": {}
      },
      "source": [
        "classes = ('plane', 'car', 'bird', 'cat',\n",
        "           'deer', 'dog', 'frog', 'horse', 'ship', 'truck')"
      ],
      "execution_count": 6,
      "outputs": []
    },
    {
      "cell_type": "markdown",
      "metadata": {
        "id": "iL_Y1c-w58dg",
        "colab_type": "text"
      },
      "source": [
        "# Version 1 - more than 1 m"
      ]
    },
    {
      "cell_type": "code",
      "metadata": {
        "id": "OhbZbDmTqKAn",
        "colab_type": "code",
        "colab": {
          "base_uri": "https://localhost:8080/",
          "height": 1000
        },
        "outputId": "f69298db-e217-4dec-c4c0-304a8f9d8484"
      },
      "source": [
        "use_cuda = torch.cuda.is_available()\n",
        "device = torch.device(\"cuda\" if use_cuda else \"cpu\")\n",
        "model = Adv_conv().to(device)\n",
        "summary(model,input_size=(3,32,32))"
      ],
      "execution_count": 8,
      "outputs": [
        {
          "output_type": "stream",
          "text": [
            "----------------------------------------------------------------\n",
            "        Layer (type)               Output Shape         Param #\n",
            "================================================================\n",
            "            Conv2d-1           [-1, 32, 32, 32]             896\n",
            "              ReLU-2           [-1, 32, 32, 32]               0\n",
            "       BatchNorm2d-3           [-1, 32, 32, 32]              64\n",
            "           Dropout-4           [-1, 32, 32, 32]               0\n",
            "            Conv2d-5           [-1, 32, 32, 32]           9,248\n",
            "              ReLU-6           [-1, 32, 32, 32]               0\n",
            "       BatchNorm2d-7           [-1, 32, 32, 32]              64\n",
            "           Dropout-8           [-1, 32, 32, 32]               0\n",
            "            Conv2d-9           [-1, 32, 32, 32]           9,248\n",
            "             ReLU-10           [-1, 32, 32, 32]               0\n",
            "      BatchNorm2d-11           [-1, 32, 32, 32]              64\n",
            "          Dropout-12           [-1, 32, 32, 32]               0\n",
            "           Conv2d-13           [-1, 16, 34, 34]             528\n",
            "        MaxPool2d-14           [-1, 16, 17, 17]               0\n",
            "           Conv2d-15           [-1, 64, 17, 17]           9,280\n",
            "             ReLU-16           [-1, 64, 17, 17]               0\n",
            "      BatchNorm2d-17           [-1, 64, 17, 17]             128\n",
            "          Dropout-18           [-1, 64, 17, 17]               0\n",
            "           Conv2d-19           [-1, 64, 17, 17]          36,928\n",
            "             ReLU-20           [-1, 64, 17, 17]               0\n",
            "      BatchNorm2d-21           [-1, 64, 17, 17]             128\n",
            "          Dropout-22           [-1, 64, 17, 17]               0\n",
            "           Conv2d-23           [-1, 64, 17, 17]          36,928\n",
            "             ReLU-24           [-1, 64, 17, 17]               0\n",
            "      BatchNorm2d-25           [-1, 64, 17, 17]             128\n",
            "          Dropout-26           [-1, 64, 17, 17]               0\n",
            "           Conv2d-27           [-1, 32, 19, 19]           2,080\n",
            "        MaxPool2d-28             [-1, 32, 9, 9]               0\n",
            "           Conv2d-29             [-1, 32, 9, 9]             320\n",
            "           Conv2d-30            [-1, 128, 9, 9]           4,224\n",
            "             ReLU-31            [-1, 128, 9, 9]               0\n",
            "      BatchNorm2d-32            [-1, 128, 9, 9]             256\n",
            "          Dropout-33            [-1, 128, 9, 9]               0\n",
            "           Conv2d-34            [-1, 128, 9, 9]         147,584\n",
            "             ReLU-35            [-1, 128, 9, 9]               0\n",
            "      BatchNorm2d-36            [-1, 128, 9, 9]             256\n",
            "          Dropout-37            [-1, 128, 9, 9]               0\n",
            "           Conv2d-38            [-1, 128, 9, 9]         147,584\n",
            "             ReLU-39            [-1, 128, 9, 9]               0\n",
            "      BatchNorm2d-40            [-1, 128, 9, 9]             256\n",
            "          Dropout-41            [-1, 128, 9, 9]               0\n",
            "           Conv2d-42           [-1, 64, 11, 11]           8,256\n",
            "        MaxPool2d-43             [-1, 64, 5, 5]               0\n",
            "           Conv2d-44            [-1, 256, 5, 5]         147,712\n",
            "             ReLU-45            [-1, 256, 5, 5]               0\n",
            "      BatchNorm2d-46            [-1, 256, 5, 5]             512\n",
            "          Dropout-47            [-1, 256, 5, 5]               0\n",
            "           Conv2d-48            [-1, 256, 5, 5]         590,080\n",
            "             ReLU-49            [-1, 256, 5, 5]               0\n",
            "      BatchNorm2d-50            [-1, 256, 5, 5]             512\n",
            "          Dropout-51            [-1, 256, 5, 5]               0\n",
            "           Conv2d-52            [-1, 256, 5, 5]         590,080\n",
            "             ReLU-53            [-1, 256, 5, 5]               0\n",
            "      BatchNorm2d-54            [-1, 256, 5, 5]             512\n",
            "          Dropout-55            [-1, 256, 5, 5]               0\n",
            "        AvgPool2d-56            [-1, 256, 1, 1]               0\n",
            "           Conv2d-57             [-1, 10, 1, 1]           2,570\n",
            "================================================================\n",
            "Total params: 1,746,426\n",
            "Trainable params: 1,746,426\n",
            "Non-trainable params: 0\n",
            "----------------------------------------------------------------\n",
            "Input size (MB): 0.01\n",
            "Forward/backward pass size (MB): 6.61\n",
            "Params size (MB): 6.66\n",
            "Estimated Total Size (MB): 13.28\n",
            "----------------------------------------------------------------\n"
          ],
          "name": "stdout"
        },
        {
          "output_type": "stream",
          "text": [
            "/content/PyDeNn/DeNN/custom_model/adv_conv.py:135: UserWarning: Implicit dimension choice for log_softmax has been deprecated. Change the call to include dim=X as an argument.\n",
            "  return F.log_softmax(x)\n"
          ],
          "name": "stderr"
        }
      ]
    },
    {
      "cell_type": "code",
      "metadata": {
        "id": "1WumPDrdqMcp",
        "colab_type": "code",
        "colab": {}
      },
      "source": [
        "criterion = nn.CrossEntropyLoss()\n",
        "optimizer = optim.SGD(model.parameters(), lr=0.001, momentum=0.9)"
      ],
      "execution_count": 9,
      "outputs": []
    },
    {
      "cell_type": "code",
      "metadata": {
        "id": "WOHFZhWovwZF",
        "colab_type": "code",
        "colab": {
          "base_uri": "https://localhost:8080/",
          "height": 34
        },
        "outputId": "a767cc69-8134-40f0-df06-410d2b45df75"
      },
      "source": [
        "device"
      ],
      "execution_count": 10,
      "outputs": [
        {
          "output_type": "execute_result",
          "data": {
            "text/plain": [
              "device(type='cuda')"
            ]
          },
          "metadata": {
            "tags": []
          },
          "execution_count": 10
        }
      ]
    },
    {
      "cell_type": "code",
      "metadata": {
        "id": "SzIeZ8tev1Bg",
        "colab_type": "code",
        "colab": {}
      },
      "source": [
        "trainer = trainer.Trainer( model =model , optimizer =optimizer , device =device , train_loader = train, test_loader = test,epochs = 100,criteria = criterion)"
      ],
      "execution_count": 11,
      "outputs": []
    },
    {
      "cell_type": "code",
      "metadata": {
        "id": "ZoHd4zATv3W-",
        "colab_type": "code",
        "colab": {
          "base_uri": "https://localhost:8080/",
          "height": 1000
        },
        "outputId": "0f98db98-c8e1-4658-ecaf-908f6746c6b5"
      },
      "source": [
        "(w,x),(y,z) = trainer.train()"
      ],
      "execution_count": 12,
      "outputs": [
        {
          "output_type": "stream",
          "text": [
            "  0%|          | 0/391 [00:00<?, ?it/s]/content/PyDeNn/DeNN/custom_model/adv_conv.py:135: UserWarning: Implicit dimension choice for log_softmax has been deprecated. Change the call to include dim=X as an argument.\n",
            "  return F.log_softmax(x)\n",
            "loss=1.7029190063476562 batch_id=390 Accuracy = 0.29022: 100%|██████████| 391/391 [00:32<00:00, 11.91it/s]\n",
            "loss=1.6064121723175049 batch_id=1 Accuracy = 0.00192:   1%|          | 2/391 [00:00<00:31, 12.23it/s]"
          ],
          "name": "stderr"
        },
        {
          "output_type": "stream",
          "text": [
            "\n",
            "Test set: Average loss: 0.0210, Accuracy: 2140/10000 (21.40%)\n",
            "\n"
          ],
          "name": "stdout"
        },
        {
          "output_type": "stream",
          "text": [
            "loss=1.5547292232513428 batch_id=390 Accuracy = 0.42674: 100%|██████████| 391/391 [00:32<00:00, 12.06it/s]\n",
            "loss=1.5145258903503418 batch_id=1 Accuracy = 0.00258:   1%|          | 2/391 [00:00<00:35, 10.82it/s]"
          ],
          "name": "stderr"
        },
        {
          "output_type": "stream",
          "text": [
            "\n",
            "Test set: Average loss: 0.0218, Accuracy: 1999/10000 (19.99%)\n",
            "\n"
          ],
          "name": "stdout"
        },
        {
          "output_type": "stream",
          "text": [
            "loss=1.4580657482147217 batch_id=390 Accuracy = 0.48946: 100%|██████████| 391/391 [00:32<00:00, 11.93it/s]\n",
            "loss=1.2579723596572876 batch_id=1 Accuracy = 0.00268:   1%|          | 2/391 [00:00<00:33, 11.78it/s]"
          ],
          "name": "stderr"
        },
        {
          "output_type": "stream",
          "text": [
            "\n",
            "Test set: Average loss: 0.0195, Accuracy: 2569/10000 (25.69%)\n",
            "\n"
          ],
          "name": "stdout"
        },
        {
          "output_type": "stream",
          "text": [
            "loss=1.1268656253814697 batch_id=390 Accuracy = 0.54694: 100%|██████████| 391/391 [00:32<00:00, 11.91it/s]\n",
            "loss=1.2224888801574707 batch_id=1 Accuracy = 0.00286:   1%|          | 2/391 [00:00<00:31, 12.22it/s]"
          ],
          "name": "stderr"
        },
        {
          "output_type": "stream",
          "text": [
            "\n",
            "Test set: Average loss: 0.0145, Accuracy: 3926/10000 (39.26%)\n",
            "\n"
          ],
          "name": "stdout"
        },
        {
          "output_type": "stream",
          "text": [
            "loss=1.2007695436477661 batch_id=390 Accuracy = 0.58476: 100%|██████████| 391/391 [00:32<00:00, 11.89it/s]\n",
            "loss=1.045634388923645 batch_id=1 Accuracy = 0.00304:   1%|          | 2/391 [00:00<00:32, 12.08it/s]"
          ],
          "name": "stderr"
        },
        {
          "output_type": "stream",
          "text": [
            "\n",
            "Test set: Average loss: 0.0114, Accuracy: 5155/10000 (51.55%)\n",
            "\n"
          ],
          "name": "stdout"
        },
        {
          "output_type": "stream",
          "text": [
            "loss=1.050130844116211 batch_id=390 Accuracy = 0.6131: 100%|██████████| 391/391 [00:32<00:00, 11.95it/s]\n",
            "loss=1.1144204139709473 batch_id=1 Accuracy = 0.00294:   1%|          | 2/391 [00:00<00:33, 11.66it/s]"
          ],
          "name": "stderr"
        },
        {
          "output_type": "stream",
          "text": [
            "\n",
            "Test set: Average loss: 0.0112, Accuracy: 5302/10000 (53.02%)\n",
            "\n"
          ],
          "name": "stdout"
        },
        {
          "output_type": "stream",
          "text": [
            "loss=1.0071051120758057 batch_id=390 Accuracy = 0.63314: 100%|██████████| 391/391 [00:32<00:00, 12.03it/s]\n",
            "loss=0.9033985733985901 batch_id=1 Accuracy = 0.00312:   1%|          | 2/391 [00:00<00:32, 11.83it/s]"
          ],
          "name": "stderr"
        },
        {
          "output_type": "stream",
          "text": [
            "\n",
            "Test set: Average loss: 0.0098, Accuracy: 5813/10000 (58.13%)\n",
            "\n"
          ],
          "name": "stdout"
        },
        {
          "output_type": "stream",
          "text": [
            "loss=0.7800067663192749 batch_id=390 Accuracy = 0.65068: 100%|██████████| 391/391 [00:32<00:00, 12.01it/s]\n",
            "loss=0.9302952885627747 batch_id=1 Accuracy = 0.00334:   1%|          | 2/391 [00:00<00:33, 11.69it/s]"
          ],
          "name": "stderr"
        },
        {
          "output_type": "stream",
          "text": [
            "\n",
            "Test set: Average loss: 0.0089, Accuracy: 6174/10000 (61.74%)\n",
            "\n"
          ],
          "name": "stdout"
        },
        {
          "output_type": "stream",
          "text": [
            "loss=1.1013675928115845 batch_id=390 Accuracy = 0.66348: 100%|██████████| 391/391 [00:32<00:00, 11.90it/s]\n",
            "loss=0.8614258170127869 batch_id=1 Accuracy = 0.00356:   1%|          | 2/391 [00:00<00:34, 11.41it/s]"
          ],
          "name": "stderr"
        },
        {
          "output_type": "stream",
          "text": [
            "\n",
            "Test set: Average loss: 0.0085, Accuracy: 6312/10000 (63.12%)\n",
            "\n"
          ],
          "name": "stdout"
        },
        {
          "output_type": "stream",
          "text": [
            "loss=0.8108981251716614 batch_id=390 Accuracy = 0.67628: 100%|██████████| 391/391 [00:32<00:00, 11.92it/s]\n",
            "loss=0.9029356241226196 batch_id=1 Accuracy = 0.00354:   1%|          | 2/391 [00:00<00:32, 12.09it/s]"
          ],
          "name": "stderr"
        },
        {
          "output_type": "stream",
          "text": [
            "\n",
            "Test set: Average loss: 0.0078, Accuracy: 6617/10000 (66.17%)\n",
            "\n"
          ],
          "name": "stdout"
        },
        {
          "output_type": "stream",
          "text": [
            "loss=0.7562905550003052 batch_id=390 Accuracy = 0.69108: 100%|██████████| 391/391 [00:32<00:00, 12.10it/s]\n",
            "loss=0.8335373401641846 batch_id=1 Accuracy = 0.00378:   1%|          | 2/391 [00:00<00:32, 12.01it/s]"
          ],
          "name": "stderr"
        },
        {
          "output_type": "stream",
          "text": [
            "\n",
            "Test set: Average loss: 0.0072, Accuracy: 6918/10000 (69.18%)\n",
            "\n"
          ],
          "name": "stdout"
        },
        {
          "output_type": "stream",
          "text": [
            "loss=0.9347565770149231 batch_id=390 Accuracy = 0.70094: 100%|██████████| 391/391 [00:32<00:00, 11.97it/s]\n",
            "loss=0.8801926970481873 batch_id=1 Accuracy = 0.00366:   1%|          | 2/391 [00:00<00:33, 11.58it/s]"
          ],
          "name": "stderr"
        },
        {
          "output_type": "stream",
          "text": [
            "\n",
            "Test set: Average loss: 0.0073, Accuracy: 6882/10000 (68.82%)\n",
            "\n"
          ],
          "name": "stdout"
        },
        {
          "output_type": "stream",
          "text": [
            "loss=0.7873669862747192 batch_id=390 Accuracy = 0.71144: 100%|██████████| 391/391 [00:33<00:00, 11.80it/s]\n",
            "loss=0.8468683958053589 batch_id=1 Accuracy = 0.00338:   1%|          | 2/391 [00:00<00:31, 12.21it/s]"
          ],
          "name": "stderr"
        },
        {
          "output_type": "stream",
          "text": [
            "\n",
            "Test set: Average loss: 0.0072, Accuracy: 6992/10000 (69.92%)\n",
            "\n"
          ],
          "name": "stdout"
        },
        {
          "output_type": "stream",
          "text": [
            "loss=0.6812146306037903 batch_id=390 Accuracy = 0.71998: 100%|██████████| 391/391 [00:32<00:00, 11.94it/s]\n",
            "loss=0.8009316921234131 batch_id=1 Accuracy = 0.00378:   1%|          | 2/391 [00:00<00:33, 11.76it/s]"
          ],
          "name": "stderr"
        },
        {
          "output_type": "stream",
          "text": [
            "\n",
            "Test set: Average loss: 0.0066, Accuracy: 7240/10000 (72.40%)\n",
            "\n"
          ],
          "name": "stdout"
        },
        {
          "output_type": "stream",
          "text": [
            "loss=0.8450779914855957 batch_id=390 Accuracy = 0.72842: 100%|██████████| 391/391 [00:32<00:00, 11.88it/s]\n",
            "loss=0.7587988376617432 batch_id=1 Accuracy = 0.00382:   1%|          | 2/391 [00:00<00:34, 11.21it/s]"
          ],
          "name": "stderr"
        },
        {
          "output_type": "stream",
          "text": [
            "\n",
            "Test set: Average loss: 0.0067, Accuracy: 7219/10000 (72.19%)\n",
            "\n"
          ],
          "name": "stdout"
        },
        {
          "output_type": "stream",
          "text": [
            "loss=0.6701537370681763 batch_id=390 Accuracy = 0.736: 100%|██████████| 391/391 [00:32<00:00, 12.04it/s]\n",
            "loss=0.689362108707428 batch_id=1 Accuracy = 0.00376:   1%|          | 2/391 [00:00<00:33, 11.55it/s]"
          ],
          "name": "stderr"
        },
        {
          "output_type": "stream",
          "text": [
            "\n",
            "Test set: Average loss: 0.0067, Accuracy: 7143/10000 (71.43%)\n",
            "\n"
          ],
          "name": "stdout"
        },
        {
          "output_type": "stream",
          "text": [
            "loss=0.6151853799819946 batch_id=390 Accuracy = 0.74196: 100%|██████████| 391/391 [00:32<00:00, 11.96it/s]\n",
            "loss=0.7705225944519043 batch_id=1 Accuracy = 0.00376:   1%|          | 2/391 [00:00<00:34, 11.33it/s]"
          ],
          "name": "stderr"
        },
        {
          "output_type": "stream",
          "text": [
            "\n",
            "Test set: Average loss: 0.0061, Accuracy: 7374/10000 (73.74%)\n",
            "\n"
          ],
          "name": "stdout"
        },
        {
          "output_type": "stream",
          "text": [
            "loss=0.8281301259994507 batch_id=390 Accuracy = 0.74896: 100%|██████████| 391/391 [00:32<00:00, 12.07it/s]\n",
            "loss=0.8124158382415771 batch_id=1 Accuracy = 0.00366:   1%|          | 2/391 [00:00<00:34, 11.40it/s]"
          ],
          "name": "stderr"
        },
        {
          "output_type": "stream",
          "text": [
            "\n",
            "Test set: Average loss: 0.0060, Accuracy: 7442/10000 (74.42%)\n",
            "\n"
          ],
          "name": "stdout"
        },
        {
          "output_type": "stream",
          "text": [
            "loss=0.797981321811676 batch_id=390 Accuracy = 0.75494: 100%|██████████| 391/391 [00:32<00:00, 12.06it/s]\n",
            "loss=0.6874731779098511 batch_id=1 Accuracy = 0.00382:   1%|          | 2/391 [00:00<00:33, 11.49it/s]"
          ],
          "name": "stderr"
        },
        {
          "output_type": "stream",
          "text": [
            "\n",
            "Test set: Average loss: 0.0061, Accuracy: 7464/10000 (74.64%)\n",
            "\n"
          ],
          "name": "stdout"
        },
        {
          "output_type": "stream",
          "text": [
            "loss=0.598737359046936 batch_id=390 Accuracy = 0.75752: 100%|██████████| 391/391 [00:32<00:00, 12.01it/s]\n",
            "loss=0.6249533295631409 batch_id=1 Accuracy = 0.00396:   1%|          | 2/391 [00:00<00:32, 11.96it/s]"
          ],
          "name": "stderr"
        },
        {
          "output_type": "stream",
          "text": [
            "\n",
            "Test set: Average loss: 0.0061, Accuracy: 7474/10000 (74.74%)\n",
            "\n"
          ],
          "name": "stdout"
        },
        {
          "output_type": "stream",
          "text": [
            "loss=0.6539493203163147 batch_id=390 Accuracy = 0.76666: 100%|██████████| 391/391 [00:32<00:00, 12.01it/s]\n",
            "loss=0.7400784492492676 batch_id=1 Accuracy = 0.00386:   1%|          | 2/391 [00:00<00:32, 12.03it/s]"
          ],
          "name": "stderr"
        },
        {
          "output_type": "stream",
          "text": [
            "\n",
            "Test set: Average loss: 0.0059, Accuracy: 7601/10000 (76.01%)\n",
            "\n"
          ],
          "name": "stdout"
        },
        {
          "output_type": "stream",
          "text": [
            "loss=0.47036013007164 batch_id=390 Accuracy = 0.7685: 100%|██████████| 391/391 [00:32<00:00, 12.01it/s]\n",
            "loss=0.45513686537742615 batch_id=1 Accuracy = 0.0042:   1%|          | 2/391 [00:00<00:31, 12.49it/s]"
          ],
          "name": "stderr"
        },
        {
          "output_type": "stream",
          "text": [
            "\n",
            "Test set: Average loss: 0.0057, Accuracy: 7628/10000 (76.28%)\n",
            "\n"
          ],
          "name": "stdout"
        },
        {
          "output_type": "stream",
          "text": [
            "loss=0.6651860475540161 batch_id=390 Accuracy = 0.77394: 100%|██████████| 391/391 [00:32<00:00, 11.93it/s]\n",
            "loss=0.653248131275177 batch_id=1 Accuracy = 0.00376:   1%|          | 2/391 [00:00<00:32, 12.02it/s]"
          ],
          "name": "stderr"
        },
        {
          "output_type": "stream",
          "text": [
            "\n",
            "Test set: Average loss: 0.0061, Accuracy: 7484/10000 (74.84%)\n",
            "\n"
          ],
          "name": "stdout"
        },
        {
          "output_type": "stream",
          "text": [
            "loss=0.6543861627578735 batch_id=390 Accuracy = 0.77748: 100%|██████████| 391/391 [00:32<00:00, 12.03it/s]\n",
            "loss=0.6663615703582764 batch_id=1 Accuracy = 0.00394:   1%|          | 2/391 [00:00<00:31, 12.43it/s]"
          ],
          "name": "stderr"
        },
        {
          "output_type": "stream",
          "text": [
            "\n",
            "Test set: Average loss: 0.0058, Accuracy: 7608/10000 (76.08%)\n",
            "\n"
          ],
          "name": "stdout"
        },
        {
          "output_type": "stream",
          "text": [
            "loss=0.4868582785129547 batch_id=390 Accuracy = 0.78122: 100%|██████████| 391/391 [00:32<00:00, 12.05it/s]\n",
            "loss=0.7039422988891602 batch_id=1 Accuracy = 0.0041:   1%|          | 2/391 [00:00<00:31, 12.18it/s]"
          ],
          "name": "stderr"
        },
        {
          "output_type": "stream",
          "text": [
            "\n",
            "Test set: Average loss: 0.0054, Accuracy: 7746/10000 (77.46%)\n",
            "\n"
          ],
          "name": "stdout"
        },
        {
          "output_type": "stream",
          "text": [
            "loss=0.7767491340637207 batch_id=390 Accuracy = 0.78552: 100%|██████████| 391/391 [00:32<00:00, 11.92it/s]\n",
            "loss=0.6129675507545471 batch_id=1 Accuracy = 0.00414:   1%|          | 2/391 [00:00<00:32, 11.86it/s]"
          ],
          "name": "stderr"
        },
        {
          "output_type": "stream",
          "text": [
            "\n",
            "Test set: Average loss: 0.0050, Accuracy: 7890/10000 (78.90%)\n",
            "\n"
          ],
          "name": "stdout"
        },
        {
          "output_type": "stream",
          "text": [
            "loss=0.3895197808742523 batch_id=390 Accuracy = 0.7884: 100%|██████████| 391/391 [00:32<00:00, 12.08it/s]\n",
            "loss=0.5526982545852661 batch_id=1 Accuracy = 0.00412:   1%|          | 2/391 [00:00<00:34, 11.25it/s]"
          ],
          "name": "stderr"
        },
        {
          "output_type": "stream",
          "text": [
            "\n",
            "Test set: Average loss: 0.0054, Accuracy: 7768/10000 (77.68%)\n",
            "\n"
          ],
          "name": "stdout"
        },
        {
          "output_type": "stream",
          "text": [
            "loss=0.9603286981582642 batch_id=390 Accuracy = 0.7927: 100%|██████████| 391/391 [00:32<00:00, 11.97it/s]\n",
            "loss=0.475587397813797 batch_id=1 Accuracy = 0.00416:   1%|          | 2/391 [00:00<00:34, 11.31it/s]"
          ],
          "name": "stderr"
        },
        {
          "output_type": "stream",
          "text": [
            "\n",
            "Test set: Average loss: 0.0055, Accuracy: 7764/10000 (77.64%)\n",
            "\n"
          ],
          "name": "stdout"
        },
        {
          "output_type": "stream",
          "text": [
            "loss=0.6336528062820435 batch_id=390 Accuracy = 0.79536: 100%|██████████| 391/391 [00:32<00:00, 12.04it/s]\n",
            "loss=0.5151844024658203 batch_id=1 Accuracy = 0.0042:   1%|          | 2/391 [00:00<00:36, 10.57it/s]"
          ],
          "name": "stderr"
        },
        {
          "output_type": "stream",
          "text": [
            "\n",
            "Test set: Average loss: 0.0055, Accuracy: 7739/10000 (77.39%)\n",
            "\n"
          ],
          "name": "stdout"
        },
        {
          "output_type": "stream",
          "text": [
            "loss=0.42959603667259216 batch_id=390 Accuracy = 0.79696: 100%|██████████| 391/391 [00:32<00:00, 12.00it/s]\n",
            "loss=0.7244511842727661 batch_id=1 Accuracy = 0.00386:   1%|          | 2/391 [00:00<00:34, 11.19it/s]"
          ],
          "name": "stderr"
        },
        {
          "output_type": "stream",
          "text": [
            "\n",
            "Test set: Average loss: 0.0056, Accuracy: 7713/10000 (77.13%)\n",
            "\n"
          ],
          "name": "stdout"
        },
        {
          "output_type": "stream",
          "text": [
            "loss=0.7970091104507446 batch_id=390 Accuracy = 0.80108: 100%|██████████| 391/391 [00:32<00:00, 11.97it/s]\n",
            "loss=0.5385023951530457 batch_id=1 Accuracy = 0.0042:   1%|          | 2/391 [00:00<00:37, 10.51it/s]"
          ],
          "name": "stderr"
        },
        {
          "output_type": "stream",
          "text": [
            "\n",
            "Test set: Average loss: 0.0053, Accuracy: 7840/10000 (78.40%)\n",
            "\n"
          ],
          "name": "stdout"
        },
        {
          "output_type": "stream",
          "text": [
            "loss=0.5176911950111389 batch_id=390 Accuracy = 0.80364: 100%|██████████| 391/391 [00:32<00:00, 11.97it/s]\n",
            "loss=0.4677354097366333 batch_id=1 Accuracy = 0.00422:   1%|          | 2/391 [00:00<00:32, 11.82it/s]"
          ],
          "name": "stderr"
        },
        {
          "output_type": "stream",
          "text": [
            "\n",
            "Test set: Average loss: 0.0052, Accuracy: 7908/10000 (79.08%)\n",
            "\n"
          ],
          "name": "stdout"
        },
        {
          "output_type": "stream",
          "text": [
            "loss=0.46791404485702515 batch_id=390 Accuracy = 0.80584: 100%|██████████| 391/391 [00:32<00:00, 12.04it/s]\n",
            "loss=0.6160236597061157 batch_id=1 Accuracy = 0.0041:   1%|          | 2/391 [00:00<00:32, 12.01it/s]"
          ],
          "name": "stderr"
        },
        {
          "output_type": "stream",
          "text": [
            "\n",
            "Test set: Average loss: 0.0051, Accuracy: 7902/10000 (79.02%)\n",
            "\n"
          ],
          "name": "stdout"
        },
        {
          "output_type": "stream",
          "text": [
            "loss=0.6414509415626526 batch_id=390 Accuracy = 0.80782: 100%|██████████| 391/391 [00:32<00:00, 11.97it/s]\n",
            "loss=0.5754732489585876 batch_id=1 Accuracy = 0.00394:   1%|          | 2/391 [00:00<00:32, 11.97it/s]"
          ],
          "name": "stderr"
        },
        {
          "output_type": "stream",
          "text": [
            "\n",
            "Test set: Average loss: 0.0050, Accuracy: 7959/10000 (79.59%)\n",
            "\n"
          ],
          "name": "stdout"
        },
        {
          "output_type": "stream",
          "text": [
            "loss=0.6112569570541382 batch_id=390 Accuracy = 0.809: 100%|██████████| 391/391 [00:33<00:00, 11.80it/s]\n",
            "loss=0.6667322516441345 batch_id=1 Accuracy = 0.004:   1%|          | 2/391 [00:00<00:31, 12.23it/s]"
          ],
          "name": "stderr"
        },
        {
          "output_type": "stream",
          "text": [
            "\n",
            "Test set: Average loss: 0.0049, Accuracy: 7998/10000 (79.98%)\n",
            "\n"
          ],
          "name": "stdout"
        },
        {
          "output_type": "stream",
          "text": [
            "loss=0.7297772169113159 batch_id=390 Accuracy = 0.81224: 100%|██████████| 391/391 [00:32<00:00, 11.96it/s]\n",
            "loss=0.45497915148735046 batch_id=1 Accuracy = 0.00414:   1%|          | 2/391 [00:00<00:36, 10.75it/s]"
          ],
          "name": "stderr"
        },
        {
          "output_type": "stream",
          "text": [
            "\n",
            "Test set: Average loss: 0.0050, Accuracy: 7973/10000 (79.73%)\n",
            "\n"
          ],
          "name": "stdout"
        },
        {
          "output_type": "stream",
          "text": [
            "loss=0.4688192307949066 batch_id=390 Accuracy = 0.81416: 100%|██████████| 391/391 [00:32<00:00, 11.92it/s]\n",
            "loss=0.5586368441581726 batch_id=1 Accuracy = 0.00398:   1%|          | 2/391 [00:00<00:34, 11.18it/s]"
          ],
          "name": "stderr"
        },
        {
          "output_type": "stream",
          "text": [
            "\n",
            "Test set: Average loss: 0.0048, Accuracy: 8046/10000 (80.46%)\n",
            "\n"
          ],
          "name": "stdout"
        },
        {
          "output_type": "stream",
          "text": [
            "loss=0.6275001168251038 batch_id=390 Accuracy = 0.81556: 100%|██████████| 391/391 [00:32<00:00, 11.88it/s]\n",
            "loss=0.5809367299079895 batch_id=1 Accuracy = 0.0041:   1%|          | 2/391 [00:00<00:36, 10.69it/s]"
          ],
          "name": "stderr"
        },
        {
          "output_type": "stream",
          "text": [
            "\n",
            "Test set: Average loss: 0.0053, Accuracy: 7886/10000 (78.86%)\n",
            "\n"
          ],
          "name": "stdout"
        },
        {
          "output_type": "stream",
          "text": [
            "loss=0.401723712682724 batch_id=390 Accuracy = 0.81832: 100%|██████████| 391/391 [00:32<00:00, 12.00it/s]\n",
            "loss=0.4554593861103058 batch_id=1 Accuracy = 0.00452:   1%|          | 2/391 [00:00<00:34, 11.25it/s]"
          ],
          "name": "stderr"
        },
        {
          "output_type": "stream",
          "text": [
            "\n",
            "Test set: Average loss: 0.0047, Accuracy: 8092/10000 (80.92%)\n",
            "\n"
          ],
          "name": "stdout"
        },
        {
          "output_type": "stream",
          "text": [
            "loss=0.5597773790359497 batch_id=390 Accuracy = 0.81912: 100%|██████████| 391/391 [00:32<00:00, 12.02it/s]\n",
            "loss=0.5300115346908569 batch_id=1 Accuracy = 0.00428:   1%|          | 2/391 [00:00<00:33, 11.65it/s]"
          ],
          "name": "stderr"
        },
        {
          "output_type": "stream",
          "text": [
            "\n",
            "Test set: Average loss: 0.0048, Accuracy: 8052/10000 (80.52%)\n",
            "\n"
          ],
          "name": "stdout"
        },
        {
          "output_type": "stream",
          "text": [
            "loss=0.46610885858535767 batch_id=390 Accuracy = 0.82178: 100%|██████████| 391/391 [00:32<00:00, 12.04it/s]\n",
            "loss=0.5395296216011047 batch_id=1 Accuracy = 0.00438:   1%|          | 2/391 [00:00<00:34, 11.17it/s]"
          ],
          "name": "stderr"
        },
        {
          "output_type": "stream",
          "text": [
            "\n",
            "Test set: Average loss: 0.0044, Accuracy: 8203/10000 (82.03%)\n",
            "\n"
          ],
          "name": "stdout"
        },
        {
          "output_type": "stream",
          "text": [
            "loss=0.5374360680580139 batch_id=390 Accuracy = 0.82358: 100%|██████████| 391/391 [00:33<00:00, 11.81it/s]\n",
            "loss=0.4045921564102173 batch_id=1 Accuracy = 0.00438:   1%|          | 2/391 [00:00<00:32, 12.07it/s]"
          ],
          "name": "stderr"
        },
        {
          "output_type": "stream",
          "text": [
            "\n",
            "Test set: Average loss: 0.0048, Accuracy: 8115/10000 (81.15%)\n",
            "\n"
          ],
          "name": "stdout"
        },
        {
          "output_type": "stream",
          "text": [
            "loss=0.39909836649894714 batch_id=390 Accuracy = 0.82728: 100%|██████████| 391/391 [00:32<00:00, 11.89it/s]\n",
            "loss=0.36969059705734253 batch_id=1 Accuracy = 0.00432:   1%|          | 2/391 [00:00<00:33, 11.58it/s]"
          ],
          "name": "stderr"
        },
        {
          "output_type": "stream",
          "text": [
            "\n",
            "Test set: Average loss: 0.0046, Accuracy: 8136/10000 (81.36%)\n",
            "\n"
          ],
          "name": "stdout"
        },
        {
          "output_type": "stream",
          "text": [
            "loss=0.5802913904190063 batch_id=390 Accuracy = 0.82864: 100%|██████████| 391/391 [00:32<00:00, 12.00it/s]\n",
            "loss=0.5677458047866821 batch_id=1 Accuracy = 0.00424:   1%|          | 2/391 [00:00<00:32, 11.95it/s]"
          ],
          "name": "stderr"
        },
        {
          "output_type": "stream",
          "text": [
            "\n",
            "Test set: Average loss: 0.0043, Accuracy: 8256/10000 (82.56%)\n",
            "\n"
          ],
          "name": "stdout"
        },
        {
          "output_type": "stream",
          "text": [
            "loss=0.5591230392456055 batch_id=390 Accuracy = 0.82736: 100%|██████████| 391/391 [00:33<00:00, 11.70it/s]\n",
            "loss=0.5117274522781372 batch_id=1 Accuracy = 0.00432:   1%|          | 2/391 [00:00<00:31, 12.20it/s]"
          ],
          "name": "stderr"
        },
        {
          "output_type": "stream",
          "text": [
            "\n",
            "Test set: Average loss: 0.0050, Accuracy: 8026/10000 (80.26%)\n",
            "\n"
          ],
          "name": "stdout"
        },
        {
          "output_type": "stream",
          "text": [
            "loss=0.5305452346801758 batch_id=390 Accuracy = 0.83188: 100%|██████████| 391/391 [00:33<00:00, 11.82it/s]\n",
            "loss=0.37504181265830994 batch_id=1 Accuracy = 0.00434:   1%|          | 2/391 [00:00<00:34, 11.38it/s]"
          ],
          "name": "stderr"
        },
        {
          "output_type": "stream",
          "text": [
            "\n",
            "Test set: Average loss: 0.0043, Accuracy: 8245/10000 (82.45%)\n",
            "\n"
          ],
          "name": "stdout"
        },
        {
          "output_type": "stream",
          "text": [
            "loss=0.41966670751571655 batch_id=390 Accuracy = 0.83182: 100%|██████████| 391/391 [00:32<00:00, 12.12it/s]\n",
            "loss=0.39722689986228943 batch_id=1 Accuracy = 0.00434:   1%|          | 2/391 [00:00<00:32, 12.00it/s]"
          ],
          "name": "stderr"
        },
        {
          "output_type": "stream",
          "text": [
            "\n",
            "Test set: Average loss: 0.0047, Accuracy: 8111/10000 (81.11%)\n",
            "\n"
          ],
          "name": "stdout"
        },
        {
          "output_type": "stream",
          "text": [
            "loss=0.5433651208877563 batch_id=390 Accuracy = 0.83572: 100%|██████████| 391/391 [00:33<00:00, 11.82it/s]\n",
            "loss=0.4213876724243164 batch_id=1 Accuracy = 0.00424:   1%|          | 2/391 [00:00<00:32, 12.06it/s]"
          ],
          "name": "stderr"
        },
        {
          "output_type": "stream",
          "text": [
            "\n",
            "Test set: Average loss: 0.0046, Accuracy: 8188/10000 (81.88%)\n",
            "\n"
          ],
          "name": "stdout"
        },
        {
          "output_type": "stream",
          "text": [
            "loss=0.66683030128479 batch_id=390 Accuracy = 0.83602: 100%|██████████| 391/391 [00:32<00:00, 12.02it/s]\n",
            "loss=0.5052576661109924 batch_id=1 Accuracy = 0.00422:   1%|          | 2/391 [00:00<00:34, 11.25it/s]"
          ],
          "name": "stderr"
        },
        {
          "output_type": "stream",
          "text": [
            "\n",
            "Test set: Average loss: 0.0046, Accuracy: 8166/10000 (81.66%)\n",
            "\n"
          ],
          "name": "stdout"
        },
        {
          "output_type": "stream",
          "text": [
            "loss=0.5890800356864929 batch_id=390 Accuracy = 0.83588: 100%|██████████| 391/391 [00:32<00:00, 11.87it/s]\n",
            "loss=0.46074795722961426 batch_id=1 Accuracy = 0.00438:   1%|          | 2/391 [00:00<00:32, 11.83it/s]"
          ],
          "name": "stderr"
        },
        {
          "output_type": "stream",
          "text": [
            "\n",
            "Test set: Average loss: 0.0043, Accuracy: 8277/10000 (82.77%)\n",
            "\n"
          ],
          "name": "stdout"
        },
        {
          "output_type": "stream",
          "text": [
            "loss=0.4389529228210449 batch_id=390 Accuracy = 0.83646: 100%|██████████| 391/391 [00:32<00:00, 11.91it/s]\n",
            "loss=0.6246801018714905 batch_id=1 Accuracy = 0.00404:   1%|          | 2/391 [00:00<00:33, 11.65it/s]"
          ],
          "name": "stderr"
        },
        {
          "output_type": "stream",
          "text": [
            "\n",
            "Test set: Average loss: 0.0044, Accuracy: 8233/10000 (82.33%)\n",
            "\n"
          ],
          "name": "stdout"
        },
        {
          "output_type": "stream",
          "text": [
            "loss=0.46751275658607483 batch_id=390 Accuracy = 0.84054: 100%|██████████| 391/391 [00:32<00:00, 11.88it/s]\n",
            "loss=0.4946647584438324 batch_id=1 Accuracy = 0.00428:   1%|          | 2/391 [00:00<00:31, 12.21it/s]"
          ],
          "name": "stderr"
        },
        {
          "output_type": "stream",
          "text": [
            "\n",
            "Test set: Average loss: 0.0047, Accuracy: 8181/10000 (81.81%)\n",
            "\n"
          ],
          "name": "stdout"
        },
        {
          "output_type": "stream",
          "text": [
            "loss=0.33908379077911377 batch_id=390 Accuracy = 0.8386: 100%|██████████| 391/391 [00:32<00:00, 11.87it/s]\n",
            "loss=0.3591029942035675 batch_id=1 Accuracy = 0.00458:   1%|          | 2/391 [00:00<00:31, 12.22it/s]"
          ],
          "name": "stderr"
        },
        {
          "output_type": "stream",
          "text": [
            "\n",
            "Test set: Average loss: 0.0043, Accuracy: 8241/10000 (82.41%)\n",
            "\n"
          ],
          "name": "stdout"
        },
        {
          "output_type": "stream",
          "text": [
            "loss=0.4390594959259033 batch_id=390 Accuracy = 0.84404: 100%|██████████| 391/391 [00:32<00:00, 11.90it/s]\n",
            "loss=0.3490666151046753 batch_id=1 Accuracy = 0.00452:   1%|          | 2/391 [00:00<00:37, 10.46it/s]"
          ],
          "name": "stderr"
        },
        {
          "output_type": "stream",
          "text": [
            "\n",
            "Test set: Average loss: 0.0043, Accuracy: 8329/10000 (83.29%)\n",
            "\n"
          ],
          "name": "stdout"
        },
        {
          "output_type": "stream",
          "text": [
            "loss=0.5241873264312744 batch_id=390 Accuracy = 0.84246: 100%|██████████| 391/391 [00:32<00:00, 11.97it/s]\n",
            "loss=0.4345899224281311 batch_id=1 Accuracy = 0.00434:   1%|          | 2/391 [00:00<00:31, 12.23it/s]"
          ],
          "name": "stderr"
        },
        {
          "output_type": "stream",
          "text": [
            "\n",
            "Test set: Average loss: 0.0044, Accuracy: 8284/10000 (82.84%)\n",
            "\n"
          ],
          "name": "stdout"
        },
        {
          "output_type": "stream",
          "text": [
            "loss=0.5118389129638672 batch_id=390 Accuracy = 0.84486: 100%|██████████| 391/391 [00:32<00:00, 11.93it/s]\n",
            "loss=0.4846060276031494 batch_id=1 Accuracy = 0.00442:   1%|          | 2/391 [00:00<00:31, 12.24it/s]"
          ],
          "name": "stderr"
        },
        {
          "output_type": "stream",
          "text": [
            "\n",
            "Test set: Average loss: 0.0044, Accuracy: 8310/10000 (83.10%)\n",
            "\n"
          ],
          "name": "stdout"
        },
        {
          "output_type": "stream",
          "text": [
            "loss=0.6065661311149597 batch_id=72 Accuracy = 0.15818:  18%|█▊        | 72/391 [00:06<00:27, 11.50it/s]"
          ],
          "name": "stderr"
        },
        {
          "output_type": "error",
          "ename": "KeyboardInterrupt",
          "evalue": "ignored",
          "traceback": [
            "\u001b[0;31m---------------------------------------------------------------------------\u001b[0m",
            "\u001b[0;31mKeyboardInterrupt\u001b[0m                         Traceback (most recent call last)",
            "\u001b[0;32m<ipython-input-12-f83e335ac3d5>\u001b[0m in \u001b[0;36m<module>\u001b[0;34m()\u001b[0m\n\u001b[0;32m----> 1\u001b[0;31m \u001b[0;34m(\u001b[0m\u001b[0mw\u001b[0m\u001b[0;34m,\u001b[0m\u001b[0mx\u001b[0m\u001b[0;34m)\u001b[0m\u001b[0;34m,\u001b[0m\u001b[0;34m(\u001b[0m\u001b[0my\u001b[0m\u001b[0;34m,\u001b[0m\u001b[0mz\u001b[0m\u001b[0;34m)\u001b[0m \u001b[0;34m=\u001b[0m \u001b[0mtrainer\u001b[0m\u001b[0;34m.\u001b[0m\u001b[0mtrain\u001b[0m\u001b[0;34m(\u001b[0m\u001b[0;34m)\u001b[0m\u001b[0;34m\u001b[0m\u001b[0;34m\u001b[0m\u001b[0m\n\u001b[0m",
            "\u001b[0;32m/content/PyDeNn/DeNN/base/base_trainer.py\u001b[0m in \u001b[0;36mtrain\u001b[0;34m(self)\u001b[0m\n\u001b[1;32m     21\u001b[0m \u001b[0;34m\u001b[0m\u001b[0m\n\u001b[1;32m     22\u001b[0m         \u001b[0;32mfor\u001b[0m \u001b[0mepoch\u001b[0m \u001b[0;32min\u001b[0m \u001b[0mrange\u001b[0m\u001b[0;34m(\u001b[0m\u001b[0mself\u001b[0m\u001b[0;34m.\u001b[0m\u001b[0mepochs\u001b[0m\u001b[0;34m)\u001b[0m\u001b[0;34m:\u001b[0m\u001b[0;34m\u001b[0m\u001b[0;34m\u001b[0m\u001b[0m\n\u001b[0;32m---> 23\u001b[0;31m             \u001b[0mtrain_results\u001b[0m \u001b[0;34m=\u001b[0m \u001b[0mself\u001b[0m\u001b[0;34m.\u001b[0m\u001b[0m_train_epoch\u001b[0m\u001b[0;34m(\u001b[0m\u001b[0mepoch\u001b[0m\u001b[0;34m)\u001b[0m\u001b[0;34m\u001b[0m\u001b[0;34m\u001b[0m\u001b[0m\n\u001b[0m\u001b[1;32m     24\u001b[0m             \u001b[0mtest_results\u001b[0m \u001b[0;34m=\u001b[0m \u001b[0mself\u001b[0m\u001b[0;34m.\u001b[0m\u001b[0m_test_epoch\u001b[0m\u001b[0;34m(\u001b[0m\u001b[0mepoch\u001b[0m\u001b[0;34m)\u001b[0m\u001b[0;34m\u001b[0m\u001b[0;34m\u001b[0m\u001b[0m\n\u001b[1;32m     25\u001b[0m             \u001b[0mtrain_accuracy\u001b[0m\u001b[0;34m.\u001b[0m\u001b[0mextend\u001b[0m\u001b[0;34m(\u001b[0m\u001b[0mtrain_results\u001b[0m\u001b[0;34m[\u001b[0m\u001b[0;36m0\u001b[0m\u001b[0;34m]\u001b[0m\u001b[0;34m)\u001b[0m\u001b[0;34m\u001b[0m\u001b[0;34m\u001b[0m\u001b[0m\n",
            "\u001b[0;32m/content/PyDeNn/DeNN/trainer/trainer.py\u001b[0m in \u001b[0;36m_train_epoch\u001b[0;34m(self, epoch)\u001b[0m\n\u001b[1;32m     28\u001b[0m             \u001b[0mself\u001b[0m\u001b[0;34m.\u001b[0m\u001b[0moptimizer\u001b[0m\u001b[0;34m.\u001b[0m\u001b[0mstep\u001b[0m\u001b[0;34m(\u001b[0m\u001b[0;34m)\u001b[0m\u001b[0;34m\u001b[0m\u001b[0;34m\u001b[0m\u001b[0m\n\u001b[1;32m     29\u001b[0m             \u001b[0mpred\u001b[0m \u001b[0;34m=\u001b[0m \u001b[0moutput\u001b[0m\u001b[0;34m.\u001b[0m\u001b[0margmax\u001b[0m\u001b[0;34m(\u001b[0m\u001b[0mdim\u001b[0m\u001b[0;34m=\u001b[0m\u001b[0;36m1\u001b[0m\u001b[0;34m,\u001b[0m\u001b[0mkeepdim\u001b[0m\u001b[0;34m=\u001b[0m\u001b[0;32mTrue\u001b[0m\u001b[0;34m)\u001b[0m\u001b[0;34m\u001b[0m\u001b[0;34m\u001b[0m\u001b[0m\n\u001b[0;32m---> 30\u001b[0;31m             \u001b[0mcorrect\u001b[0m \u001b[0;34m+=\u001b[0m \u001b[0mpred\u001b[0m\u001b[0;34m.\u001b[0m\u001b[0meq\u001b[0m\u001b[0;34m(\u001b[0m\u001b[0mtarget\u001b[0m\u001b[0;34m.\u001b[0m\u001b[0mview_as\u001b[0m\u001b[0;34m(\u001b[0m\u001b[0mpred\u001b[0m\u001b[0;34m)\u001b[0m\u001b[0;34m)\u001b[0m\u001b[0;34m.\u001b[0m\u001b[0msum\u001b[0m\u001b[0;34m(\u001b[0m\u001b[0;34m)\u001b[0m\u001b[0;34m.\u001b[0m\u001b[0mitem\u001b[0m\u001b[0;34m(\u001b[0m\u001b[0;34m)\u001b[0m\u001b[0;34m\u001b[0m\u001b[0;34m\u001b[0m\u001b[0m\n\u001b[0m\u001b[1;32m     31\u001b[0m             \u001b[0mpbar\u001b[0m\u001b[0;34m.\u001b[0m\u001b[0mset_description\u001b[0m\u001b[0;34m(\u001b[0m\u001b[0mdesc\u001b[0m\u001b[0;34m=\u001b[0m \u001b[0;34mf'loss={loss.item()} batch_id={batch_idx} Accuracy = {correct/len(self.train_loader.dataset)}'\u001b[0m\u001b[0;34m)\u001b[0m\u001b[0;34m\u001b[0m\u001b[0;34m\u001b[0m\u001b[0m\n\u001b[1;32m     32\u001b[0m             \u001b[0maccuracy_data\u001b[0m\u001b[0;34m.\u001b[0m\u001b[0mappend\u001b[0m\u001b[0;34m(\u001b[0m\u001b[0;36m100\u001b[0m\u001b[0;34m*\u001b[0m\u001b[0mcorrect\u001b[0m\u001b[0;34m/\u001b[0m\u001b[0mlen\u001b[0m\u001b[0;34m(\u001b[0m\u001b[0mself\u001b[0m\u001b[0;34m.\u001b[0m\u001b[0mtrain_loader\u001b[0m\u001b[0;34m.\u001b[0m\u001b[0mdataset\u001b[0m\u001b[0;34m)\u001b[0m\u001b[0;34m)\u001b[0m\u001b[0;34m\u001b[0m\u001b[0;34m\u001b[0m\u001b[0m\n",
            "\u001b[0;31mKeyboardInterrupt\u001b[0m: "
          ]
        }
      ]
    },
    {
      "cell_type": "code",
      "metadata": {
        "id": "7-0IIsJWv5M8",
        "colab_type": "code",
        "colab": {}
      },
      "source": [
        ""
      ],
      "execution_count": null,
      "outputs": []
    },
    {
      "cell_type": "markdown",
      "metadata": {
        "id": "IJfeerqV6AxQ",
        "colab_type": "text"
      },
      "source": [
        "# Version 2 - less than 1 m\n"
      ]
    },
    {
      "cell_type": "code",
      "metadata": {
        "id": "BBQGIA9G6Cbk",
        "colab_type": "code",
        "colab": {
          "base_uri": "https://localhost:8080/",
          "height": 1000
        },
        "outputId": "d5575de1-c22d-4e4b-b18e-5c6f39517223"
      },
      "source": [
        "use_cuda = torch.cuda.is_available()\n",
        "device = torch.device(\"cuda\" if use_cuda else \"cpu\")\n",
        "model = Adv_conv().to(device)\n",
        "summary(model,input_size=(3,32,32))"
      ],
      "execution_count": 8,
      "outputs": [
        {
          "output_type": "stream",
          "text": [
            "----------------------------------------------------------------\n",
            "        Layer (type)               Output Shape         Param #\n",
            "================================================================\n",
            "            Conv2d-1           [-1, 32, 32, 32]             896\n",
            "              ReLU-2           [-1, 32, 32, 32]               0\n",
            "       BatchNorm2d-3           [-1, 32, 32, 32]              64\n",
            "           Dropout-4           [-1, 32, 32, 32]               0\n",
            "            Conv2d-5           [-1, 32, 32, 32]           9,248\n",
            "              ReLU-6           [-1, 32, 32, 32]               0\n",
            "       BatchNorm2d-7           [-1, 32, 32, 32]              64\n",
            "           Dropout-8           [-1, 32, 32, 32]               0\n",
            "            Conv2d-9           [-1, 32, 32, 32]           9,248\n",
            "             ReLU-10           [-1, 32, 32, 32]               0\n",
            "      BatchNorm2d-11           [-1, 32, 32, 32]              64\n",
            "          Dropout-12           [-1, 32, 32, 32]               0\n",
            "           Conv2d-13           [-1, 16, 34, 34]             528\n",
            "        MaxPool2d-14           [-1, 16, 17, 17]               0\n",
            "           Conv2d-15           [-1, 64, 17, 17]           9,280\n",
            "             ReLU-16           [-1, 64, 17, 17]               0\n",
            "      BatchNorm2d-17           [-1, 64, 17, 17]             128\n",
            "          Dropout-18           [-1, 64, 17, 17]               0\n",
            "           Conv2d-19           [-1, 64, 17, 17]          36,928\n",
            "             ReLU-20           [-1, 64, 17, 17]               0\n",
            "      BatchNorm2d-21           [-1, 64, 17, 17]             128\n",
            "          Dropout-22           [-1, 64, 17, 17]               0\n",
            "           Conv2d-23           [-1, 64, 17, 17]          36,928\n",
            "             ReLU-24           [-1, 64, 17, 17]               0\n",
            "      BatchNorm2d-25           [-1, 64, 17, 17]             128\n",
            "          Dropout-26           [-1, 64, 17, 17]               0\n",
            "           Conv2d-27           [-1, 32, 19, 19]           2,080\n",
            "        MaxPool2d-28             [-1, 32, 9, 9]               0\n",
            "           Conv2d-29             [-1, 32, 9, 9]             320\n",
            "           Conv2d-30            [-1, 128, 9, 9]           4,224\n",
            "             ReLU-31            [-1, 128, 9, 9]               0\n",
            "      BatchNorm2d-32            [-1, 128, 9, 9]             256\n",
            "          Dropout-33            [-1, 128, 9, 9]               0\n",
            "           Conv2d-34            [-1, 128, 9, 9]         147,584\n",
            "             ReLU-35            [-1, 128, 9, 9]               0\n",
            "      BatchNorm2d-36            [-1, 128, 9, 9]             256\n",
            "          Dropout-37            [-1, 128, 9, 9]               0\n",
            "           Conv2d-38            [-1, 128, 9, 9]         147,584\n",
            "             ReLU-39            [-1, 128, 9, 9]               0\n",
            "      BatchNorm2d-40            [-1, 128, 9, 9]             256\n",
            "          Dropout-41            [-1, 128, 9, 9]               0\n",
            "           Conv2d-42           [-1, 64, 11, 11]           8,256\n",
            "        MaxPool2d-43             [-1, 64, 5, 5]               0\n",
            "           Conv2d-44            [-1, 256, 5, 5]         147,712\n",
            "             ReLU-45            [-1, 256, 5, 5]               0\n",
            "      BatchNorm2d-46            [-1, 256, 5, 5]             512\n",
            "          Dropout-47            [-1, 256, 5, 5]               0\n",
            "        AvgPool2d-48            [-1, 256, 1, 1]               0\n",
            "           Conv2d-49             [-1, 10, 1, 1]           2,570\n",
            "================================================================\n",
            "Total params: 565,242\n",
            "Trainable params: 565,242\n",
            "Non-trainable params: 0\n",
            "----------------------------------------------------------------\n",
            "Input size (MB): 0.01\n",
            "Forward/backward pass size (MB): 6.22\n",
            "Params size (MB): 2.16\n",
            "Estimated Total Size (MB): 8.38\n",
            "----------------------------------------------------------------\n"
          ],
          "name": "stdout"
        },
        {
          "output_type": "stream",
          "text": [
            "/content/PyDeNn/DeNN/custom_model/adv_conv.py:135: UserWarning: Implicit dimension choice for log_softmax has been deprecated. Change the call to include dim=X as an argument.\n",
            "  return F.log_softmax(x)\n"
          ],
          "name": "stderr"
        }
      ]
    },
    {
      "cell_type": "code",
      "metadata": {
        "id": "wVFIQwOr6EyL",
        "colab_type": "code",
        "colab": {}
      },
      "source": [
        "criterion = nn.CrossEntropyLoss()\n",
        "optimizer = optim.SGD(model.parameters(), lr=0.001, momentum=0.9)"
      ],
      "execution_count": 9,
      "outputs": []
    },
    {
      "cell_type": "code",
      "metadata": {
        "id": "fcEhbrP66MZg",
        "colab_type": "code",
        "colab": {}
      },
      "source": [
        "trainer = trainer.Trainer( model =model , optimizer =optimizer , device =device , train_loader = train, test_loader = test,epochs = 100,criteria = criterion)"
      ],
      "execution_count": 10,
      "outputs": []
    },
    {
      "cell_type": "code",
      "metadata": {
        "id": "153un7mq6Mwy",
        "colab_type": "code",
        "colab": {
          "base_uri": "https://localhost:8080/",
          "height": 1000
        },
        "outputId": "919abd16-f263-47d1-96ef-f4f899f440a6"
      },
      "source": [
        "(w,x),(y,z) = trainer.train()"
      ],
      "execution_count": 11,
      "outputs": [
        {
          "output_type": "stream",
          "text": [
            "  0%|          | 0/391 [00:00<?, ?it/s]/content/PyDeNn/DeNN/custom_model/adv_conv.py:135: UserWarning: Implicit dimension choice for log_softmax has been deprecated. Change the call to include dim=X as an argument.\n",
            "  return F.log_softmax(x)\n",
            "loss=1.7129898071289062 batch_id=390 Accuracy = 0.28058: 100%|██████████| 391/391 [00:30<00:00, 12.72it/s]\n",
            "loss=1.71619713306427 batch_id=1 Accuracy = 0.00198:   1%|          | 2/391 [00:00<00:30, 12.61it/s]"
          ],
          "name": "stderr"
        },
        {
          "output_type": "stream",
          "text": [
            "\n",
            "Test set: Average loss: 0.0185, Accuracy: 2278/10000 (22.78%)\n",
            "\n"
          ],
          "name": "stdout"
        },
        {
          "output_type": "stream",
          "text": [
            "loss=1.4539079666137695 batch_id=390 Accuracy = 0.4144: 100%|██████████| 391/391 [00:30<00:00, 12.76it/s]\n",
            "loss=1.4509294033050537 batch_id=1 Accuracy = 0.00228:   1%|          | 2/391 [00:00<00:31, 12.33it/s]"
          ],
          "name": "stderr"
        },
        {
          "output_type": "stream",
          "text": [
            "\n",
            "Test set: Average loss: 0.0165, Accuracy: 3025/10000 (30.25%)\n",
            "\n"
          ],
          "name": "stdout"
        },
        {
          "output_type": "stream",
          "text": [
            "loss=1.31497061252594 batch_id=390 Accuracy = 0.48884: 100%|██████████| 391/391 [00:30<00:00, 12.71it/s]\n",
            "loss=1.0975269079208374 batch_id=1 Accuracy = 0.00272:   1%|          | 2/391 [00:00<00:33, 11.45it/s]"
          ],
          "name": "stderr"
        },
        {
          "output_type": "stream",
          "text": [
            "\n",
            "Test set: Average loss: 0.0151, Accuracy: 3399/10000 (33.99%)\n",
            "\n"
          ],
          "name": "stdout"
        },
        {
          "output_type": "stream",
          "text": [
            "loss=1.1588294506072998 batch_id=390 Accuracy = 0.53792: 100%|██████████| 391/391 [00:31<00:00, 12.56it/s]\n",
            "loss=1.2166943550109863 batch_id=1 Accuracy = 0.00266:   1%|          | 2/391 [00:00<00:30, 12.65it/s]"
          ],
          "name": "stderr"
        },
        {
          "output_type": "stream",
          "text": [
            "\n",
            "Test set: Average loss: 0.0128, Accuracy: 4346/10000 (43.46%)\n",
            "\n"
          ],
          "name": "stdout"
        },
        {
          "output_type": "stream",
          "text": [
            "loss=1.0292003154754639 batch_id=390 Accuracy = 0.57432: 100%|██████████| 391/391 [00:30<00:00, 12.75it/s]\n",
            "loss=1.08962881565094 batch_id=1 Accuracy = 0.003:   1%|          | 2/391 [00:00<00:30, 12.55it/s]"
          ],
          "name": "stderr"
        },
        {
          "output_type": "stream",
          "text": [
            "\n",
            "Test set: Average loss: 0.0122, Accuracy: 4717/10000 (47.17%)\n",
            "\n"
          ],
          "name": "stdout"
        },
        {
          "output_type": "stream",
          "text": [
            "loss=1.0826339721679688 batch_id=390 Accuracy = 0.59912: 100%|██████████| 391/391 [00:30<00:00, 12.88it/s]\n",
            "loss=1.086188793182373 batch_id=1 Accuracy = 0.00318:   1%|          | 2/391 [00:00<00:33, 11.67it/s]"
          ],
          "name": "stderr"
        },
        {
          "output_type": "stream",
          "text": [
            "\n",
            "Test set: Average loss: 0.0115, Accuracy: 5131/10000 (51.31%)\n",
            "\n"
          ],
          "name": "stdout"
        },
        {
          "output_type": "stream",
          "text": [
            "loss=0.9553593397140503 batch_id=390 Accuracy = 0.62276: 100%|██████████| 391/391 [00:30<00:00, 12.68it/s]\n",
            "loss=1.017008900642395 batch_id=1 Accuracy = 0.00342:   1%|          | 2/391 [00:00<00:35, 11.02it/s]"
          ],
          "name": "stderr"
        },
        {
          "output_type": "stream",
          "text": [
            "\n",
            "Test set: Average loss: 0.0105, Accuracy: 5505/10000 (55.05%)\n",
            "\n"
          ],
          "name": "stdout"
        },
        {
          "output_type": "stream",
          "text": [
            "loss=1.051749348640442 batch_id=390 Accuracy = 0.63856: 100%|██████████| 391/391 [00:30<00:00, 12.79it/s]\n",
            "loss=0.859734296798706 batch_id=1 Accuracy = 0.00348:   1%|          | 2/391 [00:00<00:29, 13.13it/s]"
          ],
          "name": "stderr"
        },
        {
          "output_type": "stream",
          "text": [
            "\n",
            "Test set: Average loss: 0.0108, Accuracy: 5456/10000 (54.56%)\n",
            "\n"
          ],
          "name": "stdout"
        },
        {
          "output_type": "stream",
          "text": [
            "loss=0.8099543452262878 batch_id=390 Accuracy = 0.65124: 100%|██████████| 391/391 [00:30<00:00, 12.80it/s]\n",
            "loss=0.9072118401527405 batch_id=1 Accuracy = 0.00344:   1%|          | 2/391 [00:00<00:30, 12.68it/s]"
          ],
          "name": "stderr"
        },
        {
          "output_type": "stream",
          "text": [
            "\n",
            "Test set: Average loss: 0.0106, Accuracy: 5545/10000 (55.45%)\n",
            "\n"
          ],
          "name": "stdout"
        },
        {
          "output_type": "stream",
          "text": [
            "loss=0.98955237865448 batch_id=390 Accuracy = 0.66604: 100%|██████████| 391/391 [00:30<00:00, 12.81it/s]\n",
            "loss=1.0024349689483643 batch_id=1 Accuracy = 0.00332:   1%|          | 2/391 [00:00<00:30, 12.65it/s]"
          ],
          "name": "stderr"
        },
        {
          "output_type": "stream",
          "text": [
            "\n",
            "Test set: Average loss: 0.0093, Accuracy: 5956/10000 (59.56%)\n",
            "\n"
          ],
          "name": "stdout"
        },
        {
          "output_type": "stream",
          "text": [
            "loss=1.1400113105773926 batch_id=390 Accuracy = 0.67434: 100%|██████████| 391/391 [00:30<00:00, 12.71it/s]\n",
            "loss=0.8811671733856201 batch_id=1 Accuracy = 0.00348:   1%|          | 2/391 [00:00<00:31, 12.40it/s]"
          ],
          "name": "stderr"
        },
        {
          "output_type": "stream",
          "text": [
            "\n",
            "Test set: Average loss: 0.0093, Accuracy: 6019/10000 (60.19%)\n",
            "\n"
          ],
          "name": "stdout"
        },
        {
          "output_type": "stream",
          "text": [
            "loss=0.7720509171485901 batch_id=390 Accuracy = 0.68644: 100%|██████████| 391/391 [00:31<00:00, 12.59it/s]\n",
            "loss=0.8996251225471497 batch_id=1 Accuracy = 0.00384:   1%|          | 2/391 [00:00<00:30, 12.93it/s]"
          ],
          "name": "stderr"
        },
        {
          "output_type": "stream",
          "text": [
            "\n",
            "Test set: Average loss: 0.0093, Accuracy: 5962/10000 (59.62%)\n",
            "\n"
          ],
          "name": "stdout"
        },
        {
          "output_type": "stream",
          "text": [
            "loss=0.6179506182670593 batch_id=390 Accuracy = 0.70056: 100%|██████████| 391/391 [00:30<00:00, 12.91it/s]\n",
            "loss=0.77411288022995 batch_id=1 Accuracy = 0.00358:   1%|          | 2/391 [00:00<00:30, 12.85it/s]"
          ],
          "name": "stderr"
        },
        {
          "output_type": "stream",
          "text": [
            "\n",
            "Test set: Average loss: 0.0090, Accuracy: 6169/10000 (61.69%)\n",
            "\n"
          ],
          "name": "stdout"
        },
        {
          "output_type": "stream",
          "text": [
            "loss=0.9640738368034363 batch_id=390 Accuracy = 0.7048: 100%|██████████| 391/391 [00:30<00:00, 12.80it/s]\n",
            "loss=0.7961714863777161 batch_id=1 Accuracy = 0.0037:   1%|          | 2/391 [00:00<00:30, 12.77it/s]"
          ],
          "name": "stderr"
        },
        {
          "output_type": "stream",
          "text": [
            "\n",
            "Test set: Average loss: 0.0085, Accuracy: 6338/10000 (63.38%)\n",
            "\n"
          ],
          "name": "stdout"
        },
        {
          "output_type": "stream",
          "text": [
            "loss=0.8301945924758911 batch_id=390 Accuracy = 0.71264: 100%|██████████| 391/391 [00:30<00:00, 12.81it/s]\n",
            "loss=0.7117970585823059 batch_id=1 Accuracy = 0.00362:   1%|          | 2/391 [00:00<00:32, 11.91it/s]"
          ],
          "name": "stderr"
        },
        {
          "output_type": "stream",
          "text": [
            "\n",
            "Test set: Average loss: 0.0085, Accuracy: 6395/10000 (63.95%)\n",
            "\n"
          ],
          "name": "stdout"
        },
        {
          "output_type": "stream",
          "text": [
            "loss=0.7545742392539978 batch_id=390 Accuracy = 0.72242: 100%|██████████| 391/391 [00:31<00:00, 12.59it/s]\n",
            "loss=0.7459462881088257 batch_id=1 Accuracy = 0.0038:   1%|          | 2/391 [00:00<00:33, 11.59it/s]"
          ],
          "name": "stderr"
        },
        {
          "output_type": "stream",
          "text": [
            "\n",
            "Test set: Average loss: 0.0076, Accuracy: 6690/10000 (66.90%)\n",
            "\n"
          ],
          "name": "stdout"
        },
        {
          "output_type": "stream",
          "text": [
            "loss=0.629366934299469 batch_id=390 Accuracy = 0.72892: 100%|██████████| 391/391 [00:31<00:00, 12.61it/s]\n",
            "loss=0.8449286818504333 batch_id=1 Accuracy = 0.0038:   1%|          | 2/391 [00:00<00:32, 11.83it/s]"
          ],
          "name": "stderr"
        },
        {
          "output_type": "stream",
          "text": [
            "\n",
            "Test set: Average loss: 0.0076, Accuracy: 6708/10000 (67.08%)\n",
            "\n"
          ],
          "name": "stdout"
        },
        {
          "output_type": "stream",
          "text": [
            "loss=0.598863422870636 batch_id=390 Accuracy = 0.73714: 100%|██████████| 391/391 [00:30<00:00, 12.92it/s]\n",
            "loss=0.5516612529754639 batch_id=1 Accuracy = 0.00408:   1%|          | 2/391 [00:00<00:32, 12.05it/s]"
          ],
          "name": "stderr"
        },
        {
          "output_type": "stream",
          "text": [
            "\n",
            "Test set: Average loss: 0.0067, Accuracy: 7037/10000 (70.37%)\n",
            "\n"
          ],
          "name": "stdout"
        },
        {
          "output_type": "stream",
          "text": [
            "loss=0.6771277189254761 batch_id=390 Accuracy = 0.74554: 100%|██████████| 391/391 [00:30<00:00, 12.90it/s]\n",
            "loss=0.7332068681716919 batch_id=1 Accuracy = 0.0034:   1%|          | 2/391 [00:00<00:30, 12.64it/s]"
          ],
          "name": "stderr"
        },
        {
          "output_type": "stream",
          "text": [
            "\n",
            "Test set: Average loss: 0.0066, Accuracy: 7104/10000 (71.04%)\n",
            "\n"
          ],
          "name": "stdout"
        },
        {
          "output_type": "stream",
          "text": [
            "loss=0.873320460319519 batch_id=390 Accuracy = 0.75032: 100%|██████████| 391/391 [00:30<00:00, 12.92it/s]\n",
            "loss=0.7213866114616394 batch_id=1 Accuracy = 0.00382:   1%|          | 2/391 [00:00<00:29, 13.15it/s]"
          ],
          "name": "stderr"
        },
        {
          "output_type": "stream",
          "text": [
            "\n",
            "Test set: Average loss: 0.0065, Accuracy: 7186/10000 (71.86%)\n",
            "\n"
          ],
          "name": "stdout"
        },
        {
          "output_type": "stream",
          "text": [
            "loss=0.635033130645752 batch_id=390 Accuracy = 0.75292: 100%|██████████| 391/391 [00:30<00:00, 12.91it/s]\n",
            "loss=0.5028164982795715 batch_id=1 Accuracy = 0.00428:   1%|          | 2/391 [00:00<00:34, 11.15it/s]"
          ],
          "name": "stderr"
        },
        {
          "output_type": "stream",
          "text": [
            "\n",
            "Test set: Average loss: 0.0071, Accuracy: 6963/10000 (69.63%)\n",
            "\n"
          ],
          "name": "stdout"
        },
        {
          "output_type": "stream",
          "text": [
            "loss=0.6344140768051147 batch_id=390 Accuracy = 0.76134: 100%|██████████| 391/391 [00:30<00:00, 12.89it/s]\n",
            "loss=0.5132496356964111 batch_id=1 Accuracy = 0.00412:   1%|          | 2/391 [00:00<00:30, 12.90it/s]"
          ],
          "name": "stderr"
        },
        {
          "output_type": "stream",
          "text": [
            "\n",
            "Test set: Average loss: 0.0064, Accuracy: 7198/10000 (71.98%)\n",
            "\n"
          ],
          "name": "stdout"
        },
        {
          "output_type": "stream",
          "text": [
            "loss=0.5596696138381958 batch_id=390 Accuracy = 0.76582: 100%|██████████| 391/391 [00:30<00:00, 12.77it/s]\n",
            "loss=0.7143188714981079 batch_id=1 Accuracy = 0.0037:   1%|          | 2/391 [00:00<00:30, 12.86it/s]"
          ],
          "name": "stderr"
        },
        {
          "output_type": "stream",
          "text": [
            "\n",
            "Test set: Average loss: 0.0061, Accuracy: 7415/10000 (74.15%)\n",
            "\n"
          ],
          "name": "stdout"
        },
        {
          "output_type": "stream",
          "text": [
            "loss=0.607528030872345 batch_id=390 Accuracy = 0.77084: 100%|██████████| 391/391 [00:30<00:00, 12.93it/s]\n",
            "loss=0.5137938857078552 batch_id=1 Accuracy = 0.00392:   1%|          | 2/391 [00:00<00:30, 12.76it/s]"
          ],
          "name": "stderr"
        },
        {
          "output_type": "stream",
          "text": [
            "\n",
            "Test set: Average loss: 0.0060, Accuracy: 7413/10000 (74.13%)\n",
            "\n"
          ],
          "name": "stdout"
        },
        {
          "output_type": "stream",
          "text": [
            "loss=0.6411084532737732 batch_id=390 Accuracy = 0.7745: 100%|██████████| 391/391 [00:30<00:00, 12.86it/s]\n",
            "loss=0.5219602584838867 batch_id=1 Accuracy = 0.00414:   1%|          | 2/391 [00:00<00:30, 12.81it/s]"
          ],
          "name": "stderr"
        },
        {
          "output_type": "stream",
          "text": [
            "\n",
            "Test set: Average loss: 0.0059, Accuracy: 7483/10000 (74.83%)\n",
            "\n"
          ],
          "name": "stdout"
        },
        {
          "output_type": "stream",
          "text": [
            "loss=0.6580727100372314 batch_id=390 Accuracy = 0.77922: 100%|██████████| 391/391 [00:30<00:00, 12.80it/s]\n",
            "loss=0.7099490761756897 batch_id=1 Accuracy = 0.00406:   1%|          | 2/391 [00:00<00:35, 11.05it/s]"
          ],
          "name": "stderr"
        },
        {
          "output_type": "stream",
          "text": [
            "\n",
            "Test set: Average loss: 0.0059, Accuracy: 7433/10000 (74.33%)\n",
            "\n"
          ],
          "name": "stdout"
        },
        {
          "output_type": "stream",
          "text": [
            "loss=0.6079220175743103 batch_id=390 Accuracy = 0.78268: 100%|██████████| 391/391 [00:30<00:00, 12.84it/s]\n",
            "loss=0.5909364223480225 batch_id=1 Accuracy = 0.004:   1%|          | 2/391 [00:00<00:33, 11.76it/s]"
          ],
          "name": "stderr"
        },
        {
          "output_type": "stream",
          "text": [
            "\n",
            "Test set: Average loss: 0.0051, Accuracy: 7735/10000 (77.35%)\n",
            "\n"
          ],
          "name": "stdout"
        },
        {
          "output_type": "stream",
          "text": [
            "loss=0.6527033448219299 batch_id=390 Accuracy = 0.78376: 100%|██████████| 391/391 [00:30<00:00, 12.86it/s]\n",
            "loss=0.6265241503715515 batch_id=1 Accuracy = 0.00404:   1%|          | 2/391 [00:00<00:30, 12.83it/s]"
          ],
          "name": "stderr"
        },
        {
          "output_type": "stream",
          "text": [
            "\n",
            "Test set: Average loss: 0.0056, Accuracy: 7605/10000 (76.05%)\n",
            "\n"
          ],
          "name": "stdout"
        },
        {
          "output_type": "stream",
          "text": [
            "loss=0.4993349015712738 batch_id=390 Accuracy = 0.79104: 100%|██████████| 391/391 [00:30<00:00, 12.75it/s]\n",
            "loss=0.6114243268966675 batch_id=1 Accuracy = 0.00424:   1%|          | 2/391 [00:00<00:32, 12.14it/s]"
          ],
          "name": "stderr"
        },
        {
          "output_type": "stream",
          "text": [
            "\n",
            "Test set: Average loss: 0.0056, Accuracy: 7603/10000 (76.03%)\n",
            "\n"
          ],
          "name": "stdout"
        },
        {
          "output_type": "stream",
          "text": [
            "loss=0.46167415380477905 batch_id=390 Accuracy = 0.79124: 100%|██████████| 391/391 [00:30<00:00, 12.76it/s]\n",
            "loss=0.6721097826957703 batch_id=1 Accuracy = 0.00412:   1%|          | 2/391 [00:00<00:29, 12.99it/s]"
          ],
          "name": "stderr"
        },
        {
          "output_type": "stream",
          "text": [
            "\n",
            "Test set: Average loss: 0.0052, Accuracy: 7760/10000 (77.60%)\n",
            "\n"
          ],
          "name": "stdout"
        },
        {
          "output_type": "stream",
          "text": [
            "loss=0.32744771242141724 batch_id=390 Accuracy = 0.79416: 100%|██████████| 391/391 [00:30<00:00, 12.75it/s]\n",
            "loss=0.7416071891784668 batch_id=1 Accuracy = 0.00398:   1%|          | 2/391 [00:00<00:30, 12.76it/s]"
          ],
          "name": "stderr"
        },
        {
          "output_type": "stream",
          "text": [
            "\n",
            "Test set: Average loss: 0.0055, Accuracy: 7698/10000 (76.98%)\n",
            "\n"
          ],
          "name": "stdout"
        },
        {
          "output_type": "stream",
          "text": [
            "loss=0.5515279173851013 batch_id=390 Accuracy = 0.79884: 100%|██████████| 391/391 [00:30<00:00, 12.80it/s]\n",
            "loss=0.6713196039199829 batch_id=1 Accuracy = 0.00388:   1%|          | 2/391 [00:00<00:30, 12.71it/s]"
          ],
          "name": "stderr"
        },
        {
          "output_type": "stream",
          "text": [
            "\n",
            "Test set: Average loss: 0.0056, Accuracy: 7621/10000 (76.21%)\n",
            "\n"
          ],
          "name": "stdout"
        },
        {
          "output_type": "stream",
          "text": [
            "loss=0.43526071310043335 batch_id=390 Accuracy = 0.80144: 100%|██████████| 391/391 [00:30<00:00, 12.91it/s]\n",
            "loss=0.4410580098628998 batch_id=1 Accuracy = 0.00406:   1%|          | 2/391 [00:00<00:33, 11.65it/s]"
          ],
          "name": "stderr"
        },
        {
          "output_type": "stream",
          "text": [
            "\n",
            "Test set: Average loss: 0.0050, Accuracy: 7872/10000 (78.72%)\n",
            "\n"
          ],
          "name": "stdout"
        },
        {
          "output_type": "stream",
          "text": [
            "loss=0.6601690053939819 batch_id=390 Accuracy = 0.8041: 100%|██████████| 391/391 [00:30<00:00, 12.80it/s]\n",
            "loss=0.5389724969863892 batch_id=1 Accuracy = 0.00414:   1%|          | 2/391 [00:00<00:30, 12.93it/s]"
          ],
          "name": "stderr"
        },
        {
          "output_type": "stream",
          "text": [
            "\n",
            "Test set: Average loss: 0.0052, Accuracy: 7755/10000 (77.55%)\n",
            "\n"
          ],
          "name": "stdout"
        },
        {
          "output_type": "stream",
          "text": [
            "loss=0.7356104254722595 batch_id=390 Accuracy = 0.80818: 100%|██████████| 391/391 [00:30<00:00, 12.72it/s]\n",
            "loss=0.6994989514350891 batch_id=1 Accuracy = 0.00398:   1%|          | 2/391 [00:00<00:31, 12.53it/s]"
          ],
          "name": "stderr"
        },
        {
          "output_type": "stream",
          "text": [
            "\n",
            "Test set: Average loss: 0.0047, Accuracy: 7919/10000 (79.19%)\n",
            "\n"
          ],
          "name": "stdout"
        },
        {
          "output_type": "stream",
          "text": [
            "loss=0.6079559326171875 batch_id=390 Accuracy = 0.8081: 100%|██████████| 391/391 [00:30<00:00, 12.86it/s]\n",
            "loss=0.6437574625015259 batch_id=1 Accuracy = 0.00408:   1%|          | 2/391 [00:00<00:32, 12.08it/s]"
          ],
          "name": "stderr"
        },
        {
          "output_type": "stream",
          "text": [
            "\n",
            "Test set: Average loss: 0.0053, Accuracy: 7700/10000 (77.00%)\n",
            "\n"
          ],
          "name": "stdout"
        },
        {
          "output_type": "stream",
          "text": [
            "loss=0.5819877982139587 batch_id=390 Accuracy = 0.8114: 100%|██████████| 391/391 [00:30<00:00, 12.80it/s]\n",
            "loss=0.4143295884132385 batch_id=1 Accuracy = 0.00418:   1%|          | 2/391 [00:00<00:30, 12.63it/s]"
          ],
          "name": "stderr"
        },
        {
          "output_type": "stream",
          "text": [
            "\n",
            "Test set: Average loss: 0.0049, Accuracy: 7908/10000 (79.08%)\n",
            "\n"
          ],
          "name": "stdout"
        },
        {
          "output_type": "stream",
          "text": [
            "loss=0.5127430558204651 batch_id=390 Accuracy = 0.81254: 100%|██████████| 391/391 [00:30<00:00, 12.78it/s]\n",
            "loss=0.7000161409378052 batch_id=1 Accuracy = 0.00398:   1%|          | 2/391 [00:00<00:29, 13.00it/s]"
          ],
          "name": "stderr"
        },
        {
          "output_type": "stream",
          "text": [
            "\n",
            "Test set: Average loss: 0.0050, Accuracy: 7815/10000 (78.15%)\n",
            "\n"
          ],
          "name": "stdout"
        },
        {
          "output_type": "stream",
          "text": [
            "loss=0.5638206601142883 batch_id=390 Accuracy = 0.81482: 100%|██████████| 391/391 [00:30<00:00, 12.93it/s]\n",
            "loss=0.4207247495651245 batch_id=1 Accuracy = 0.00422:   1%|          | 2/391 [00:00<00:32, 12.04it/s]"
          ],
          "name": "stderr"
        },
        {
          "output_type": "stream",
          "text": [
            "\n",
            "Test set: Average loss: 0.0050, Accuracy: 7906/10000 (79.06%)\n",
            "\n"
          ],
          "name": "stdout"
        },
        {
          "output_type": "stream",
          "text": [
            "loss=0.5008758306503296 batch_id=390 Accuracy = 0.81778: 100%|██████████| 391/391 [00:30<00:00, 12.80it/s]\n",
            "loss=0.46498966217041016 batch_id=1 Accuracy = 0.00412:   1%|          | 2/391 [00:00<00:30, 12.74it/s]"
          ],
          "name": "stderr"
        },
        {
          "output_type": "stream",
          "text": [
            "\n",
            "Test set: Average loss: 0.0052, Accuracy: 7785/10000 (77.85%)\n",
            "\n"
          ],
          "name": "stdout"
        },
        {
          "output_type": "stream",
          "text": [
            "loss=0.5547107458114624 batch_id=390 Accuracy = 0.82082: 100%|██████████| 391/391 [00:30<00:00, 12.88it/s]\n",
            "loss=0.39487093687057495 batch_id=1 Accuracy = 0.00446:   1%|          | 2/391 [00:00<00:32, 11.98it/s]"
          ],
          "name": "stderr"
        },
        {
          "output_type": "stream",
          "text": [
            "\n",
            "Test set: Average loss: 0.0046, Accuracy: 8038/10000 (80.38%)\n",
            "\n"
          ],
          "name": "stdout"
        },
        {
          "output_type": "stream",
          "text": [
            "loss=0.6164578199386597 batch_id=390 Accuracy = 0.81982: 100%|██████████| 391/391 [00:30<00:00, 12.85it/s]\n",
            "loss=0.4388759732246399 batch_id=1 Accuracy = 0.00422:   1%|          | 2/391 [00:00<00:30, 12.82it/s]"
          ],
          "name": "stderr"
        },
        {
          "output_type": "stream",
          "text": [
            "\n",
            "Test set: Average loss: 0.0047, Accuracy: 7997/10000 (79.97%)\n",
            "\n"
          ],
          "name": "stdout"
        },
        {
          "output_type": "stream",
          "text": [
            "loss=0.6480575203895569 batch_id=390 Accuracy = 0.82376: 100%|██████████| 391/391 [00:30<00:00, 12.83it/s]\n",
            "loss=0.5226262807846069 batch_id=1 Accuracy = 0.00422:   1%|          | 2/391 [00:00<00:30, 12.89it/s]"
          ],
          "name": "stderr"
        },
        {
          "output_type": "stream",
          "text": [
            "\n",
            "Test set: Average loss: 0.0047, Accuracy: 8048/10000 (80.48%)\n",
            "\n"
          ],
          "name": "stdout"
        },
        {
          "output_type": "stream",
          "text": [
            "loss=0.6204413175582886 batch_id=390 Accuracy = 0.82486: 100%|██████████| 391/391 [00:30<00:00, 12.80it/s]\n",
            "loss=0.42866843938827515 batch_id=1 Accuracy = 0.00412:   1%|          | 2/391 [00:00<00:32, 11.98it/s]"
          ],
          "name": "stderr"
        },
        {
          "output_type": "stream",
          "text": [
            "\n",
            "Test set: Average loss: 0.0046, Accuracy: 8045/10000 (80.45%)\n",
            "\n"
          ],
          "name": "stdout"
        },
        {
          "output_type": "stream",
          "text": [
            "loss=0.6308636665344238 batch_id=390 Accuracy = 0.82676: 100%|██████████| 391/391 [00:30<00:00, 12.93it/s]\n",
            "loss=0.39772894978523254 batch_id=1 Accuracy = 0.0043:   1%|          | 2/391 [00:00<00:29, 13.08it/s]"
          ],
          "name": "stderr"
        },
        {
          "output_type": "stream",
          "text": [
            "\n",
            "Test set: Average loss: 0.0046, Accuracy: 8038/10000 (80.38%)\n",
            "\n"
          ],
          "name": "stdout"
        },
        {
          "output_type": "stream",
          "text": [
            "loss=0.35649195313453674 batch_id=390 Accuracy = 0.82784: 100%|██████████| 391/391 [00:30<00:00, 12.91it/s]\n",
            "loss=0.42743006348609924 batch_id=1 Accuracy = 0.00442:   1%|          | 2/391 [00:00<00:30, 12.77it/s]"
          ],
          "name": "stderr"
        },
        {
          "output_type": "stream",
          "text": [
            "\n",
            "Test set: Average loss: 0.0049, Accuracy: 7894/10000 (78.94%)\n",
            "\n"
          ],
          "name": "stdout"
        },
        {
          "output_type": "stream",
          "text": [
            "loss=0.7297321557998657 batch_id=390 Accuracy = 0.8305: 100%|██████████| 391/391 [00:30<00:00, 12.78it/s]\n",
            "loss=0.42074117064476013 batch_id=1 Accuracy = 0.0043:   1%|          | 2/391 [00:00<00:32, 11.80it/s]"
          ],
          "name": "stderr"
        },
        {
          "output_type": "stream",
          "text": [
            "\n",
            "Test set: Average loss: 0.0046, Accuracy: 8031/10000 (80.31%)\n",
            "\n"
          ],
          "name": "stdout"
        },
        {
          "output_type": "stream",
          "text": [
            "loss=0.6260414719581604 batch_id=390 Accuracy = 0.83282: 100%|██████████| 391/391 [00:30<00:00, 12.91it/s]\n",
            "loss=0.5062827467918396 batch_id=1 Accuracy = 0.00424:   1%|          | 2/391 [00:00<00:32, 12.04it/s]"
          ],
          "name": "stderr"
        },
        {
          "output_type": "stream",
          "text": [
            "\n",
            "Test set: Average loss: 0.0043, Accuracy: 8116/10000 (81.16%)\n",
            "\n"
          ],
          "name": "stdout"
        },
        {
          "output_type": "stream",
          "text": [
            "loss=0.724053680896759 batch_id=390 Accuracy = 0.83176: 100%|██████████| 391/391 [00:30<00:00, 12.77it/s]\n",
            "loss=0.45103350281715393 batch_id=1 Accuracy = 0.00438:   1%|          | 2/391 [00:00<00:31, 12.19it/s]"
          ],
          "name": "stderr"
        },
        {
          "output_type": "stream",
          "text": [
            "\n",
            "Test set: Average loss: 0.0043, Accuracy: 8132/10000 (81.32%)\n",
            "\n"
          ],
          "name": "stdout"
        },
        {
          "output_type": "stream",
          "text": [
            "loss=0.414642870426178 batch_id=390 Accuracy = 0.8345: 100%|██████████| 391/391 [00:30<00:00, 12.93it/s]\n",
            "loss=0.4132382869720459 batch_id=1 Accuracy = 0.00432:   1%|          | 2/391 [00:00<00:31, 12.17it/s]"
          ],
          "name": "stderr"
        },
        {
          "output_type": "stream",
          "text": [
            "\n",
            "Test set: Average loss: 0.0042, Accuracy: 8194/10000 (81.94%)\n",
            "\n"
          ],
          "name": "stdout"
        },
        {
          "output_type": "stream",
          "text": [
            "loss=0.4863300323486328 batch_id=390 Accuracy = 0.83696: 100%|██████████| 391/391 [00:30<00:00, 12.99it/s]\n",
            "loss=0.4708947241306305 batch_id=1 Accuracy = 0.00416:   1%|          | 2/391 [00:00<00:34, 11.36it/s]"
          ],
          "name": "stderr"
        },
        {
          "output_type": "stream",
          "text": [
            "\n",
            "Test set: Average loss: 0.0043, Accuracy: 8178/10000 (81.78%)\n",
            "\n"
          ],
          "name": "stdout"
        },
        {
          "output_type": "stream",
          "text": [
            "loss=0.5786896347999573 batch_id=390 Accuracy = 0.83586: 100%|██████████| 391/391 [00:30<00:00, 12.75it/s]\n",
            "loss=0.4255134165287018 batch_id=1 Accuracy = 0.00418:   1%|          | 2/391 [00:00<00:31, 12.31it/s]"
          ],
          "name": "stderr"
        },
        {
          "output_type": "stream",
          "text": [
            "\n",
            "Test set: Average loss: 0.0044, Accuracy: 8124/10000 (81.24%)\n",
            "\n"
          ],
          "name": "stdout"
        },
        {
          "output_type": "stream",
          "text": [
            "loss=0.40930047631263733 batch_id=390 Accuracy = 0.83926: 100%|██████████| 391/391 [00:30<00:00, 12.75it/s]\n",
            "loss=0.4649786651134491 batch_id=1 Accuracy = 0.00442:   1%|          | 2/391 [00:00<00:32, 11.87it/s]"
          ],
          "name": "stderr"
        },
        {
          "output_type": "stream",
          "text": [
            "\n",
            "Test set: Average loss: 0.0042, Accuracy: 8167/10000 (81.67%)\n",
            "\n"
          ],
          "name": "stdout"
        },
        {
          "output_type": "stream",
          "text": [
            "loss=0.5520432591438293 batch_id=390 Accuracy = 0.83824: 100%|██████████| 391/391 [00:30<00:00, 12.76it/s]\n",
            "loss=0.5156064629554749 batch_id=1 Accuracy = 0.00416:   1%|          | 2/391 [00:00<00:29, 13.13it/s]"
          ],
          "name": "stderr"
        },
        {
          "output_type": "stream",
          "text": [
            "\n",
            "Test set: Average loss: 0.0043, Accuracy: 8204/10000 (82.04%)\n",
            "\n"
          ],
          "name": "stdout"
        },
        {
          "output_type": "stream",
          "text": [
            "loss=0.4314703047275543 batch_id=390 Accuracy = 0.8413: 100%|██████████| 391/391 [00:30<00:00, 12.93it/s]\n",
            "loss=0.35160186886787415 batch_id=1 Accuracy = 0.00444:   1%|          | 2/391 [00:00<00:31, 12.27it/s]"
          ],
          "name": "stderr"
        },
        {
          "output_type": "stream",
          "text": [
            "\n",
            "Test set: Average loss: 0.0045, Accuracy: 8093/10000 (80.93%)\n",
            "\n"
          ],
          "name": "stdout"
        },
        {
          "output_type": "stream",
          "text": [
            "loss=0.41976943612098694 batch_id=390 Accuracy = 0.84166: 100%|██████████| 391/391 [00:30<00:00, 12.88it/s]\n",
            "loss=0.5495830774307251 batch_id=1 Accuracy = 0.00422:   1%|          | 2/391 [00:00<00:31, 12.37it/s]"
          ],
          "name": "stderr"
        },
        {
          "output_type": "stream",
          "text": [
            "\n",
            "Test set: Average loss: 0.0041, Accuracy: 8279/10000 (82.79%)\n",
            "\n"
          ],
          "name": "stdout"
        },
        {
          "output_type": "stream",
          "text": [
            "loss=0.4605490267276764 batch_id=390 Accuracy = 0.84508: 100%|██████████| 391/391 [00:30<00:00, 12.86it/s]\n",
            "loss=0.4251357614994049 batch_id=1 Accuracy = 0.00444:   1%|          | 2/391 [00:00<00:31, 12.45it/s]"
          ],
          "name": "stderr"
        },
        {
          "output_type": "stream",
          "text": [
            "\n",
            "Test set: Average loss: 0.0042, Accuracy: 8244/10000 (82.44%)\n",
            "\n"
          ],
          "name": "stdout"
        },
        {
          "output_type": "stream",
          "text": [
            "loss=0.6870037317276001 batch_id=390 Accuracy = 0.84456: 100%|██████████| 391/391 [00:30<00:00, 12.86it/s]\n",
            "loss=0.4591498076915741 batch_id=1 Accuracy = 0.00436:   1%|          | 2/391 [00:00<00:30, 12.69it/s]"
          ],
          "name": "stderr"
        },
        {
          "output_type": "stream",
          "text": [
            "\n",
            "Test set: Average loss: 0.0045, Accuracy: 8093/10000 (80.93%)\n",
            "\n"
          ],
          "name": "stdout"
        },
        {
          "output_type": "stream",
          "text": [
            "loss=0.30539023876190186 batch_id=390 Accuracy = 0.84638: 100%|██████████| 391/391 [00:30<00:00, 12.75it/s]\n",
            "loss=0.34437984228134155 batch_id=1 Accuracy = 0.00446:   1%|          | 2/391 [00:00<00:32, 12.06it/s]"
          ],
          "name": "stderr"
        },
        {
          "output_type": "stream",
          "text": [
            "\n",
            "Test set: Average loss: 0.0045, Accuracy: 8175/10000 (81.75%)\n",
            "\n"
          ],
          "name": "stdout"
        },
        {
          "output_type": "stream",
          "text": [
            "loss=0.3592759072780609 batch_id=390 Accuracy = 0.84668: 100%|██████████| 391/391 [00:30<00:00, 12.77it/s]\n",
            "loss=0.5812186598777771 batch_id=1 Accuracy = 0.00426:   1%|          | 2/391 [00:00<00:33, 11.60it/s]"
          ],
          "name": "stderr"
        },
        {
          "output_type": "stream",
          "text": [
            "\n",
            "Test set: Average loss: 0.0041, Accuracy: 8297/10000 (82.97%)\n",
            "\n"
          ],
          "name": "stdout"
        },
        {
          "output_type": "stream",
          "text": [
            "loss=0.48120221495628357 batch_id=390 Accuracy = 0.84924: 100%|██████████| 391/391 [00:30<00:00, 12.97it/s]\n",
            "loss=0.35023006796836853 batch_id=1 Accuracy = 0.0044:   1%|          | 2/391 [00:00<00:30, 12.60it/s]"
          ],
          "name": "stderr"
        },
        {
          "output_type": "stream",
          "text": [
            "\n",
            "Test set: Average loss: 0.0041, Accuracy: 8283/10000 (82.83%)\n",
            "\n"
          ],
          "name": "stdout"
        },
        {
          "output_type": "stream",
          "text": [
            "loss=0.48812922835350037 batch_id=390 Accuracy = 0.84994: 100%|██████████| 391/391 [00:30<00:00, 12.88it/s]\n",
            "loss=0.40822675824165344 batch_id=1 Accuracy = 0.00444:   1%|          | 2/391 [00:00<00:30, 12.70it/s]"
          ],
          "name": "stderr"
        },
        {
          "output_type": "stream",
          "text": [
            "\n",
            "Test set: Average loss: 0.0039, Accuracy: 8308/10000 (83.08%)\n",
            "\n"
          ],
          "name": "stdout"
        },
        {
          "output_type": "stream",
          "text": [
            "loss=0.3193439543247223 batch_id=390 Accuracy = 0.84812: 100%|██████████| 391/391 [00:30<00:00, 12.82it/s]\n",
            "loss=0.46926331520080566 batch_id=1 Accuracy = 0.00432:   1%|          | 2/391 [00:00<00:29, 12.99it/s]"
          ],
          "name": "stderr"
        },
        {
          "output_type": "stream",
          "text": [
            "\n",
            "Test set: Average loss: 0.0041, Accuracy: 8222/10000 (82.22%)\n",
            "\n"
          ],
          "name": "stdout"
        },
        {
          "output_type": "stream",
          "text": [
            "loss=0.5479354858398438 batch_id=390 Accuracy = 0.84984: 100%|██████████| 391/391 [00:30<00:00, 12.90it/s]\n",
            "loss=0.3650345504283905 batch_id=1 Accuracy = 0.00444:   1%|          | 2/391 [00:00<00:30, 12.89it/s]"
          ],
          "name": "stderr"
        },
        {
          "output_type": "stream",
          "text": [
            "\n",
            "Test set: Average loss: 0.0039, Accuracy: 8311/10000 (83.11%)\n",
            "\n"
          ],
          "name": "stdout"
        },
        {
          "output_type": "stream",
          "text": [
            "loss=0.48389381170272827 batch_id=390 Accuracy = 0.85044: 100%|██████████| 391/391 [00:30<00:00, 12.86it/s]\n",
            "loss=0.4162067472934723 batch_id=1 Accuracy = 0.00446:   1%|          | 2/391 [00:00<00:31, 12.52it/s]"
          ],
          "name": "stderr"
        },
        {
          "output_type": "stream",
          "text": [
            "\n",
            "Test set: Average loss: 0.0040, Accuracy: 8305/10000 (83.05%)\n",
            "\n"
          ],
          "name": "stdout"
        },
        {
          "output_type": "stream",
          "text": [
            "loss=0.42378512024879456 batch_id=390 Accuracy = 0.85348: 100%|██████████| 391/391 [00:30<00:00, 12.68it/s]\n",
            "loss=0.35663893818855286 batch_id=1 Accuracy = 0.00448:   1%|          | 2/391 [00:00<00:30, 12.67it/s]"
          ],
          "name": "stderr"
        },
        {
          "output_type": "stream",
          "text": [
            "\n",
            "Test set: Average loss: 0.0043, Accuracy: 8218/10000 (82.18%)\n",
            "\n"
          ],
          "name": "stdout"
        },
        {
          "output_type": "stream",
          "text": [
            "loss=0.28553274273872375 batch_id=390 Accuracy = 0.85574: 100%|██████████| 391/391 [00:30<00:00, 12.78it/s]\n",
            "loss=0.5053428411483765 batch_id=1 Accuracy = 0.00434:   1%|          | 2/391 [00:00<00:30, 12.57it/s]"
          ],
          "name": "stderr"
        },
        {
          "output_type": "stream",
          "text": [
            "\n",
            "Test set: Average loss: 0.0041, Accuracy: 8280/10000 (82.80%)\n",
            "\n"
          ],
          "name": "stdout"
        },
        {
          "output_type": "stream",
          "text": [
            "loss=0.3441759943962097 batch_id=390 Accuracy = 0.85386: 100%|██████████| 391/391 [00:30<00:00, 12.81it/s]\n",
            "loss=0.43018868565559387 batch_id=1 Accuracy = 0.00432:   1%|          | 2/391 [00:00<00:33, 11.66it/s]"
          ],
          "name": "stderr"
        },
        {
          "output_type": "stream",
          "text": [
            "\n",
            "Test set: Average loss: 0.0040, Accuracy: 8330/10000 (83.30%)\n",
            "\n"
          ],
          "name": "stdout"
        },
        {
          "output_type": "stream",
          "text": [
            "loss=0.42522352933883667 batch_id=390 Accuracy = 0.85718: 100%|██████████| 391/391 [00:30<00:00, 12.85it/s]\n",
            "loss=0.3255082070827484 batch_id=1 Accuracy = 0.00454:   1%|          | 2/391 [00:00<00:33, 11.51it/s]"
          ],
          "name": "stderr"
        },
        {
          "output_type": "stream",
          "text": [
            "\n",
            "Test set: Average loss: 0.0042, Accuracy: 8261/10000 (82.61%)\n",
            "\n"
          ],
          "name": "stdout"
        },
        {
          "output_type": "stream",
          "text": [
            "loss=0.4803652763366699 batch_id=390 Accuracy = 0.85738: 100%|██████████| 391/391 [00:30<00:00, 12.67it/s]\n",
            "loss=0.4067174196243286 batch_id=1 Accuracy = 0.00442:   1%|          | 2/391 [00:00<00:31, 12.16it/s]"
          ],
          "name": "stderr"
        },
        {
          "output_type": "stream",
          "text": [
            "\n",
            "Test set: Average loss: 0.0042, Accuracy: 8221/10000 (82.21%)\n",
            "\n"
          ],
          "name": "stdout"
        },
        {
          "output_type": "stream",
          "text": [
            "loss=0.48390859365463257 batch_id=390 Accuracy = 0.85854: 100%|██████████| 391/391 [00:30<00:00, 12.72it/s]\n",
            "loss=0.3831440210342407 batch_id=1 Accuracy = 0.00444:   1%|          | 2/391 [00:00<00:31, 12.16it/s]"
          ],
          "name": "stderr"
        },
        {
          "output_type": "stream",
          "text": [
            "\n",
            "Test set: Average loss: 0.0039, Accuracy: 8362/10000 (83.62%)\n",
            "\n"
          ],
          "name": "stdout"
        },
        {
          "output_type": "stream",
          "text": [
            "loss=0.37802937626838684 batch_id=390 Accuracy = 0.85836: 100%|██████████| 391/391 [00:30<00:00, 12.84it/s]\n",
            "loss=0.48449817299842834 batch_id=1 Accuracy = 0.00416:   1%|          | 2/391 [00:00<00:30, 12.93it/s]"
          ],
          "name": "stderr"
        },
        {
          "output_type": "stream",
          "text": [
            "\n",
            "Test set: Average loss: 0.0040, Accuracy: 8325/10000 (83.25%)\n",
            "\n"
          ],
          "name": "stdout"
        },
        {
          "output_type": "stream",
          "text": [
            "loss=0.40740853548049927 batch_id=390 Accuracy = 0.85918: 100%|██████████| 391/391 [00:30<00:00, 12.77it/s]\n",
            "loss=0.3010029196739197 batch_id=1 Accuracy = 0.00452:   1%|          | 2/391 [00:00<00:34, 11.43it/s]"
          ],
          "name": "stderr"
        },
        {
          "output_type": "stream",
          "text": [
            "\n",
            "Test set: Average loss: 0.0040, Accuracy: 8313/10000 (83.13%)\n",
            "\n"
          ],
          "name": "stdout"
        },
        {
          "output_type": "stream",
          "text": [
            "loss=0.4073437750339508 batch_id=390 Accuracy = 0.86218: 100%|██████████| 391/391 [00:30<00:00, 12.73it/s]\n",
            "loss=0.346072793006897 batch_id=1 Accuracy = 0.00444:   1%|          | 2/391 [00:00<00:32, 11.91it/s]"
          ],
          "name": "stderr"
        },
        {
          "output_type": "stream",
          "text": [
            "\n",
            "Test set: Average loss: 0.0040, Accuracy: 8347/10000 (83.47%)\n",
            "\n"
          ],
          "name": "stdout"
        },
        {
          "output_type": "stream",
          "text": [
            "loss=0.5907148122787476 batch_id=390 Accuracy = 0.863: 100%|██████████| 391/391 [00:30<00:00, 12.92it/s]\n",
            "loss=0.42723894119262695 batch_id=1 Accuracy = 0.00446:   1%|          | 2/391 [00:00<00:31, 12.36it/s]"
          ],
          "name": "stderr"
        },
        {
          "output_type": "stream",
          "text": [
            "\n",
            "Test set: Average loss: 0.0038, Accuracy: 8400/10000 (84.00%)\n",
            "\n"
          ],
          "name": "stdout"
        },
        {
          "output_type": "stream",
          "text": [
            "loss=0.32649436593055725 batch_id=390 Accuracy = 0.86406: 100%|██████████| 391/391 [00:30<00:00, 12.93it/s]\n",
            "loss=0.4331353008747101 batch_id=1 Accuracy = 0.00434:   1%|          | 2/391 [00:00<00:31, 12.20it/s]"
          ],
          "name": "stderr"
        },
        {
          "output_type": "stream",
          "text": [
            "\n",
            "Test set: Average loss: 0.0038, Accuracy: 8355/10000 (83.55%)\n",
            "\n"
          ],
          "name": "stdout"
        },
        {
          "output_type": "stream",
          "text": [
            "loss=0.4695051312446594 batch_id=390 Accuracy = 0.86606: 100%|██████████| 391/391 [00:30<00:00, 12.90it/s]\n",
            "loss=0.3957010805606842 batch_id=1 Accuracy = 0.00448:   1%|          | 2/391 [00:00<00:31, 12.50it/s]"
          ],
          "name": "stderr"
        },
        {
          "output_type": "stream",
          "text": [
            "\n",
            "Test set: Average loss: 0.0040, Accuracy: 8329/10000 (83.29%)\n",
            "\n"
          ],
          "name": "stdout"
        },
        {
          "output_type": "stream",
          "text": [
            "loss=0.34877046942710876 batch_id=390 Accuracy = 0.86494: 100%|██████████| 391/391 [00:30<00:00, 12.97it/s]\n",
            "loss=0.3399106562137604 batch_id=1 Accuracy = 0.00442:   1%|          | 2/391 [00:00<00:31, 12.28it/s]"
          ],
          "name": "stderr"
        },
        {
          "output_type": "stream",
          "text": [
            "\n",
            "Test set: Average loss: 0.0040, Accuracy: 8316/10000 (83.16%)\n",
            "\n"
          ],
          "name": "stdout"
        },
        {
          "output_type": "stream",
          "text": [
            "loss=0.282654345035553 batch_id=390 Accuracy = 0.86726: 100%|██████████| 391/391 [00:30<00:00, 12.96it/s]\n",
            "loss=0.29523009061813354 batch_id=1 Accuracy = 0.00444:   1%|          | 2/391 [00:00<00:30, 12.78it/s]"
          ],
          "name": "stderr"
        },
        {
          "output_type": "stream",
          "text": [
            "\n",
            "Test set: Average loss: 0.0039, Accuracy: 8391/10000 (83.91%)\n",
            "\n"
          ],
          "name": "stdout"
        },
        {
          "output_type": "stream",
          "text": [
            "loss=0.42309412360191345 batch_id=390 Accuracy = 0.86578: 100%|██████████| 391/391 [00:30<00:00, 12.87it/s]\n",
            "loss=0.3709745407104492 batch_id=1 Accuracy = 0.00438:   1%|          | 2/391 [00:00<00:32, 11.86it/s]"
          ],
          "name": "stderr"
        },
        {
          "output_type": "stream",
          "text": [
            "\n",
            "Test set: Average loss: 0.0040, Accuracy: 8363/10000 (83.63%)\n",
            "\n"
          ],
          "name": "stdout"
        },
        {
          "output_type": "stream",
          "text": [
            "loss=0.222254678606987 batch_id=390 Accuracy = 0.86602: 100%|██████████| 391/391 [00:30<00:00, 12.84it/s]\n",
            "loss=0.3613165020942688 batch_id=1 Accuracy = 0.00438:   1%|          | 2/391 [00:00<00:32, 11.87it/s]"
          ],
          "name": "stderr"
        },
        {
          "output_type": "stream",
          "text": [
            "\n",
            "Test set: Average loss: 0.0040, Accuracy: 8379/10000 (83.79%)\n",
            "\n"
          ],
          "name": "stdout"
        },
        {
          "output_type": "stream",
          "text": [
            "loss=0.2920942008495331 batch_id=390 Accuracy = 0.86606: 100%|██████████| 391/391 [00:30<00:00, 12.72it/s]\n",
            "loss=0.5017516016960144 batch_id=1 Accuracy = 0.00418:   1%|          | 2/391 [00:00<00:31, 12.36it/s]"
          ],
          "name": "stderr"
        },
        {
          "output_type": "stream",
          "text": [
            "\n",
            "Test set: Average loss: 0.0038, Accuracy: 8392/10000 (83.92%)\n",
            "\n"
          ],
          "name": "stdout"
        },
        {
          "output_type": "stream",
          "text": [
            "loss=0.4237387776374817 batch_id=390 Accuracy = 0.86868: 100%|██████████| 391/391 [00:30<00:00, 12.78it/s]\n",
            "loss=0.3273095488548279 batch_id=1 Accuracy = 0.00472:   1%|          | 2/391 [00:00<00:29, 13.02it/s]"
          ],
          "name": "stderr"
        },
        {
          "output_type": "stream",
          "text": [
            "\n",
            "Test set: Average loss: 0.0041, Accuracy: 8328/10000 (83.28%)\n",
            "\n"
          ],
          "name": "stdout"
        },
        {
          "output_type": "stream",
          "text": [
            "loss=0.48098325729370117 batch_id=390 Accuracy = 0.87064: 100%|██████████| 391/391 [00:30<00:00, 12.94it/s]\n",
            "loss=0.23328810930252075 batch_id=1 Accuracy = 0.0047:   1%|          | 2/391 [00:00<00:33, 11.67it/s]"
          ],
          "name": "stderr"
        },
        {
          "output_type": "stream",
          "text": [
            "\n",
            "Test set: Average loss: 0.0039, Accuracy: 8350/10000 (83.50%)\n",
            "\n"
          ],
          "name": "stdout"
        },
        {
          "output_type": "stream",
          "text": [
            "loss=0.3481886386871338 batch_id=390 Accuracy = 0.87114: 100%|██████████| 391/391 [00:30<00:00, 12.78it/s]\n",
            "loss=0.3585508465766907 batch_id=1 Accuracy = 0.00442:   1%|          | 2/391 [00:00<00:30, 12.90it/s]"
          ],
          "name": "stderr"
        },
        {
          "output_type": "stream",
          "text": [
            "\n",
            "Test set: Average loss: 0.0039, Accuracy: 8381/10000 (83.81%)\n",
            "\n"
          ],
          "name": "stdout"
        },
        {
          "output_type": "stream",
          "text": [
            "loss=0.3436315059661865 batch_id=390 Accuracy = 0.8718: 100%|██████████| 391/391 [00:30<00:00, 12.93it/s]\n",
            "loss=0.3345164358615875 batch_id=1 Accuracy = 0.00456:   1%|          | 2/391 [00:00<00:29, 13.05it/s]"
          ],
          "name": "stderr"
        },
        {
          "output_type": "stream",
          "text": [
            "\n",
            "Test set: Average loss: 0.0039, Accuracy: 8418/10000 (84.18%)\n",
            "\n"
          ],
          "name": "stdout"
        },
        {
          "output_type": "stream",
          "text": [
            "loss=0.3499346077442169 batch_id=390 Accuracy = 0.87246: 100%|██████████| 391/391 [00:30<00:00, 12.96it/s]\n",
            "loss=0.32126379013061523 batch_id=1 Accuracy = 0.0045:   1%|          | 2/391 [00:00<00:32, 12.15it/s]"
          ],
          "name": "stderr"
        },
        {
          "output_type": "stream",
          "text": [
            "\n",
            "Test set: Average loss: 0.0039, Accuracy: 8443/10000 (84.43%)\n",
            "\n"
          ],
          "name": "stdout"
        },
        {
          "output_type": "stream",
          "text": [
            "loss=0.5116066336631775 batch_id=390 Accuracy = 0.87386: 100%|██████████| 391/391 [00:29<00:00, 13.04it/s]\n",
            "loss=0.53130704164505 batch_id=1 Accuracy = 0.00432:   1%|          | 2/391 [00:00<00:30, 12.71it/s]"
          ],
          "name": "stderr"
        },
        {
          "output_type": "stream",
          "text": [
            "\n",
            "Test set: Average loss: 0.0040, Accuracy: 8351/10000 (83.51%)\n",
            "\n"
          ],
          "name": "stdout"
        },
        {
          "output_type": "stream",
          "text": [
            "loss=0.3474352955818176 batch_id=390 Accuracy = 0.8747: 100%|██████████| 391/391 [00:30<00:00, 12.77it/s]\n",
            "loss=0.4043482542037964 batch_id=1 Accuracy = 0.00448:   1%|          | 2/391 [00:00<00:30, 12.85it/s]"
          ],
          "name": "stderr"
        },
        {
          "output_type": "stream",
          "text": [
            "\n",
            "Test set: Average loss: 0.0037, Accuracy: 8474/10000 (84.74%)\n",
            "\n"
          ],
          "name": "stdout"
        },
        {
          "output_type": "stream",
          "text": [
            "loss=0.30795416235923767 batch_id=390 Accuracy = 0.87556: 100%|██████████| 391/391 [00:30<00:00, 12.71it/s]\n",
            "loss=0.41377291083335876 batch_id=1 Accuracy = 0.00434:   1%|          | 2/391 [00:00<00:29, 13.04it/s]"
          ],
          "name": "stderr"
        },
        {
          "output_type": "stream",
          "text": [
            "\n",
            "Test set: Average loss: 0.0037, Accuracy: 8487/10000 (84.87%)\n",
            "\n"
          ],
          "name": "stdout"
        },
        {
          "output_type": "stream",
          "text": [
            "loss=0.47439059615135193 batch_id=390 Accuracy = 0.8753: 100%|██████████| 391/391 [00:30<00:00, 12.73it/s]\n",
            "loss=0.38089436292648315 batch_id=1 Accuracy = 0.00444:   1%|          | 2/391 [00:00<00:30, 12.85it/s]"
          ],
          "name": "stderr"
        },
        {
          "output_type": "stream",
          "text": [
            "\n",
            "Test set: Average loss: 0.0039, Accuracy: 8383/10000 (83.83%)\n",
            "\n"
          ],
          "name": "stdout"
        },
        {
          "output_type": "stream",
          "text": [
            "loss=0.219180628657341 batch_id=390 Accuracy = 0.87682: 100%|██████████| 391/391 [00:30<00:00, 12.78it/s]\n",
            "loss=0.31853315234184265 batch_id=1 Accuracy = 0.0046:   1%|          | 2/391 [00:00<00:30, 12.83it/s]"
          ],
          "name": "stderr"
        },
        {
          "output_type": "stream",
          "text": [
            "\n",
            "Test set: Average loss: 0.0036, Accuracy: 8511/10000 (85.11%)\n",
            "\n"
          ],
          "name": "stdout"
        },
        {
          "output_type": "stream",
          "text": [
            "loss=0.24984757602214813 batch_id=390 Accuracy = 0.87532: 100%|██████████| 391/391 [00:30<00:00, 12.93it/s]\n",
            "loss=0.3462221026420593 batch_id=1 Accuracy = 0.0044:   1%|          | 2/391 [00:00<00:32, 11.98it/s]"
          ],
          "name": "stderr"
        },
        {
          "output_type": "stream",
          "text": [
            "\n",
            "Test set: Average loss: 0.0038, Accuracy: 8453/10000 (84.53%)\n",
            "\n"
          ],
          "name": "stdout"
        },
        {
          "output_type": "stream",
          "text": [
            "loss=0.36315321922302246 batch_id=390 Accuracy = 0.87758: 100%|██████████| 391/391 [00:29<00:00, 13.07it/s]\n",
            "loss=0.3687235713005066 batch_id=1 Accuracy = 0.00456:   1%|          | 2/391 [00:00<00:32, 11.81it/s]"
          ],
          "name": "stderr"
        },
        {
          "output_type": "stream",
          "text": [
            "\n",
            "Test set: Average loss: 0.0041, Accuracy: 8385/10000 (83.85%)\n",
            "\n"
          ],
          "name": "stdout"
        },
        {
          "output_type": "stream",
          "text": [
            "loss=0.5037229061126709 batch_id=390 Accuracy = 0.88024: 100%|██████████| 391/391 [00:30<00:00, 12.94it/s]\n",
            "loss=0.44238102436065674 batch_id=1 Accuracy = 0.00444:   1%|          | 2/391 [00:00<00:30, 12.91it/s]"
          ],
          "name": "stderr"
        },
        {
          "output_type": "stream",
          "text": [
            "\n",
            "Test set: Average loss: 0.0042, Accuracy: 8363/10000 (83.63%)\n",
            "\n"
          ],
          "name": "stdout"
        },
        {
          "output_type": "stream",
          "text": [
            "loss=0.5266768336296082 batch_id=390 Accuracy = 0.87888: 100%|██████████| 391/391 [00:30<00:00, 12.72it/s]\n",
            "loss=0.2934134006500244 batch_id=1 Accuracy = 0.00456:   1%|          | 2/391 [00:00<00:30, 12.97it/s]"
          ],
          "name": "stderr"
        },
        {
          "output_type": "stream",
          "text": [
            "\n",
            "Test set: Average loss: 0.0038, Accuracy: 8399/10000 (83.99%)\n",
            "\n"
          ],
          "name": "stdout"
        },
        {
          "output_type": "stream",
          "text": [
            "loss=0.30968859791755676 batch_id=390 Accuracy = 0.87962: 100%|██████████| 391/391 [00:30<00:00, 13.01it/s]\n",
            "loss=0.3154524862766266 batch_id=1 Accuracy = 0.0045:   1%|          | 2/391 [00:00<00:31, 12.50it/s]"
          ],
          "name": "stderr"
        },
        {
          "output_type": "stream",
          "text": [
            "\n",
            "Test set: Average loss: 0.0039, Accuracy: 8412/10000 (84.12%)\n",
            "\n"
          ],
          "name": "stdout"
        },
        {
          "output_type": "stream",
          "text": [
            "loss=0.33930593729019165 batch_id=390 Accuracy = 0.88148: 100%|██████████| 391/391 [00:30<00:00, 12.99it/s]\n",
            "loss=0.31987670063972473 batch_id=1 Accuracy = 0.0044:   1%|          | 2/391 [00:00<00:31, 12.52it/s]"
          ],
          "name": "stderr"
        },
        {
          "output_type": "stream",
          "text": [
            "\n",
            "Test set: Average loss: 0.0039, Accuracy: 8402/10000 (84.02%)\n",
            "\n"
          ],
          "name": "stdout"
        },
        {
          "output_type": "stream",
          "text": [
            "loss=0.29839780926704407 batch_id=390 Accuracy = 0.88118: 100%|██████████| 391/391 [00:30<00:00, 12.90it/s]\n",
            "loss=0.30174294114112854 batch_id=1 Accuracy = 0.00456:   1%|          | 2/391 [00:00<00:33, 11.44it/s]"
          ],
          "name": "stderr"
        },
        {
          "output_type": "stream",
          "text": [
            "\n",
            "Test set: Average loss: 0.0039, Accuracy: 8432/10000 (84.32%)\n",
            "\n"
          ],
          "name": "stdout"
        },
        {
          "output_type": "stream",
          "text": [
            "loss=0.3348205089569092 batch_id=390 Accuracy = 0.8808: 100%|██████████| 391/391 [00:30<00:00, 12.87it/s]\n"
          ],
          "name": "stderr"
        },
        {
          "output_type": "stream",
          "text": [
            "\n",
            "Test set: Average loss: 0.0037, Accuracy: 8489/10000 (84.89%)\n",
            "\n"
          ],
          "name": "stdout"
        }
      ]
    },
    {
      "cell_type": "code",
      "metadata": {
        "id": "repp3fyD6Ox7",
        "colab_type": "code",
        "colab": {}
      },
      "source": [
        ""
      ],
      "execution_count": null,
      "outputs": []
    }
  ]
}