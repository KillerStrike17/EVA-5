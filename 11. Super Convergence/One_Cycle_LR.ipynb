{
  "nbformat": 4,
  "nbformat_minor": 0,
  "metadata": {
    "colab": {
      "name": "One Cycle LR.ipynb",
      "provenance": [],
      "collapsed_sections": [],
      "authorship_tag": "ABX9TyO7nnhl0Qrcm8boJyDDN9eh",
      "include_colab_link": true
    },
    "kernelspec": {
      "name": "python3",
      "display_name": "Python 3"
    },
    "accelerator": "GPU",
    "widgets": {
      "application/vnd.jupyter.widget-state+json": {
        "67fd570e990649048c376485f5d444b9": {
          "model_module": "@jupyter-widgets/controls",
          "model_name": "HBoxModel",
          "state": {
            "_view_name": "HBoxView",
            "_dom_classes": [],
            "_model_name": "HBoxModel",
            "_view_module": "@jupyter-widgets/controls",
            "_model_module_version": "1.5.0",
            "_view_count": null,
            "_view_module_version": "1.5.0",
            "box_style": "",
            "layout": "IPY_MODEL_9c818f9853054d91a55a14870476e806",
            "_model_module": "@jupyter-widgets/controls",
            "children": [
              "IPY_MODEL_3210100c2c484541867b8fa096f4811b",
              "IPY_MODEL_1a25fad65ed74ecc8b7ec8f22d68a3b5"
            ]
          }
        },
        "9c818f9853054d91a55a14870476e806": {
          "model_module": "@jupyter-widgets/base",
          "model_name": "LayoutModel",
          "state": {
            "_view_name": "LayoutView",
            "grid_template_rows": null,
            "right": null,
            "justify_content": null,
            "_view_module": "@jupyter-widgets/base",
            "overflow": null,
            "_model_module_version": "1.2.0",
            "_view_count": null,
            "flex_flow": null,
            "width": null,
            "min_width": null,
            "border": null,
            "align_items": null,
            "bottom": null,
            "_model_module": "@jupyter-widgets/base",
            "top": null,
            "grid_column": null,
            "overflow_y": null,
            "overflow_x": null,
            "grid_auto_flow": null,
            "grid_area": null,
            "grid_template_columns": null,
            "flex": null,
            "_model_name": "LayoutModel",
            "justify_items": null,
            "grid_row": null,
            "max_height": null,
            "align_content": null,
            "visibility": null,
            "align_self": null,
            "height": null,
            "min_height": null,
            "padding": null,
            "grid_auto_rows": null,
            "grid_gap": null,
            "max_width": null,
            "order": null,
            "_view_module_version": "1.2.0",
            "grid_template_areas": null,
            "object_position": null,
            "object_fit": null,
            "grid_auto_columns": null,
            "margin": null,
            "display": null,
            "left": null
          }
        },
        "3210100c2c484541867b8fa096f4811b": {
          "model_module": "@jupyter-widgets/controls",
          "model_name": "FloatProgressModel",
          "state": {
            "_view_name": "ProgressView",
            "style": "IPY_MODEL_67d720a461be4fdeb77cbbef2e94ae7f",
            "_dom_classes": [],
            "description": " 74%",
            "_model_name": "FloatProgressModel",
            "bar_style": "danger",
            "max": 100,
            "_view_module": "@jupyter-widgets/controls",
            "_model_module_version": "1.5.0",
            "value": 74,
            "_view_count": null,
            "_view_module_version": "1.5.0",
            "orientation": "horizontal",
            "min": 0,
            "description_tooltip": null,
            "_model_module": "@jupyter-widgets/controls",
            "layout": "IPY_MODEL_5d4254f7843145c6bdb17018b0392de0"
          }
        },
        "1a25fad65ed74ecc8b7ec8f22d68a3b5": {
          "model_module": "@jupyter-widgets/controls",
          "model_name": "HTMLModel",
          "state": {
            "_view_name": "HTMLView",
            "style": "IPY_MODEL_d8da6bff5b9e414595879ac394e4a11b",
            "_dom_classes": [],
            "description": "",
            "_model_name": "HTMLModel",
            "placeholder": "​",
            "_view_module": "@jupyter-widgets/controls",
            "_model_module_version": "1.5.0",
            "value": " 74/100 [00:08&lt;00:02,  8.71it/s]",
            "_view_count": null,
            "_view_module_version": "1.5.0",
            "description_tooltip": null,
            "_model_module": "@jupyter-widgets/controls",
            "layout": "IPY_MODEL_a4c6a6e3cfd24e969e40cd449bdbfc0e"
          }
        },
        "67d720a461be4fdeb77cbbef2e94ae7f": {
          "model_module": "@jupyter-widgets/controls",
          "model_name": "ProgressStyleModel",
          "state": {
            "_view_name": "StyleView",
            "_model_name": "ProgressStyleModel",
            "description_width": "initial",
            "_view_module": "@jupyter-widgets/base",
            "_model_module_version": "1.5.0",
            "_view_count": null,
            "_view_module_version": "1.2.0",
            "bar_color": null,
            "_model_module": "@jupyter-widgets/controls"
          }
        },
        "5d4254f7843145c6bdb17018b0392de0": {
          "model_module": "@jupyter-widgets/base",
          "model_name": "LayoutModel",
          "state": {
            "_view_name": "LayoutView",
            "grid_template_rows": null,
            "right": null,
            "justify_content": null,
            "_view_module": "@jupyter-widgets/base",
            "overflow": null,
            "_model_module_version": "1.2.0",
            "_view_count": null,
            "flex_flow": null,
            "width": null,
            "min_width": null,
            "border": null,
            "align_items": null,
            "bottom": null,
            "_model_module": "@jupyter-widgets/base",
            "top": null,
            "grid_column": null,
            "overflow_y": null,
            "overflow_x": null,
            "grid_auto_flow": null,
            "grid_area": null,
            "grid_template_columns": null,
            "flex": null,
            "_model_name": "LayoutModel",
            "justify_items": null,
            "grid_row": null,
            "max_height": null,
            "align_content": null,
            "visibility": null,
            "align_self": null,
            "height": null,
            "min_height": null,
            "padding": null,
            "grid_auto_rows": null,
            "grid_gap": null,
            "max_width": null,
            "order": null,
            "_view_module_version": "1.2.0",
            "grid_template_areas": null,
            "object_position": null,
            "object_fit": null,
            "grid_auto_columns": null,
            "margin": null,
            "display": null,
            "left": null
          }
        },
        "d8da6bff5b9e414595879ac394e4a11b": {
          "model_module": "@jupyter-widgets/controls",
          "model_name": "DescriptionStyleModel",
          "state": {
            "_view_name": "StyleView",
            "_model_name": "DescriptionStyleModel",
            "description_width": "",
            "_view_module": "@jupyter-widgets/base",
            "_model_module_version": "1.5.0",
            "_view_count": null,
            "_view_module_version": "1.2.0",
            "_model_module": "@jupyter-widgets/controls"
          }
        },
        "a4c6a6e3cfd24e969e40cd449bdbfc0e": {
          "model_module": "@jupyter-widgets/base",
          "model_name": "LayoutModel",
          "state": {
            "_view_name": "LayoutView",
            "grid_template_rows": null,
            "right": null,
            "justify_content": null,
            "_view_module": "@jupyter-widgets/base",
            "overflow": null,
            "_model_module_version": "1.2.0",
            "_view_count": null,
            "flex_flow": null,
            "width": null,
            "min_width": null,
            "border": null,
            "align_items": null,
            "bottom": null,
            "_model_module": "@jupyter-widgets/base",
            "top": null,
            "grid_column": null,
            "overflow_y": null,
            "overflow_x": null,
            "grid_auto_flow": null,
            "grid_area": null,
            "grid_template_columns": null,
            "flex": null,
            "_model_name": "LayoutModel",
            "justify_items": null,
            "grid_row": null,
            "max_height": null,
            "align_content": null,
            "visibility": null,
            "align_self": null,
            "height": null,
            "min_height": null,
            "padding": null,
            "grid_auto_rows": null,
            "grid_gap": null,
            "max_width": null,
            "order": null,
            "_view_module_version": "1.2.0",
            "grid_template_areas": null,
            "object_position": null,
            "object_fit": null,
            "grid_auto_columns": null,
            "margin": null,
            "display": null,
            "left": null
          }
        }
      }
    }
  },
  "cells": [
    {
      "cell_type": "markdown",
      "metadata": {
        "id": "view-in-github",
        "colab_type": "text"
      },
      "source": [
        "<a href=\"https://colab.research.google.com/github/KillerStrike17/EVA-5/blob/master/11.%20Super%20Convergence/One_Cycle_LR.ipynb\" target=\"_parent\"><img src=\"https://colab.research.google.com/assets/colab-badge.svg\" alt=\"Open In Colab\"/></a>"
      ]
    },
    {
      "cell_type": "code",
      "metadata": {
        "id": "AUKirSIGZPeb",
        "outputId": "99f6c446-91af-4a12-cc4e-2d1cf0fc02d1",
        "colab": {
          "base_uri": "https://localhost:8080/",
          "height": 381
        }
      },
      "source": [
        "!nvidia-smi"
      ],
      "execution_count": 1,
      "outputs": [
        {
          "output_type": "stream",
          "text": [
            "Sun Oct 11 11:07:40 2020       \n",
            "+-----------------------------------------------------------------------------+\n",
            "| NVIDIA-SMI 455.23.05    Driver Version: 418.67       CUDA Version: 10.1     |\n",
            "|-------------------------------+----------------------+----------------------+\n",
            "| GPU  Name        Persistence-M| Bus-Id        Disp.A | Volatile Uncorr. ECC |\n",
            "| Fan  Temp  Perf  Pwr:Usage/Cap|         Memory-Usage | GPU-Util  Compute M. |\n",
            "|                               |                      |               MIG M. |\n",
            "|===============================+======================+======================|\n",
            "|   0  Tesla P100-PCIE...  Off  | 00000000:00:04.0 Off |                    0 |\n",
            "| N/A   45C    P0    28W / 250W |      0MiB / 16280MiB |      0%      Default |\n",
            "|                               |                      |                 ERR! |\n",
            "+-------------------------------+----------------------+----------------------+\n",
            "                                                                               \n",
            "+-----------------------------------------------------------------------------+\n",
            "| Processes:                                                                  |\n",
            "|  GPU   GI   CI        PID   Type   Process name                  GPU Memory |\n",
            "|        ID   ID                                                   Usage      |\n",
            "|=============================================================================|\n",
            "|  No running processes found                                                 |\n",
            "+-----------------------------------------------------------------------------+\n"
          ],
          "name": "stdout"
        }
      ]
    },
    {
      "cell_type": "code",
      "metadata": {
        "id": "SK97oPUiZTlL",
        "outputId": "957f50de-294c-45e7-fed7-65976c9f0976",
        "colab": {
          "base_uri": "https://localhost:8080/",
          "height": 145
        }
      },
      "source": [
        "!git clone https://github.com/KillerStrike17/PyDeNN.git\n"
      ],
      "execution_count": 2,
      "outputs": [
        {
          "output_type": "stream",
          "text": [
            "Cloning into 'PyDeNN'...\n",
            "remote: Enumerating objects: 313, done.\u001b[K\n",
            "remote: Counting objects: 100% (313/313), done.\u001b[K\n",
            "remote: Compressing objects: 100% (246/246), done.\u001b[K\n",
            "remote: Total 313 (delta 106), reused 260 (delta 60), pack-reused 0\u001b[K\n",
            "Receiving objects: 100% (313/313), 18.89 MiB | 6.61 MiB/s, done.\n",
            "Resolving deltas: 100% (106/106), done.\n"
          ],
          "name": "stdout"
        }
      ]
    },
    {
      "cell_type": "code",
      "metadata": {
        "id": "oQAIFBFxb0XM",
        "outputId": "7e5e6445-68af-4e9b-f97a-a15e0a4a154d",
        "colab": {
          "base_uri": "https://localhost:8080/",
          "height": 35
        }
      },
      "source": [
        "%cd PyDeNN/"
      ],
      "execution_count": 1,
      "outputs": [
        {
          "output_type": "stream",
          "text": [
            "/content/PyDeNN\n"
          ],
          "name": "stdout"
        }
      ]
    },
    {
      "cell_type": "code",
      "metadata": {
        "id": "4MBMsYbPZxi0"
      },
      "source": [
        "from DeNN.custom_model import david_net\n",
        "from DeNN.dataset_loader import data_loader, data_augmentation\n",
        "from DeNN.trainer import trainer\n",
        "from DeNN.visualization import * \n",
        "from DeNN.util import *"
      ],
      "execution_count": 2,
      "outputs": []
    },
    {
      "cell_type": "code",
      "metadata": {
        "id": "8tv2O9rCZ2sR"
      },
      "source": [
        "import torch,torchvision\n",
        "from torchsummary import summary\n",
        "import torch.nn as nn\n",
        "import torch.nn.functional as F\n",
        "import torch.optim as optim\n",
        "from torchvision.transforms.functional import normalize, resize, to_tensor, to_pil_image\n",
        "from torch.optim.lr_scheduler import ReduceLROnPlateau,OneCycleLR"
      ],
      "execution_count": 3,
      "outputs": []
    },
    {
      "cell_type": "code",
      "metadata": {
        "id": "AkunQzZCZ7Zc"
      },
      "source": [
        "DATA_PATH = 'data/'\n",
        "BATCH_SIZE =128"
      ],
      "execution_count": 4,
      "outputs": []
    },
    {
      "cell_type": "code",
      "metadata": {
        "id": "DPHsBi0-Z8_Z",
        "outputId": "a0314622-9847-479d-da61-451e812dd074",
        "colab": {
          "base_uri": "https://localhost:8080/",
          "height": 54
        }
      },
      "source": [
        "  my_transformations = data_augmentation.DataAugmentationCifar10_album()\n",
        "  train, test = data_loader.DatasetCifar10(data_path = DATA_PATH,transformations = my_transformations,batch_size = BATCH_SIZE).load_data()"
      ],
      "execution_count": 5,
      "outputs": [
        {
          "output_type": "stream",
          "text": [
            "Files already downloaded and verified\n",
            "Files already downloaded and verified\n"
          ],
          "name": "stdout"
        }
      ]
    },
    {
      "cell_type": "code",
      "metadata": {
        "id": "MSNalPpXZ_KQ"
      },
      "source": [
        "classes = ('plane', 'car', 'bird', 'cat',\n",
        "           'deer', 'dog', 'frog', 'horse', 'ship', 'truck')"
      ],
      "execution_count": 6,
      "outputs": []
    },
    {
      "cell_type": "code",
      "metadata": {
        "id": "hmF3cOxvaAyA",
        "outputId": "bd916e32-f6a2-4d20-b2f7-e92d5df0b8ff",
        "colab": {
          "base_uri": "https://localhost:8080/",
          "height": 854
        }
      },
      "source": [
        "use_cuda = torch.cuda.is_available()\n",
        "device = torch.device(\"cuda\" if use_cuda else \"cpu\")\n",
        "model = david_net.David_net().to(device)\n",
        "summary(model,input_size=(3,32,32))"
      ],
      "execution_count": 7,
      "outputs": [
        {
          "output_type": "stream",
          "text": [
            "----------------------------------------------------------------\n",
            "        Layer (type)               Output Shape         Param #\n",
            "================================================================\n",
            "            Conv2d-1           [-1, 64, 32, 32]           1,728\n",
            "       BatchNorm2d-2           [-1, 64, 32, 32]             128\n",
            "              ReLU-3           [-1, 64, 32, 32]               0\n",
            "            Conv2d-4          [-1, 128, 32, 32]          73,728\n",
            "         MaxPool2d-5          [-1, 128, 16, 16]               0\n",
            "       BatchNorm2d-6          [-1, 128, 16, 16]             256\n",
            "              ReLU-7          [-1, 128, 16, 16]               0\n",
            "            Conv2d-8          [-1, 128, 16, 16]         147,456\n",
            "       BatchNorm2d-9          [-1, 128, 16, 16]             256\n",
            "             ReLU-10          [-1, 128, 16, 16]               0\n",
            "           Conv2d-11          [-1, 128, 16, 16]         147,456\n",
            "      BatchNorm2d-12          [-1, 128, 16, 16]             256\n",
            "             ReLU-13          [-1, 128, 16, 16]               0\n",
            "     Resnet_block-14          [-1, 128, 16, 16]               0\n",
            "       Conv_block-15          [-1, 128, 16, 16]               0\n",
            "           Conv2d-16          [-1, 256, 16, 16]         294,912\n",
            "        MaxPool2d-17            [-1, 256, 8, 8]               0\n",
            "      BatchNorm2d-18            [-1, 256, 8, 8]             512\n",
            "             ReLU-19            [-1, 256, 8, 8]               0\n",
            "           Conv2d-20            [-1, 512, 8, 8]       1,179,648\n",
            "        MaxPool2d-21            [-1, 512, 4, 4]               0\n",
            "      BatchNorm2d-22            [-1, 512, 4, 4]           1,024\n",
            "             ReLU-23            [-1, 512, 4, 4]               0\n",
            "           Conv2d-24            [-1, 512, 4, 4]       2,359,296\n",
            "      BatchNorm2d-25            [-1, 512, 4, 4]           1,024\n",
            "             ReLU-26            [-1, 512, 4, 4]               0\n",
            "           Conv2d-27            [-1, 512, 4, 4]       2,359,296\n",
            "      BatchNorm2d-28            [-1, 512, 4, 4]           1,024\n",
            "             ReLU-29            [-1, 512, 4, 4]               0\n",
            "     Resnet_block-30            [-1, 512, 4, 4]               0\n",
            "       Conv_block-31            [-1, 512, 4, 4]               0\n",
            "        MaxPool2d-32            [-1, 512, 1, 1]               0\n",
            "           Conv2d-33             [-1, 10, 1, 1]           5,120\n",
            "================================================================\n",
            "Total params: 6,573,120\n",
            "Trainable params: 6,573,120\n",
            "Non-trainable params: 0\n",
            "----------------------------------------------------------------\n",
            "Input size (MB): 0.01\n",
            "Forward/backward pass size (MB): 7.07\n",
            "Params size (MB): 25.07\n",
            "Estimated Total Size (MB): 32.15\n",
            "----------------------------------------------------------------\n"
          ],
          "name": "stdout"
        }
      ]
    },
    {
      "cell_type": "code",
      "metadata": {
        "id": "Tw5MB_8IWR0J"
      },
      "source": [
        "criterion = nn.CrossEntropyLoss()\n",
        "optimizer = optim.SGD(model.parameters(), lr=0.001, momentum=0.9)"
      ],
      "execution_count": 8,
      "outputs": []
    },
    {
      "cell_type": "code",
      "metadata": {
        "id": "QLZYJkuuViIa",
        "outputId": "f671683b-1356-44c2-b19b-6381657543bf",
        "colab": {
          "base_uri": "https://localhost:8080/",
          "height": 414,
          "referenced_widgets": [
            "67fd570e990649048c376485f5d444b9",
            "9c818f9853054d91a55a14870476e806",
            "3210100c2c484541867b8fa096f4811b",
            "1a25fad65ed74ecc8b7ec8f22d68a3b5",
            "67d720a461be4fdeb77cbbef2e94ae7f",
            "5d4254f7843145c6bdb17018b0392de0",
            "d8da6bff5b9e414595879ac394e4a11b",
            "a4c6a6e3cfd24e969e40cd449bdbfc0e"
          ]
        }
      },
      "source": [
        "lr_finder = LRFinder(model, optimizer, criterion, device=device)\n",
        "lr_finder.range_test(train, end_lr=100, num_iter=100)\n",
        "my_plt,lr_val = lr_finder.plot() # to inspect the loss-learning rate graph\n",
        "lr_finder.reset() # to reset the model and optimizer to their initial state"
      ],
      "execution_count": 9,
      "outputs": [
        {
          "output_type": "display_data",
          "data": {
            "application/vnd.jupyter.widget-view+json": {
              "model_id": "67fd570e990649048c376485f5d444b9",
              "version_minor": 0,
              "version_major": 2
            },
            "text/plain": [
              "HBox(children=(FloatProgress(value=0.0), HTML(value='')))"
            ]
          },
          "metadata": {
            "tags": []
          }
        },
        {
          "output_type": "stream",
          "text": [
            "Stopping early, the loss has diverged\n",
            "Learning rate search finished. See the graph with {finder_name}.plot()\n",
            "LR suggestion: steepest gradient\n",
            "Suggested LR: 3.76E-01\n",
            "\n"
          ],
          "name": "stdout"
        },
        {
          "output_type": "display_data",
          "data": {
            "image/png": "[encoded data removed]",
            "text/plain": [
              "<Figure size 432x288 with 1 Axes>"
            ]
          },
          "metadata": {
            "tags": []
          }
        }
      ]
    },
    {
      "cell_type": "code",
      "metadata": {
        "id": "LA2Xers5pQXt"
      },
      "source": [
        "lr_val = lr_finder.history['lr'][lr_finder.history['loss'].index(lr_finder.best_loss)]"
      ],
      "execution_count": 10,
      "outputs": []
    },
    {
      "cell_type": "code",
      "metadata": {
        "id": "r9waUeCeYdms",
        "outputId": "55bdb40a-7ec8-4668-bb51-48065338f93d",
        "colab": {
          "base_uri": "https://localhost:8080/",
          "height": 35
        }
      },
      "source": [
        "max_lr = lr_val\n",
        "min_lr = max_lr/10\n",
        "max_lr,min_lr"
      ],
      "execution_count": 11,
      "outputs": [
        {
          "output_type": "execute_result",
          "data": {
            "text/plain": [
              "(0.004534878508128583, 0.00045348785081285824)"
            ]
          },
          "metadata": {
            "tags": []
          },
          "execution_count": 11
        }
      ]
    },
    {
      "cell_type": "code",
      "metadata": {
        "id": "y9WLW8Gyafld"
      },
      "source": [
        "\n",
        "scheduler = OneCycleLR(optimizer,max_lr=max_lr,steps_per_epoch=len(train),epochs = 24,pct_start=4/24)"
      ],
      "execution_count": 13,
      "outputs": []
    },
    {
      "cell_type": "code",
      "metadata": {
        "id": "SzGs-WwBWGdD"
      },
      "source": [
        "# optimizer = optim.SGD(model.parameters(), lr=lr_val, momentum=0.9)\n",
        "trainer = trainer.Trainer( model =model , optimizer =optimizer , device =device , train_loader = train, test_loader = test,epochs = 24,criteria = criterion,scheduler = scheduler)"
      ],
      "execution_count": 14,
      "outputs": []
    },
    {
      "cell_type": "code",
      "metadata": {
        "id": "59RAHkkwWJCt",
        "outputId": "34ffc670-cfe6-4384-9f37-bef436e9f082",
        "colab": {
          "base_uri": "https://localhost:8080/",
          "height": 1000
        }
      },
      "source": [
        "(w,x),(y,z) = trainer.train()"
      ],
      "execution_count": 15,
      "outputs": [
        {
          "output_type": "stream",
          "text": [
            "loss=5.10180139541626 batch_id=0 Accuracy = 0.00024:   0%|          | 1/391 [00:00<00:48,  8.11it/s]"
          ],
          "name": "stderr"
        },
        {
          "output_type": "stream",
          "text": [
            "Epoch: 1\n",
            "LR Value 0.000181395140325143\n"
          ],
          "name": "stdout"
        },
        {
          "output_type": "stream",
          "text": [
            "loss=1.685442328453064 batch_id=390 Accuracy = 0.44416: 100%|██████████| 391/391 [00:42<00:00,  9.12it/s]\n",
            "loss=1.2898147106170654 batch_id=0 Accuracy = 0.00144:   0%|          | 1/391 [00:00<00:45,  8.54it/s]"
          ],
          "name": "stderr"
        },
        {
          "output_type": "stream",
          "text": [
            "\n",
            "Test set: Average loss: 0.0128, Accuracy: 4745/10000 (47.45%)\n",
            "\n",
            "Epoch: 2\n",
            "LR Value 0.0008197216461191931\n"
          ],
          "name": "stdout"
        },
        {
          "output_type": "stream",
          "text": [
            "loss=1.034536361694336 batch_id=390 Accuracy = 0.57906: 100%|██████████| 391/391 [00:42<00:00,  9.18it/s]\n",
            "loss=1.4211533069610596 batch_id=0 Accuracy = 0.00144:   0%|          | 1/391 [00:00<00:41,  9.47it/s]"
          ],
          "name": "stderr"
        },
        {
          "output_type": "stream",
          "text": [
            "\n",
            "Test set: Average loss: 0.0110, Accuracy: 5876/10000 (58.76%)\n",
            "\n",
            "Epoch: 3\n",
            "LR Value 0.0023603244232453433\n"
          ],
          "name": "stdout"
        },
        {
          "output_type": "stream",
          "text": [
            "loss=1.0823028087615967 batch_id=390 Accuracy = 0.6556: 100%|██████████| 391/391 [00:42<00:00,  9.15it/s]\n",
            "loss=1.0639723539352417 batch_id=0 Accuracy = 0.00166:   0%|          | 1/391 [00:00<00:45,  8.60it/s]"
          ],
          "name": "stderr"
        },
        {
          "output_type": "stream",
          "text": [
            "\n",
            "Test set: Average loss: 0.0080, Accuracy: 6743/10000 (67.43%)\n",
            "\n",
            "Epoch: 4\n",
            "LR Value 0.0038996441795630323\n"
          ],
          "name": "stdout"
        },
        {
          "output_type": "stream",
          "text": [
            "loss=0.9347880482673645 batch_id=390 Accuracy = 0.72162: 100%|██████████| 391/391 [00:42<00:00,  9.20it/s]\n",
            "loss=0.6923811435699463 batch_id=0 Accuracy = 0.00196:   0%|          | 1/391 [00:00<00:43,  8.86it/s]"
          ],
          "name": "stderr"
        },
        {
          "output_type": "stream",
          "text": [
            "\n",
            "Test set: Average loss: 0.0079, Accuracy: 6923/10000 (69.23%)\n",
            "\n",
            "Epoch: 5\n",
            "LR Value 0.004534878325154254\n"
          ],
          "name": "stdout"
        },
        {
          "output_type": "stream",
          "text": [
            "loss=0.6117294430732727 batch_id=390 Accuracy = 0.76162: 100%|██████████| 391/391 [00:42<00:00,  9.18it/s]\n",
            "loss=0.49595358967781067 batch_id=0 Accuracy = 0.0022:   0%|          | 1/391 [00:00<00:42,  9.12it/s]"
          ],
          "name": "stderr"
        },
        {
          "output_type": "stream",
          "text": [
            "\n",
            "Test set: Average loss: 0.0058, Accuracy: 7671/10000 (76.71%)\n",
            "\n",
            "Epoch: 6\n",
            "LR Value 0.004506820001022455\n"
          ],
          "name": "stdout"
        },
        {
          "output_type": "stream",
          "text": [
            "loss=0.4842451214790344 batch_id=390 Accuracy = 0.78492: 100%|██████████| 391/391 [00:42<00:00,  9.19it/s]\n",
            "loss=0.5703611969947815 batch_id=0 Accuracy = 0.00206:   0%|          | 1/391 [00:00<00:46,  8.39it/s]"
          ],
          "name": "stderr"
        },
        {
          "output_type": "stream",
          "text": [
            "\n",
            "Test set: Average loss: 0.0052, Accuracy: 7896/10000 (78.96%)\n",
            "\n",
            "Epoch: 7\n",
            "LR Value 0.004423620914149465\n"
          ],
          "name": "stdout"
        },
        {
          "output_type": "stream",
          "text": [
            "loss=0.7343811392784119 batch_id=390 Accuracy = 0.81032: 100%|██████████| 391/391 [00:42<00:00,  9.12it/s]\n",
            "loss=0.4370073080062866 batch_id=0 Accuracy = 0.0021:   0%|          | 1/391 [00:00<00:42,  9.16it/s]"
          ],
          "name": "stderr"
        },
        {
          "output_type": "stream",
          "text": [
            "\n",
            "Test set: Average loss: 0.0049, Accuracy: 8092/10000 (80.92%)\n",
            "\n",
            "Epoch: 8\n",
            "LR Value 0.004287329702176035\n"
          ],
          "name": "stdout"
        },
        {
          "output_type": "stream",
          "text": [
            "loss=0.5647792220115662 batch_id=390 Accuracy = 0.82572: 100%|██████████| 391/391 [00:42<00:00,  9.21it/s]\n",
            "loss=0.35158511996269226 batch_id=0 Accuracy = 0.0023:   0%|          | 1/391 [00:00<00:40,  9.70it/s]"
          ],
          "name": "stderr"
        },
        {
          "output_type": "stream",
          "text": [
            "\n",
            "Test set: Average loss: 0.0042, Accuracy: 8324/10000 (83.24%)\n",
            "\n",
            "Epoch: 9\n",
            "LR Value 0.0041013023070655494\n"
          ],
          "name": "stdout"
        },
        {
          "output_type": "stream",
          "text": [
            "loss=0.4683663249015808 batch_id=390 Accuracy = 0.83832: 100%|██████████| 391/391 [00:42<00:00,  9.19it/s]\n",
            "loss=0.4941767156124115 batch_id=0 Accuracy = 0.00222:   0%|          | 1/391 [00:00<00:44,  8.75it/s]"
          ],
          "name": "stderr"
        },
        {
          "output_type": "stream",
          "text": [
            "\n",
            "Test set: Average loss: 0.0043, Accuracy: 8273/10000 (82.73%)\n",
            "\n",
            "Epoch: 10\n",
            "LR Value 0.0038701193406751586\n"
          ],
          "name": "stdout"
        },
        {
          "output_type": "stream",
          "text": [
            "loss=0.33711346983909607 batch_id=390 Accuracy = 0.85454: 100%|██████████| 391/391 [00:42<00:00,  9.14it/s]\n",
            "loss=0.333106130361557 batch_id=0 Accuracy = 0.00228:   0%|          | 1/391 [00:00<00:42,  9.12it/s]"
          ],
          "name": "stderr"
        },
        {
          "output_type": "stream",
          "text": [
            "\n",
            "Test set: Average loss: 0.0044, Accuracy: 8264/10000 (82.64%)\n",
            "\n",
            "Epoch: 11\n",
            "LR Value 0.0035994732948896706\n"
          ],
          "name": "stdout"
        },
        {
          "output_type": "stream",
          "text": [
            "loss=0.37875738739967346 batch_id=390 Accuracy = 0.86746: 100%|██████████| 391/391 [00:42<00:00,  9.16it/s]\n",
            "loss=0.3518259525299072 batch_id=0 Accuracy = 0.0022:   0%|          | 1/391 [00:00<00:44,  8.71it/s]"
          ],
          "name": "stderr"
        },
        {
          "output_type": "stream",
          "text": [
            "\n",
            "Test set: Average loss: 0.0034, Accuracy: 8632/10000 (86.32%)\n",
            "\n",
            "Epoch: 12\n",
            "LR Value 0.0032960283735790513\n"
          ],
          "name": "stdout"
        },
        {
          "output_type": "stream",
          "text": [
            "loss=0.23949864506721497 batch_id=390 Accuracy = 0.8751: 100%|██████████| 391/391 [00:42<00:00,  9.19it/s]\n",
            "loss=0.36179661750793457 batch_id=0 Accuracy = 0.00224:   0%|          | 1/391 [00:00<00:41,  9.36it/s]"
          ],
          "name": "stderr"
        },
        {
          "output_type": "stream",
          "text": [
            "\n",
            "Test set: Average loss: 0.0033, Accuracy: 8700/10000 (87.00%)\n",
            "\n",
            "Epoch: 13\n",
            "LR Value 0.002967256397781925\n"
          ],
          "name": "stdout"
        },
        {
          "output_type": "stream",
          "text": [
            "loss=0.34502550959587097 batch_id=390 Accuracy = 0.89004: 100%|██████████| 391/391 [00:42<00:00,  9.19it/s]\n",
            "loss=0.32287102937698364 batch_id=0 Accuracy = 0.00226:   0%|          | 1/391 [00:00<00:44,  8.78it/s]"
          ],
          "name": "stderr"
        },
        {
          "output_type": "stream",
          "text": [
            "\n",
            "Test set: Average loss: 0.0033, Accuracy: 8680/10000 (86.80%)\n",
            "\n",
            "Epoch: 14\n",
            "LR Value 0.0026212528246740475\n"
          ],
          "name": "stdout"
        },
        {
          "output_type": "stream",
          "text": [
            "loss=0.4143213629722595 batch_id=390 Accuracy = 0.89798: 100%|██████████| 391/391 [00:42<00:00,  9.14it/s]\n",
            "loss=0.22693738341331482 batch_id=0 Accuracy = 0.00236:   0%|          | 1/391 [00:00<00:45,  8.64it/s]"
          ],
          "name": "stderr"
        },
        {
          "output_type": "stream",
          "text": [
            "\n",
            "Test set: Average loss: 0.0035, Accuracy: 8629/10000 (86.29%)\n",
            "\n",
            "Epoch: 15\n",
            "LR Value 0.0022665374105453563\n"
          ],
          "name": "stdout"
        },
        {
          "output_type": "stream",
          "text": [
            "loss=0.18004266917705536 batch_id=390 Accuracy = 0.9061: 100%|██████████| 391/391 [00:42<00:00,  9.17it/s]\n",
            "loss=0.1323409229516983 batch_id=0 Accuracy = 0.00242:   0%|          | 1/391 [00:00<00:41,  9.49it/s]"
          ],
          "name": "stderr"
        },
        {
          "output_type": "stream",
          "text": [
            "\n",
            "Test set: Average loss: 0.0030, Accuracy: 8802/10000 (88.02%)\n",
            "\n",
            "Epoch: 16\n",
            "LR Value 0.0019118444261246683\n"
          ],
          "name": "stdout"
        },
        {
          "output_type": "stream",
          "text": [
            "loss=0.40657106041908264 batch_id=390 Accuracy = 0.9163: 100%|██████████| 391/391 [00:42<00:00,  9.16it/s]\n",
            "loss=0.2519798278808594 batch_id=0 Accuracy = 0.0024:   0%|          | 1/391 [00:00<00:40,  9.57it/s]"
          ],
          "name": "stderr"
        },
        {
          "output_type": "stream",
          "text": [
            "\n",
            "Test set: Average loss: 0.0029, Accuracy: 8846/10000 (88.46%)\n",
            "\n",
            "Epoch: 17\n",
            "LR Value 0.0015659075898469444\n"
          ],
          "name": "stdout"
        },
        {
          "output_type": "stream",
          "text": [
            "loss=0.2506858706474304 batch_id=390 Accuracy = 0.92634: 100%|██████████| 391/391 [00:42<00:00,  9.23it/s]\n",
            "loss=0.2286343276500702 batch_id=0 Accuracy = 0.00238:   0%|          | 1/391 [00:00<00:44,  8.83it/s]"
          ],
          "name": "stderr"
        },
        {
          "output_type": "stream",
          "text": [
            "\n",
            "Test set: Average loss: 0.0030, Accuracy: 8840/10000 (88.40%)\n",
            "\n",
            "Epoch: 18\n",
            "LR Value 0.0012372450147198793\n"
          ],
          "name": "stdout"
        },
        {
          "output_type": "stream",
          "text": [
            "loss=0.13272158801555634 batch_id=390 Accuracy = 0.932: 100%|██████████| 391/391 [00:42<00:00,  9.10it/s]\n",
            "loss=0.16245238482952118 batch_id=0 Accuracy = 0.0024:   0%|          | 1/391 [00:00<00:42,  9.18it/s]"
          ],
          "name": "stderr"
        },
        {
          "output_type": "stream",
          "text": [
            "\n",
            "Test set: Average loss: 0.0028, Accuracy: 8928/10000 (89.28%)\n",
            "\n",
            "Epoch: 19\n",
            "LR Value 0.0009339494641116532\n"
          ],
          "name": "stdout"
        },
        {
          "output_type": "stream",
          "text": [
            "loss=0.19330085813999176 batch_id=390 Accuracy = 0.94026: 100%|██████████| 391/391 [00:42<00:00,  9.14it/s]\n",
            "loss=0.15668533742427826 batch_id=0 Accuracy = 0.00234:   0%|          | 1/391 [00:00<00:47,  8.13it/s]"
          ],
          "name": "stderr"
        },
        {
          "output_type": "stream",
          "text": [
            "\n",
            "Test set: Average loss: 0.0027, Accuracy: 8929/10000 (89.29%)\n",
            "\n",
            "Epoch: 20\n",
            "LR Value 0.000663489081058461\n"
          ],
          "name": "stdout"
        },
        {
          "output_type": "stream",
          "text": [
            "loss=0.2636151611804962 batch_id=390 Accuracy = 0.94832: 100%|██████████| 391/391 [00:42<00:00,  9.18it/s]\n",
            "loss=0.20624709129333496 batch_id=0 Accuracy = 0.0024:   0%|          | 1/391 [00:00<00:41,  9.33it/s]"
          ],
          "name": "stderr"
        },
        {
          "output_type": "stream",
          "text": [
            "\n",
            "Test set: Average loss: 0.0027, Accuracy: 8974/10000 (89.74%)\n",
            "\n",
            "Epoch: 21\n",
            "LR Value 0.00043252349779762287\n"
          ],
          "name": "stdout"
        },
        {
          "output_type": "stream",
          "text": [
            "loss=0.07013143599033356 batch_id=390 Accuracy = 0.95514: 100%|██████████| 391/391 [00:42<00:00,  9.18it/s]\n",
            "loss=0.08857513964176178 batch_id=0 Accuracy = 0.00246:   0%|          | 1/391 [00:00<00:41,  9.36it/s]"
          ],
          "name": "stderr"
        },
        {
          "output_type": "stream",
          "text": [
            "\n",
            "Test set: Average loss: 0.0026, Accuracy: 8998/10000 (89.98%)\n",
            "\n",
            "Epoch: 22\n",
            "LR Value 0.00024673985351984426\n"
          ],
          "name": "stdout"
        },
        {
          "output_type": "stream",
          "text": [
            "loss=0.1277579665184021 batch_id=390 Accuracy = 0.95816: 100%|██████████| 391/391 [00:42<00:00,  9.22it/s]\n",
            "loss=0.14760276675224304 batch_id=0 Accuracy = 0.0024:   0%|          | 1/391 [00:00<00:44,  8.76it/s]"
          ],
          "name": "stderr"
        },
        {
          "output_type": "stream",
          "text": [
            "\n",
            "Test set: Average loss: 0.0025, Accuracy: 9026/10000 (90.26%)\n",
            "\n",
            "Epoch: 23\n",
            "LR Value 0.00011071275812780894\n"
          ],
          "name": "stdout"
        },
        {
          "output_type": "stream",
          "text": [
            "loss=0.07563904672861099 batch_id=390 Accuracy = 0.96128: 100%|██████████| 391/391 [00:42<00:00,  9.18it/s]\n",
            "loss=0.09070681035518646 batch_id=0 Accuracy = 0.00246:   0%|          | 1/391 [00:00<00:45,  8.50it/s]"
          ],
          "name": "stderr"
        },
        {
          "output_type": "stream",
          "text": [
            "\n",
            "Test set: Average loss: 0.0025, Accuracy: 9018/10000 (90.18%)\n",
            "\n",
            "Epoch: 24\n",
            "LR Value 2.7791650158117036e-05\n"
          ],
          "name": "stdout"
        },
        {
          "output_type": "stream",
          "text": [
            "loss=0.07668308913707733 batch_id=390 Accuracy = 0.9616: 100%|██████████| 391/391 [00:42<00:00,  9.22it/s]\n"
          ],
          "name": "stderr"
        },
        {
          "output_type": "stream",
          "text": [
            "\n",
            "Test set: Average loss: 0.0025, Accuracy: 9016/10000 (90.16%)\n",
            "\n"
          ],
          "name": "stdout"
        }
      ]
    },
    {
      "cell_type": "code",
      "metadata": {
        "id": "nOe3aGQba57W"
      },
      "source": [
        ""
      ],
      "execution_count": 15,
      "outputs": []
    }
  ]
}