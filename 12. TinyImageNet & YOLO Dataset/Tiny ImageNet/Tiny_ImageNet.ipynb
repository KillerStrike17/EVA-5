{
 "cells": [
  {
   "cell_type": "code",
   "execution_count": 1,
   "metadata": {
    "colab": {
     "base_uri": "https://localhost:8080/",
     "height": 357
    },
    "id": "fDOsClxrPyAH",
    "outputId": "4a2bf2ba-ce46-4132-9408-8e159050c22a"
   },
   "outputs": [
    {
     "name": "stdout",
     "output_type": "stream",
     "text": [
      "Sun Oct 18 20:35:17 2020       \n",
      "+-----------------------------------------------------------------------------+\n",
      "| NVIDIA-SMI 456.71       Driver Version: 456.71       CUDA Version: 11.1     |\n",
      "|-------------------------------+----------------------+----------------------+\n",
      "| GPU  Name            TCC/WDDM | Bus-Id        Disp.A | Volatile Uncorr. ECC |\n",
      "| Fan  Temp  Perf  Pwr:Usage/Cap|         Memory-Usage | GPU-Util  Compute M. |\n",
      "|===============================+======================+======================|\n",
      "|   0  GeForce RTX 208... WDDM  | 00000000:01:00.0  On |                  N/A |\n",
      "|  0%   59C    P2    57W / 300W |   2569MiB / 11264MiB |      0%      Default |\n",
      "+-------------------------------+----------------------+----------------------+\n",
      "                                                                               \n",
      "+-----------------------------------------------------------------------------+\n",
      "| Processes:                                                                  |\n",
      "|  GPU   GI   CI        PID   Type   Process name                  GPU Memory |\n",
      "|        ID   ID                                                   Usage      |\n",
      "|=============================================================================|\n",
      "|    0   N/A  N/A      1336    C+G   Insufficient Permissions        N/A      |\n",
      "|    0   N/A  N/A      1908    C+G   ...Support Files\\AfterFX.exe    N/A      |\n",
      "|    0   N/A  N/A      2192    C+G   ...y\\ShellExperienceHost.exe    N/A      |\n",
      "|    0   N/A  N/A      2648    C+G   ...p-2.5.6\\GitHubDesktop.exe    N/A      |\n",
      "|    0   N/A  N/A      2664    C+G   ...obeNotificationClient.exe    N/A      |\n",
      "|    0   N/A  N/A      2668    C+G   ...lication\\WebCompanion.exe    N/A      |\n",
      "|    0   N/A  N/A      3940      C   ...oice\\NVIDIA RTX Voice.exe    N/A      |\n",
      "|    0   N/A  N/A      4908    C+G   ...wekyb3d8bbwe\\Video.UI.exe    N/A      |\n",
      "|    0   N/A  N/A      6100    C+G   ...kyb3d8bbwe\\Calculator.exe    N/A      |\n",
      "|    0   N/A  N/A      8352    C+G   ...ge\\Application\\msedge.exe    N/A      |\n",
      "|    0   N/A  N/A      8504    C+G   C:\\Windows\\explorer.exe         N/A      |\n",
      "|    0   N/A  N/A      9608    C+G   ...5n1h2txyewy\\SearchApp.exe    N/A      |\n",
      "|    0   N/A  N/A      9920    C+G   ...ekyb3d8bbwe\\YourPhone.exe    N/A      |\n",
      "|    0   N/A  N/A     10228    C+G   ...lEngine\\CEPHtmlEngine.exe    N/A      |\n",
      "|    0   N/A  N/A     10372    C+G   ...nputApp\\TextInputHost.exe    N/A      |\n",
      "|    0   N/A  N/A     10680    C+G   ...cw5n1h2txyewy\\LockApp.exe    N/A      |\n",
      "|    0   N/A  N/A     12808    C+G   ...perience\\NVIDIA Share.exe    N/A      |\n",
      "|    0   N/A  N/A     14180    C+G   ...bbwe\\Microsoft.Photos.exe    N/A      |\n",
      "|    0   N/A  N/A     14240    C+G   ...b3d8bbwe\\WinStore.App.exe    N/A      |\n",
      "|    0   N/A  N/A     14912    C+G   ...lPanel\\SystemSettings.exe    N/A      |\n",
      "+-----------------------------------------------------------------------------+\n"
     ]
    }
   ],
   "source": [
    "!nvidia-smi"
   ]
  },
  {
   "cell_type": "code",
   "execution_count": null,
   "metadata": {
    "colab": {
     "base_uri": "https://localhost:8080/",
     "height": 136
    },
    "id": "-EO2OnFZQmFy",
    "outputId": "c8615043-2947-4ebc-d2ca-dbeed44210b5"
   },
   "outputs": [],
   "source": [
    "!git clone https://github.com/KillerStrike17/PyDeNN.git"
   ]
  },
  {
   "cell_type": "code",
   "execution_count": null,
   "metadata": {
    "colab": {
     "base_uri": "https://localhost:8080/",
     "height": 34
    },
    "id": "evO2LgCkQmb_",
    "outputId": "7ed7cdc2-ff47-4781-8041-70c639eb63e1"
   },
   "outputs": [],
   "source": [
    "%cd PyDeNN/"
   ]
  },
  {
   "cell_type": "code",
   "execution_count": 2,
   "metadata": {
    "id": "vGN0-RrtQpp7"
   },
   "outputs": [],
   "source": [
    "from DeNN.model import resnet\n",
    "from DeNN.dataset_loader import data_loader, data_augmentation\n",
    "from DeNN.trainer import trainer\n",
    "from DeNN.visualization import * \n",
    "from DeNN.util import *\n"
   ]
  },
  {
   "cell_type": "code",
   "execution_count": 3,
   "metadata": {
    "id": "yjKrr5MWQruY"
   },
   "outputs": [],
   "source": [
    "import torch,torchvision\n",
    "from torchsummary import summary\n",
    "import torch.nn as nn\n",
    "import torch.nn.functional as F\n",
    "import torch.optim as optim\n",
    "from torchvision.transforms.functional import normalize, resize, to_tensor, to_pil_image\n",
    "from torch.optim.lr_scheduler import ReduceLROnPlateau,OneCycleLR"
   ]
  },
  {
   "cell_type": "code",
   "execution_count": 4,
   "metadata": {
    "id": "Dyi0YwejQ74z"
   },
   "outputs": [],
   "source": [
    "DATA_PATH = 'data/'\n",
    "BATCH_SIZE =128"
   ]
  },
  {
   "cell_type": "code",
   "execution_count": 5,
   "metadata": {
    "id": "5_yOBSDUQ9nc"
   },
   "outputs": [
    {
     "name": "stdout",
     "output_type": "stream",
     "text": [
      "Downloading http://cs231n.stanford.edu/tiny-imagenet-200.zip to data/tiny-imagenet-200.zip\n"
     ]
    },
    {
     "data": {
      "application/vnd.jupyter.widget-view+json": {
       "model_id": "3fba96a5ed8c4f95bcfe4ef2ac941d17",
       "version_major": 2,
       "version_minor": 0
      },
      "text/plain": [
       "HBox(children=(FloatProgress(value=1.0, bar_style='info', layout=Layout(width='20px'), max=1.0), HTML(value=''…"
      ]
     },
     "metadata": {},
     "output_type": "display_data"
    },
    {
     "name": "stdout",
     "output_type": "stream",
     "text": [
      "Extracting data/tiny-imagenet-200.zip to data/\n",
      "\n"
     ]
    }
   ],
   "source": [
    "my_transformations = data_augmentation.TinyImageNetAlbumentations()\n",
    "train, test = data_loader.DatasetTinyImageNet(data_path = DATA_PATH,transformations = my_transformations,batch_size = BATCH_SIZE).load_data()"
   ]
  },
  {
   "cell_type": "code",
   "execution_count": 6,
   "metadata": {
    "colab": {
     "base_uri": "https://localhost:8080/",
     "height": 1000
    },
    "id": "fXdOpEBvDYbV",
    "outputId": "d250977c-dcdf-4ba7-ed39-17d8553ed386"
   },
   "outputs": [
    {
     "name": "stdout",
     "output_type": "stream",
     "text": [
      "----------------------------------------------------------------\n",
      "        Layer (type)               Output Shape         Param #\n",
      "================================================================\n",
      "            Conv2d-1           [-1, 64, 64, 64]           1,728\n",
      "       BatchNorm2d-2           [-1, 64, 64, 64]             128\n",
      "            Conv2d-3           [-1, 64, 64, 64]          36,864\n",
      "       BatchNorm2d-4           [-1, 64, 64, 64]             128\n",
      "            Conv2d-5           [-1, 64, 64, 64]          36,864\n",
      "       BatchNorm2d-6           [-1, 64, 64, 64]             128\n",
      "        BasicBlock-7           [-1, 64, 64, 64]               0\n",
      "            Conv2d-8           [-1, 64, 64, 64]          36,864\n",
      "       BatchNorm2d-9           [-1, 64, 64, 64]             128\n",
      "           Conv2d-10           [-1, 64, 64, 64]          36,864\n",
      "      BatchNorm2d-11           [-1, 64, 64, 64]             128\n",
      "       BasicBlock-12           [-1, 64, 64, 64]               0\n",
      "           Conv2d-13          [-1, 128, 32, 32]          73,728\n",
      "      BatchNorm2d-14          [-1, 128, 32, 32]             256\n",
      "           Conv2d-15          [-1, 128, 32, 32]         147,456\n",
      "      BatchNorm2d-16          [-1, 128, 32, 32]             256\n",
      "           Conv2d-17          [-1, 128, 32, 32]           8,192\n",
      "      BatchNorm2d-18          [-1, 128, 32, 32]             256\n",
      "       BasicBlock-19          [-1, 128, 32, 32]               0\n",
      "           Conv2d-20          [-1, 128, 32, 32]         147,456\n",
      "      BatchNorm2d-21          [-1, 128, 32, 32]             256\n",
      "           Conv2d-22          [-1, 128, 32, 32]         147,456\n",
      "      BatchNorm2d-23          [-1, 128, 32, 32]             256\n",
      "       BasicBlock-24          [-1, 128, 32, 32]               0\n",
      "           Conv2d-25          [-1, 256, 16, 16]         294,912\n",
      "      BatchNorm2d-26          [-1, 256, 16, 16]             512\n",
      "           Conv2d-27          [-1, 256, 16, 16]         589,824\n",
      "      BatchNorm2d-28          [-1, 256, 16, 16]             512\n",
      "           Conv2d-29          [-1, 256, 16, 16]          32,768\n",
      "      BatchNorm2d-30          [-1, 256, 16, 16]             512\n",
      "       BasicBlock-31          [-1, 256, 16, 16]               0\n",
      "           Conv2d-32          [-1, 256, 16, 16]         589,824\n",
      "      BatchNorm2d-33          [-1, 256, 16, 16]             512\n",
      "           Conv2d-34          [-1, 256, 16, 16]         589,824\n",
      "      BatchNorm2d-35          [-1, 256, 16, 16]             512\n",
      "       BasicBlock-36          [-1, 256, 16, 16]               0\n",
      "           Conv2d-37            [-1, 512, 8, 8]       1,179,648\n",
      "      BatchNorm2d-38            [-1, 512, 8, 8]           1,024\n",
      "           Conv2d-39            [-1, 512, 8, 8]       2,359,296\n",
      "      BatchNorm2d-40            [-1, 512, 8, 8]           1,024\n",
      "           Conv2d-41            [-1, 512, 8, 8]         131,072\n",
      "      BatchNorm2d-42            [-1, 512, 8, 8]           1,024\n",
      "       BasicBlock-43            [-1, 512, 8, 8]               0\n",
      "           Conv2d-44            [-1, 512, 8, 8]       2,359,296\n",
      "      BatchNorm2d-45            [-1, 512, 8, 8]           1,024\n",
      "           Conv2d-46            [-1, 512, 8, 8]       2,359,296\n",
      "      BatchNorm2d-47            [-1, 512, 8, 8]           1,024\n",
      "       BasicBlock-48            [-1, 512, 8, 8]               0\n",
      "AdaptiveAvgPool2d-49            [-1, 512, 1, 1]               0\n",
      "           Linear-50                 [-1, 1000]         513,000\n",
      "================================================================\n",
      "Total params: 11,681,832\n",
      "Trainable params: 11,681,832\n",
      "Non-trainable params: 0\n",
      "----------------------------------------------------------------\n",
      "Input size (MB): 0.05\n",
      "Forward/backward pass size (MB): 45.01\n",
      "Params size (MB): 44.56\n",
      "Estimated Total Size (MB): 89.62\n",
      "----------------------------------------------------------------\n"
     ]
    }
   ],
   "source": [
    "use_cuda = torch.cuda.is_available()\n",
    "device = torch.device(\"cuda\" if use_cuda else \"cpu\")\n",
    "model = resnet.ResNet18(num_classes=1000).to(device)\n",
    "summary(model,input_size=(3,64,64))"
   ]
  },
  {
   "cell_type": "code",
   "execution_count": 7,
   "metadata": {
    "id": "Rwnggl2YH6ve"
   },
   "outputs": [],
   "source": [
    "criterion = nn.CrossEntropyLoss()\n",
    "optimizer = optim.SGD(model.parameters(), lr=0.001, momentum=0.9)"
   ]
  },
  {
   "cell_type": "code",
   "execution_count": 8,
   "metadata": {
    "colab": {
     "base_uri": "https://localhost:8080/",
     "height": 391,
     "referenced_widgets": [
      "31ba7714fd4d42ec9237f4de4b4cfbf5",
      "e926f9ab7a814b51b4795fc60b2668d8",
      "62ca4ed95d79489c9a799eae268870e2",
      "7989216ffa2a4a3ea3d058740f427560",
      "17004c2c702d4e7c86cfbba559b5312c",
      "eb113f88f8864d6b837ac72506a1369f",
      "ee5f57d2f8a24db4b8247b9ce6269c06",
      "4734f98a82384bbd96e95fd959d5652d"
     ]
    },
    "id": "fbkRJjvgIlvR",
    "outputId": "6380eafc-3821-4065-c367-501f5edc65d3"
   },
   "outputs": [
    {
     "data": {
      "application/vnd.jupyter.widget-view+json": {
       "model_id": "fabeec46ac2c43cb98a2e2420cb85d0c",
       "version_major": 2,
       "version_minor": 0
      },
      "text/plain": [
       "HBox(children=(FloatProgress(value=0.0), HTML(value='')))"
      ]
     },
     "metadata": {},
     "output_type": "display_data"
    },
    {
     "name": "stdout",
     "output_type": "stream",
     "text": [
      "Stopping early, the loss has diverged\n",
      "\n",
      "Learning rate search finished. See the graph with {finder_name}.plot()\n",
      "LR suggestion: steepest gradient\n",
      "Suggested LR: 3.27E-02\n"
     ]
    },
    {
     "data": {
      "image/png": "[encoded data removed]",
      "text/plain": [
       "<Figure size 432x288 with 1 Axes>"
      ]
     },
     "metadata": {},
     "output_type": "display_data"
    }
   ],
   "source": [
    "lr_finder = LRFinder(model, optimizer, criterion, device=device)\n",
    "lr_finder.range_test(train, end_lr=100, num_iter=100)\n",
    "my_plt,lr_val = lr_finder.plot() # to inspect the loss-learning rate graph\n",
    "lr_finder.reset() # to reset the model and optimizer to their initial state"
   ]
  },
  {
   "cell_type": "code",
   "execution_count": 9,
   "metadata": {
    "colab": {
     "base_uri": "https://localhost:8080/",
     "height": 34
    },
    "id": "mCFSum4HIoD4",
    "outputId": "20b73276-c5bd-44fd-a124-f056c535a3f1"
   },
   "outputs": [
    {
     "data": {
      "text/plain": [
       "(0.03274549162877729, 0.003274549162877729)"
      ]
     },
     "execution_count": 9,
     "metadata": {},
     "output_type": "execute_result"
    }
   ],
   "source": [
    "max_lr = lr_val\n",
    "min_lr = max_lr/10\n",
    "max_lr,min_lr"
   ]
  },
  {
   "cell_type": "code",
   "execution_count": 10,
   "metadata": {
    "id": "VpLVXxajKd6A"
   },
   "outputs": [],
   "source": [
    "scheduler = OneCycleLR(optimizer,max_lr=max_lr,steps_per_epoch=len(train),epochs = 50,pct_start=8/50)"
   ]
  },
  {
   "cell_type": "code",
   "execution_count": 11,
   "metadata": {
    "id": "FNyGQpjtKhQz"
   },
   "outputs": [],
   "source": [
    "trainer = trainer.Trainer( model =model , optimizer =optimizer , device =device , train_loader = train, test_loader = test,epochs = 50,criteria = criterion,scheduler = scheduler)"
   ]
  },
  {
   "cell_type": "code",
   "execution_count": 12,
   "metadata": {
    "colab": {
     "base_uri": "https://localhost:8080/",
     "height": 51
    },
    "id": "l11uoor6Khi8",
    "outputId": "a30b11ed-03b8-45d2-ae42-4e7a04bc5e32"
   },
   "outputs": [
    {
     "name": "stderr",
     "output_type": "stream",
     "text": [
      "\r",
      "  0%|                                                                                          | 0/782 [00:00<?, ?it/s]"
     ]
    },
    {
     "name": "stdout",
     "output_type": "stream",
     "text": [
      "Epoch: 1\n"
     ]
    },
    {
     "name": "stderr",
     "output_type": "stream",
     "text": [
      "loss=4.503812313079834 batch_id=781 Accuracy = 0.07391: 100%|████████████████████████| 782/782 [06:57<00:00,  1.87it/s]\n",
      "  0%|                                                                                          | 0/782 [00:00<?, ?it/s]"
     ]
    },
    {
     "name": "stdout",
     "output_type": "stream",
     "text": [
      "\n",
      "Test set: Average loss: 0.0330, Accuracy: 1060/10000 (10.60%)\n",
      "\n",
      "Epoch: 2\n"
     ]
    },
    {
     "name": "stderr",
     "output_type": "stream",
     "text": [
      "loss=3.5393335819244385 batch_id=781 Accuracy = 0.16172: 100%|███████████████████████| 782/782 [06:43<00:00,  1.94it/s]\n",
      "  0%|                                                                                          | 0/782 [00:00<?, ?it/s]"
     ]
    },
    {
     "name": "stdout",
     "output_type": "stream",
     "text": [
      "\n",
      "Test set: Average loss: 0.0292, Accuracy: 1780/10000 (17.80%)\n",
      "\n",
      "Epoch: 3\n"
     ]
    },
    {
     "name": "stderr",
     "output_type": "stream",
     "text": [
      "loss=3.3480353355407715 batch_id=781 Accuracy = 0.22367: 100%|███████████████████████| 782/782 [03:08<00:00,  4.14it/s]\n",
      "  0%|                                                                                          | 0/782 [00:00<?, ?it/s]"
     ]
    },
    {
     "name": "stdout",
     "output_type": "stream",
     "text": [
      "\n",
      "Test set: Average loss: 0.0261, Accuracy: 2456/10000 (24.56%)\n",
      "\n",
      "Epoch: 4\n"
     ]
    },
    {
     "name": "stderr",
     "output_type": "stream",
     "text": [
      "loss=2.8070716857910156 batch_id=781 Accuracy = 0.27568: 100%|███████████████████████| 782/782 [03:12<00:00,  4.05it/s]\n",
      "  0%|                                                                                          | 0/782 [00:00<?, ?it/s]"
     ]
    },
    {
     "name": "stdout",
     "output_type": "stream",
     "text": [
      "\n",
      "Test set: Average loss: 0.0243, Accuracy: 2833/10000 (28.33%)\n",
      "\n",
      "Epoch: 5\n"
     ]
    },
    {
     "name": "stderr",
     "output_type": "stream",
     "text": [
      "loss=2.5746285915374756 batch_id=781 Accuracy = 0.32096: 100%|███████████████████████| 782/782 [03:09<00:00,  4.12it/s]\n",
      "  0%|                                                                                          | 0/782 [00:00<?, ?it/s]"
     ]
    },
    {
     "name": "stdout",
     "output_type": "stream",
     "text": [
      "\n",
      "Test set: Average loss: 0.0230, Accuracy: 3211/10000 (32.11%)\n",
      "\n",
      "Epoch: 6\n"
     ]
    },
    {
     "name": "stderr",
     "output_type": "stream",
     "text": [
      "loss=2.854536771774292 batch_id=781 Accuracy = 0.35589: 100%|████████████████████████| 782/782 [03:09<00:00,  4.12it/s]\n",
      "  0%|                                                                                          | 0/782 [00:00<?, ?it/s]"
     ]
    },
    {
     "name": "stdout",
     "output_type": "stream",
     "text": [
      "\n",
      "Test set: Average loss: 0.0221, Accuracy: 3448/10000 (34.48%)\n",
      "\n",
      "Epoch: 7\n"
     ]
    },
    {
     "name": "stderr",
     "output_type": "stream",
     "text": [
      "loss=2.5764639377593994 batch_id=781 Accuracy = 0.38587: 100%|███████████████████████| 782/782 [03:09<00:00,  4.12it/s]\n",
      "  0%|                                                                                          | 0/782 [00:00<?, ?it/s]"
     ]
    },
    {
     "name": "stdout",
     "output_type": "stream",
     "text": [
      "\n",
      "Test set: Average loss: 0.0217, Accuracy: 3552/10000 (35.52%)\n",
      "\n",
      "Epoch: 8\n"
     ]
    },
    {
     "name": "stderr",
     "output_type": "stream",
     "text": [
      "loss=2.3704638481140137 batch_id=781 Accuracy = 0.41376: 100%|███████████████████████| 782/782 [03:09<00:00,  4.13it/s]\n",
      "  0%|                                                                                          | 0/782 [00:00<?, ?it/s]"
     ]
    },
    {
     "name": "stdout",
     "output_type": "stream",
     "text": [
      "\n",
      "Test set: Average loss: 0.0195, Accuracy: 4088/10000 (40.88%)\n",
      "\n",
      "Epoch: 9\n"
     ]
    },
    {
     "name": "stderr",
     "output_type": "stream",
     "text": [
      "loss=2.3265297412872314 batch_id=781 Accuracy = 0.43579: 100%|███████████████████████| 782/782 [03:13<00:00,  4.04it/s]\n",
      "  0%|                                                                                          | 0/782 [00:00<?, ?it/s]"
     ]
    },
    {
     "name": "stdout",
     "output_type": "stream",
     "text": [
      "\n",
      "Test set: Average loss: 0.0190, Accuracy: 4201/10000 (42.01%)\n",
      "\n",
      "Epoch: 10\n"
     ]
    },
    {
     "name": "stderr",
     "output_type": "stream",
     "text": [
      "loss=2.8923215866088867 batch_id=781 Accuracy = 0.45999: 100%|███████████████████████| 782/782 [03:09<00:00,  4.12it/s]\n",
      "  0%|                                                                                          | 0/782 [00:00<?, ?it/s]"
     ]
    },
    {
     "name": "stdout",
     "output_type": "stream",
     "text": [
      "\n",
      "Test set: Average loss: 0.0193, Accuracy: 4158/10000 (41.58%)\n",
      "\n",
      "Epoch: 11\n"
     ]
    },
    {
     "name": "stderr",
     "output_type": "stream",
     "text": [
      "loss=2.528550386428833 batch_id=781 Accuracy = 0.47602: 100%|████████████████████████| 782/782 [03:09<00:00,  4.12it/s]\n",
      "  0%|                                                                                          | 0/782 [00:00<?, ?it/s]"
     ]
    },
    {
     "name": "stdout",
     "output_type": "stream",
     "text": [
      "\n",
      "Test set: Average loss: 0.0180, Accuracy: 4446/10000 (44.46%)\n",
      "\n",
      "Epoch: 12\n"
     ]
    },
    {
     "name": "stderr",
     "output_type": "stream",
     "text": [
      "loss=1.8013243675231934 batch_id=781 Accuracy = 0.49706: 100%|███████████████████████| 782/782 [03:09<00:00,  4.12it/s]\n",
      "  0%|                                                                                          | 0/782 [00:00<?, ?it/s]"
     ]
    },
    {
     "name": "stdout",
     "output_type": "stream",
     "text": [
      "\n",
      "Test set: Average loss: 0.0184, Accuracy: 4373/10000 (43.73%)\n",
      "\n",
      "Epoch: 13\n"
     ]
    },
    {
     "name": "stderr",
     "output_type": "stream",
     "text": [
      "loss=2.341175079345703 batch_id=781 Accuracy = 0.51278: 100%|████████████████████████| 782/782 [03:09<00:00,  4.12it/s]\n",
      "  0%|                                                                                          | 0/782 [00:00<?, ?it/s]"
     ]
    },
    {
     "name": "stdout",
     "output_type": "stream",
     "text": [
      "\n",
      "Test set: Average loss: 0.0178, Accuracy: 4554/10000 (45.54%)\n",
      "\n",
      "Epoch: 14\n"
     ]
    },
    {
     "name": "stderr",
     "output_type": "stream",
     "text": [
      "loss=2.4400439262390137 batch_id=781 Accuracy = 0.52994: 100%|███████████████████████| 782/782 [03:09<00:00,  4.12it/s]\n",
      "  0%|                                                                                          | 0/782 [00:00<?, ?it/s]"
     ]
    },
    {
     "name": "stdout",
     "output_type": "stream",
     "text": [
      "\n",
      "Test set: Average loss: 0.0172, Accuracy: 4690/10000 (46.90%)\n",
      "\n",
      "Epoch: 15\n"
     ]
    },
    {
     "name": "stderr",
     "output_type": "stream",
     "text": [
      "loss=2.487349271774292 batch_id=781 Accuracy = 0.54604: 100%|████████████████████████| 782/782 [03:09<00:00,  4.12it/s]\n",
      "  0%|                                                                                          | 0/782 [00:00<?, ?it/s]"
     ]
    },
    {
     "name": "stdout",
     "output_type": "stream",
     "text": [
      "\n",
      "Test set: Average loss: 0.0165, Accuracy: 4896/10000 (48.96%)\n",
      "\n",
      "Epoch: 16\n"
     ]
    },
    {
     "name": "stderr",
     "output_type": "stream",
     "text": [
      "loss=1.8683186769485474 batch_id=781 Accuracy = 0.5591: 100%|████████████████████████| 782/782 [04:16<00:00,  3.05it/s]\n",
      "  0%|                                                                                          | 0/782 [00:00<?, ?it/s]"
     ]
    },
    {
     "name": "stdout",
     "output_type": "stream",
     "text": [
      "\n",
      "Test set: Average loss: 0.0167, Accuracy: 4891/10000 (48.91%)\n",
      "\n",
      "Epoch: 17\n"
     ]
    },
    {
     "name": "stderr",
     "output_type": "stream",
     "text": [
      "loss=1.8066365718841553 batch_id=781 Accuracy = 0.5748: 100%|████████████████████████| 782/782 [03:24<00:00,  3.82it/s]\n",
      "  0%|                                                                                          | 0/782 [00:00<?, ?it/s]"
     ]
    },
    {
     "name": "stdout",
     "output_type": "stream",
     "text": [
      "\n",
      "Test set: Average loss: 0.0164, Accuracy: 4949/10000 (49.49%)\n",
      "\n",
      "Epoch: 18\n"
     ]
    },
    {
     "name": "stderr",
     "output_type": "stream",
     "text": [
      "loss=1.7160812616348267 batch_id=781 Accuracy = 0.58656: 100%|███████████████████████| 782/782 [03:08<00:00,  4.15it/s]\n",
      "  0%|                                                                                          | 0/782 [00:00<?, ?it/s]"
     ]
    },
    {
     "name": "stdout",
     "output_type": "stream",
     "text": [
      "\n",
      "Test set: Average loss: 0.0159, Accuracy: 5050/10000 (50.50%)\n",
      "\n",
      "Epoch: 19\n"
     ]
    },
    {
     "name": "stderr",
     "output_type": "stream",
     "text": [
      "loss=1.1565210819244385 batch_id=781 Accuracy = 0.59867: 100%|███████████████████████| 782/782 [03:07<00:00,  4.17it/s]\n",
      "  0%|                                                                                          | 0/782 [00:00<?, ?it/s]"
     ]
    },
    {
     "name": "stdout",
     "output_type": "stream",
     "text": [
      "\n",
      "Test set: Average loss: 0.0161, Accuracy: 5023/10000 (50.23%)\n",
      "\n",
      "Epoch: 20\n"
     ]
    },
    {
     "name": "stderr",
     "output_type": "stream",
     "text": [
      "loss=1.8070178031921387 batch_id=781 Accuracy = 0.6107: 100%|████████████████████████| 782/782 [03:07<00:00,  4.17it/s]\n",
      "  0%|                                                                                          | 0/782 [00:00<?, ?it/s]"
     ]
    },
    {
     "name": "stdout",
     "output_type": "stream",
     "text": [
      "\n",
      "Test set: Average loss: 0.0161, Accuracy: 5101/10000 (51.01%)\n",
      "\n",
      "Epoch: 21\n"
     ]
    },
    {
     "name": "stderr",
     "output_type": "stream",
     "text": [
      "loss=1.635430932044983 batch_id=781 Accuracy = 0.62221: 100%|████████████████████████| 782/782 [03:09<00:00,  4.13it/s]\n",
      "  0%|                                                                                          | 0/782 [00:00<?, ?it/s]"
     ]
    },
    {
     "name": "stdout",
     "output_type": "stream",
     "text": [
      "\n",
      "Test set: Average loss: 0.0155, Accuracy: 5254/10000 (52.54%)\n",
      "\n",
      "Epoch: 22\n"
     ]
    },
    {
     "name": "stderr",
     "output_type": "stream",
     "text": [
      "loss=1.2326079607009888 batch_id=781 Accuracy = 0.63331: 100%|███████████████████████| 782/782 [03:12<00:00,  4.06it/s]\n",
      "  0%|                                                                                          | 0/782 [00:00<?, ?it/s]"
     ]
    },
    {
     "name": "stdout",
     "output_type": "stream",
     "text": [
      "\n",
      "Test set: Average loss: 0.0162, Accuracy: 5181/10000 (51.81%)\n",
      "\n",
      "Epoch: 23\n"
     ]
    },
    {
     "name": "stderr",
     "output_type": "stream",
     "text": [
      "loss=1.3163564205169678 batch_id=781 Accuracy = 0.64646: 100%|███████████████████████| 782/782 [03:10<00:00,  4.11it/s]\n",
      "  0%|                                                                                          | 0/782 [00:00<?, ?it/s]"
     ]
    },
    {
     "name": "stdout",
     "output_type": "stream",
     "text": [
      "\n",
      "Test set: Average loss: 0.0160, Accuracy: 5146/10000 (51.46%)\n",
      "\n",
      "Epoch: 24\n"
     ]
    },
    {
     "name": "stderr",
     "output_type": "stream",
     "text": [
      "loss=1.4863618612289429 batch_id=781 Accuracy = 0.65595: 100%|███████████████████████| 782/782 [03:11<00:00,  4.08it/s]\n",
      "  0%|                                                                                          | 0/782 [00:00<?, ?it/s]"
     ]
    },
    {
     "name": "stdout",
     "output_type": "stream",
     "text": [
      "\n",
      "Test set: Average loss: 0.0157, Accuracy: 5268/10000 (52.68%)\n",
      "\n",
      "Epoch: 25\n"
     ]
    },
    {
     "name": "stderr",
     "output_type": "stream",
     "text": [
      "loss=1.6283283233642578 batch_id=781 Accuracy = 0.66986: 100%|███████████████████████| 782/782 [03:09<00:00,  4.12it/s]\n",
      "  0%|                                                                                          | 0/782 [00:00<?, ?it/s]"
     ]
    },
    {
     "name": "stdout",
     "output_type": "stream",
     "text": [
      "\n",
      "Test set: Average loss: 0.0157, Accuracy: 5218/10000 (52.18%)\n",
      "\n",
      "Epoch: 26\n"
     ]
    },
    {
     "name": "stderr",
     "output_type": "stream",
     "text": [
      "loss=2.0583655834198 batch_id=781 Accuracy = 0.67806: 100%|██████████████████████████| 782/782 [03:09<00:00,  4.12it/s]\n",
      "  0%|                                                                                          | 0/782 [00:00<?, ?it/s]"
     ]
    },
    {
     "name": "stdout",
     "output_type": "stream",
     "text": [
      "\n",
      "Test set: Average loss: 0.0153, Accuracy: 5321/10000 (53.21%)\n",
      "\n",
      "Epoch: 27\n"
     ]
    },
    {
     "name": "stderr",
     "output_type": "stream",
     "text": [
      "loss=1.2273023128509521 batch_id=781 Accuracy = 0.68941: 100%|███████████████████████| 782/782 [03:11<00:00,  4.09it/s]\n",
      "  0%|                                                                                          | 0/782 [00:00<?, ?it/s]"
     ]
    },
    {
     "name": "stdout",
     "output_type": "stream",
     "text": [
      "\n",
      "Test set: Average loss: 0.0158, Accuracy: 5293/10000 (52.93%)\n",
      "\n",
      "Epoch: 28\n"
     ]
    },
    {
     "name": "stderr",
     "output_type": "stream",
     "text": [
      "loss=0.8876959085464478 batch_id=781 Accuracy = 0.70181: 100%|███████████████████████| 782/782 [03:09<00:00,  4.12it/s]\n",
      "  0%|                                                                                          | 0/782 [00:00<?, ?it/s]"
     ]
    },
    {
     "name": "stdout",
     "output_type": "stream",
     "text": [
      "\n",
      "Test set: Average loss: 0.0153, Accuracy: 5458/10000 (54.58%)\n",
      "\n",
      "Epoch: 29\n"
     ]
    },
    {
     "name": "stderr",
     "output_type": "stream",
     "text": [
      "loss=1.6647539138793945 batch_id=781 Accuracy = 0.71194: 100%|███████████████████████| 782/782 [03:09<00:00,  4.12it/s]\n",
      "  0%|                                                                                          | 0/782 [00:00<?, ?it/s]"
     ]
    },
    {
     "name": "stdout",
     "output_type": "stream",
     "text": [
      "\n",
      "Test set: Average loss: 0.0155, Accuracy: 5463/10000 (54.63%)\n",
      "\n",
      "Epoch: 30\n"
     ]
    },
    {
     "name": "stderr",
     "output_type": "stream",
     "text": [
      "loss=1.5907684564590454 batch_id=781 Accuracy = 0.72063: 100%|███████████████████████| 782/782 [03:09<00:00,  4.12it/s]\n",
      "  0%|                                                                                          | 0/782 [00:00<?, ?it/s]"
     ]
    },
    {
     "name": "stdout",
     "output_type": "stream",
     "text": [
      "\n",
      "Test set: Average loss: 0.0158, Accuracy: 5316/10000 (53.16%)\n",
      "\n",
      "Epoch: 31\n"
     ]
    },
    {
     "name": "stderr",
     "output_type": "stream",
     "text": [
      "loss=1.5381795167922974 batch_id=781 Accuracy = 0.73: 100%|██████████████████████████| 782/782 [03:07<00:00,  4.17it/s]\n",
      "  0%|                                                                                          | 0/782 [00:00<?, ?it/s]"
     ]
    },
    {
     "name": "stdout",
     "output_type": "stream",
     "text": [
      "\n",
      "Test set: Average loss: 0.0154, Accuracy: 5457/10000 (54.57%)\n",
      "\n",
      "Epoch: 32\n"
     ]
    },
    {
     "name": "stderr",
     "output_type": "stream",
     "text": [
      "loss=0.9506127238273621 batch_id=781 Accuracy = 0.74306: 100%|███████████████████████| 782/782 [03:07<00:00,  4.17it/s]\n",
      "  0%|                                                                                          | 0/782 [00:00<?, ?it/s]"
     ]
    },
    {
     "name": "stdout",
     "output_type": "stream",
     "text": [
      "\n",
      "Test set: Average loss: 0.0156, Accuracy: 5431/10000 (54.31%)\n",
      "\n",
      "Epoch: 33\n"
     ]
    },
    {
     "name": "stderr",
     "output_type": "stream",
     "text": [
      "loss=0.9155674576759338 batch_id=781 Accuracy = 0.75118: 100%|███████████████████████| 782/782 [03:07<00:00,  4.17it/s]\n",
      "  0%|                                                                                          | 0/782 [00:00<?, ?it/s]"
     ]
    },
    {
     "name": "stdout",
     "output_type": "stream",
     "text": [
      "\n",
      "Test set: Average loss: 0.0156, Accuracy: 5443/10000 (54.43%)\n",
      "\n",
      "Epoch: 34\n"
     ]
    },
    {
     "name": "stderr",
     "output_type": "stream",
     "text": [
      "loss=0.7812265753746033 batch_id=781 Accuracy = 0.76017: 100%|███████████████████████| 782/782 [03:07<00:00,  4.16it/s]\n",
      "  0%|                                                                                          | 0/782 [00:00<?, ?it/s]"
     ]
    },
    {
     "name": "stdout",
     "output_type": "stream",
     "text": [
      "\n",
      "Test set: Average loss: 0.0159, Accuracy: 5405/10000 (54.05%)\n",
      "\n",
      "Epoch: 35\n"
     ]
    },
    {
     "name": "stderr",
     "output_type": "stream",
     "text": [
      "loss=1.214293360710144 batch_id=781 Accuracy = 0.77056: 100%|████████████████████████| 782/782 [03:29<00:00,  3.73it/s]\n",
      "  0%|                                                                                          | 0/782 [00:00<?, ?it/s]"
     ]
    },
    {
     "name": "stdout",
     "output_type": "stream",
     "text": [
      "\n",
      "Test set: Average loss: 0.0157, Accuracy: 5402/10000 (54.02%)\n",
      "\n",
      "Epoch: 36\n"
     ]
    },
    {
     "name": "stderr",
     "output_type": "stream",
     "text": [
      "loss=1.2110549211502075 batch_id=781 Accuracy = 0.78026: 100%|███████████████████████| 782/782 [03:11<00:00,  4.08it/s]\n",
      "  0%|                                                                                          | 0/782 [00:00<?, ?it/s]"
     ]
    },
    {
     "name": "stdout",
     "output_type": "stream",
     "text": [
      "\n",
      "Test set: Average loss: 0.0161, Accuracy: 5406/10000 (54.06%)\n",
      "\n",
      "Epoch: 37\n"
     ]
    },
    {
     "name": "stderr",
     "output_type": "stream",
     "text": [
      "loss=1.0077714920043945 batch_id=781 Accuracy = 0.78699: 100%|███████████████████████| 782/782 [03:09<00:00,  4.12it/s]\n",
      "  0%|                                                                                          | 0/782 [00:00<?, ?it/s]"
     ]
    },
    {
     "name": "stdout",
     "output_type": "stream",
     "text": [
      "\n",
      "Test set: Average loss: 0.0159, Accuracy: 5508/10000 (55.08%)\n",
      "\n",
      "Epoch: 38\n"
     ]
    },
    {
     "name": "stderr",
     "output_type": "stream",
     "text": [
      "loss=1.0215513706207275 batch_id=781 Accuracy = 0.79602: 100%|███████████████████████| 782/782 [03:09<00:00,  4.12it/s]\n",
      "  0%|                                                                                          | 0/782 [00:00<?, ?it/s]"
     ]
    },
    {
     "name": "stdout",
     "output_type": "stream",
     "text": [
      "\n",
      "Test set: Average loss: 0.0161, Accuracy: 5400/10000 (54.00%)\n",
      "\n",
      "Epoch: 39\n"
     ]
    },
    {
     "name": "stderr",
     "output_type": "stream",
     "text": [
      "loss=0.9757344722747803 batch_id=781 Accuracy = 0.80498: 100%|███████████████████████| 782/782 [03:09<00:00,  4.12it/s]\n",
      "  0%|                                                                                          | 0/782 [00:00<?, ?it/s]"
     ]
    },
    {
     "name": "stdout",
     "output_type": "stream",
     "text": [
      "\n",
      "Test set: Average loss: 0.0163, Accuracy: 5465/10000 (54.65%)\n",
      "\n",
      "Epoch: 40\n"
     ]
    },
    {
     "name": "stderr",
     "output_type": "stream",
     "text": [
      "loss=0.9007858037948608 batch_id=781 Accuracy = 0.81505: 100%|███████████████████████| 782/782 [03:09<00:00,  4.12it/s]\n",
      "  0%|                                                                                          | 0/782 [00:00<?, ?it/s]"
     ]
    },
    {
     "name": "stdout",
     "output_type": "stream",
     "text": [
      "\n",
      "Test set: Average loss: 0.0161, Accuracy: 5582/10000 (55.82%)\n",
      "\n",
      "Epoch: 41\n"
     ]
    },
    {
     "name": "stderr",
     "output_type": "stream",
     "text": [
      "loss=0.8521186709403992 batch_id=781 Accuracy = 0.82387: 100%|███████████████████████| 782/782 [03:08<00:00,  4.15it/s]\n",
      "  0%|                                                                                          | 0/782 [00:00<?, ?it/s]"
     ]
    },
    {
     "name": "stdout",
     "output_type": "stream",
     "text": [
      "\n",
      "Test set: Average loss: 0.0166, Accuracy: 5438/10000 (54.38%)\n",
      "\n",
      "Epoch: 42\n"
     ]
    },
    {
     "name": "stderr",
     "output_type": "stream",
     "text": [
      "loss=0.5156740546226501 batch_id=781 Accuracy = 0.83178: 100%|███████████████████████| 782/782 [03:07<00:00,  4.17it/s]\n",
      "  0%|                                                                                          | 0/782 [00:00<?, ?it/s]"
     ]
    },
    {
     "name": "stdout",
     "output_type": "stream",
     "text": [
      "\n",
      "Test set: Average loss: 0.0163, Accuracy: 5483/10000 (54.83%)\n",
      "\n",
      "Epoch: 43\n"
     ]
    },
    {
     "name": "stderr",
     "output_type": "stream",
     "text": [
      "loss=1.0287179946899414 batch_id=781 Accuracy = 0.84052: 100%|███████████████████████| 782/782 [03:07<00:00,  4.17it/s]\n",
      "  0%|                                                                                          | 0/782 [00:00<?, ?it/s]"
     ]
    },
    {
     "name": "stdout",
     "output_type": "stream",
     "text": [
      "\n",
      "Test set: Average loss: 0.0165, Accuracy: 5480/10000 (54.80%)\n",
      "\n",
      "Epoch: 44\n"
     ]
    },
    {
     "name": "stderr",
     "output_type": "stream",
     "text": [
      "loss=0.6982362270355225 batch_id=781 Accuracy = 0.84562: 100%|███████████████████████| 782/782 [03:07<00:00,  4.17it/s]\n",
      "  0%|                                                                                          | 0/782 [00:00<?, ?it/s]"
     ]
    },
    {
     "name": "stdout",
     "output_type": "stream",
     "text": [
      "\n",
      "Test set: Average loss: 0.0167, Accuracy: 5476/10000 (54.76%)\n",
      "\n",
      "Epoch: 45\n"
     ]
    },
    {
     "name": "stderr",
     "output_type": "stream",
     "text": [
      "loss=0.35407787561416626 batch_id=781 Accuracy = 0.85376: 100%|██████████████████████| 782/782 [03:07<00:00,  4.17it/s]\n",
      "  0%|                                                                                          | 0/782 [00:00<?, ?it/s]"
     ]
    },
    {
     "name": "stdout",
     "output_type": "stream",
     "text": [
      "\n",
      "Test set: Average loss: 0.0168, Accuracy: 5521/10000 (55.21%)\n",
      "\n",
      "Epoch: 46\n"
     ]
    },
    {
     "name": "stderr",
     "output_type": "stream",
     "text": [
      "loss=0.5969459414482117 batch_id=781 Accuracy = 0.86265: 100%|███████████████████████| 782/782 [03:07<00:00,  4.17it/s]\n",
      "  0%|                                                                                          | 0/782 [00:00<?, ?it/s]"
     ]
    },
    {
     "name": "stdout",
     "output_type": "stream",
     "text": [
      "\n",
      "Test set: Average loss: 0.0169, Accuracy: 5472/10000 (54.72%)\n",
      "\n",
      "Epoch: 47\n"
     ]
    },
    {
     "name": "stderr",
     "output_type": "stream",
     "text": [
      "loss=0.3358372747898102 batch_id=781 Accuracy = 0.86416: 100%|███████████████████████| 782/782 [03:07<00:00,  4.17it/s]\n",
      "  0%|                                                                                          | 0/782 [00:00<?, ?it/s]"
     ]
    },
    {
     "name": "stdout",
     "output_type": "stream",
     "text": [
      "\n",
      "Test set: Average loss: 0.0164, Accuracy: 5575/10000 (55.75%)\n",
      "\n",
      "Epoch: 48\n"
     ]
    },
    {
     "name": "stderr",
     "output_type": "stream",
     "text": [
      "loss=0.9479374885559082 batch_id=781 Accuracy = 0.87274: 100%|███████████████████████| 782/782 [03:12<00:00,  4.07it/s]\n",
      "  0%|                                                                                          | 0/782 [00:00<?, ?it/s]"
     ]
    },
    {
     "name": "stdout",
     "output_type": "stream",
     "text": [
      "\n",
      "Test set: Average loss: 0.0168, Accuracy: 5568/10000 (55.68%)\n",
      "\n",
      "Epoch: 49\n"
     ]
    },
    {
     "name": "stderr",
     "output_type": "stream",
     "text": [
      "loss=0.9662744402885437 batch_id=781 Accuracy = 0.87577: 100%|███████████████████████| 782/782 [03:10<00:00,  4.11it/s]\n",
      "  0%|                                                                                          | 0/782 [00:00<?, ?it/s]"
     ]
    },
    {
     "name": "stdout",
     "output_type": "stream",
     "text": [
      "\n",
      "Test set: Average loss: 0.0170, Accuracy: 5494/10000 (54.94%)\n",
      "\n",
      "Epoch: 50\n"
     ]
    },
    {
     "name": "stderr",
     "output_type": "stream",
     "text": [
      "loss=1.018648624420166 batch_id=781 Accuracy = 0.88585: 100%|████████████████████████| 782/782 [03:10<00:00,  4.12it/s]\n"
     ]
    },
    {
     "name": "stdout",
     "output_type": "stream",
     "text": [
      "\n",
      "Test set: Average loss: 0.0176, Accuracy: 5529/10000 (55.29%)\n",
      "\n"
     ]
    }
   ],
   "source": [
    "(w,x),(y,z) = trainer.train()"
   ]
  },
  {
   "cell_type": "code",
   "execution_count": null,
   "metadata": {
    "id": "f2bkT_6xNJJr"
   },
   "outputs": [],
   "source": []
  }
 ],
 "metadata": {
  "accelerator": "GPU",
  "colab": {
   "collapsed_sections": [],
   "name": "Tiny ImageNet.ipynb",
   "provenance": []
  },
  "kernelspec": {
   "display_name": "Python 3",
   "language": "python",
   "name": "python3"
  },
  "language_info": {
   "codemirror_mode": {
    "name": "ipython",
    "version": 3
   },
   "file_extension": ".py",
   "mimetype": "text/x-python",
   "name": "python",
   "nbconvert_exporter": "python",
   "pygments_lexer": "ipython3",
   "version": "3.7.6"
  },
  "widgets": {
   "application/vnd.jupyter.widget-state+json": {
    "17004c2c702d4e7c86cfbba559b5312c": {
     "model_module": "@jupyter-widgets/controls",
     "model_name": "ProgressStyleModel",
     "state": {
      "_model_module": "@jupyter-widgets/controls",
      "_model_module_version": "1.5.0",
      "_model_name": "ProgressStyleModel",
      "_view_count": null,
      "_view_module": "@jupyter-widgets/base",
      "_view_module_version": "1.2.0",
      "_view_name": "StyleView",
      "bar_color": null,
      "description_width": "initial"
     }
    },
    "31ba7714fd4d42ec9237f4de4b4cfbf5": {
     "model_module": "@jupyter-widgets/controls",
     "model_name": "HBoxModel",
     "state": {
      "_dom_classes": [],
      "_model_module": "@jupyter-widgets/controls",
      "_model_module_version": "1.5.0",
      "_model_name": "HBoxModel",
      "_view_count": null,
      "_view_module": "@jupyter-widgets/controls",
      "_view_module_version": "1.5.0",
      "_view_name": "HBoxView",
      "box_style": "",
      "children": [
       "IPY_MODEL_62ca4ed95d79489c9a799eae268870e2",
       "IPY_MODEL_7989216ffa2a4a3ea3d058740f427560"
      ],
      "layout": "IPY_MODEL_e926f9ab7a814b51b4795fc60b2668d8"
     }
    },
    "4734f98a82384bbd96e95fd959d5652d": {
     "model_module": "@jupyter-widgets/base",
     "model_name": "LayoutModel",
     "state": {
      "_model_module": "@jupyter-widgets/base",
      "_model_module_version": "1.2.0",
      "_model_name": "LayoutModel",
      "_view_count": null,
      "_view_module": "@jupyter-widgets/base",
      "_view_module_version": "1.2.0",
      "_view_name": "LayoutView",
      "align_content": null,
      "align_items": null,
      "align_self": null,
      "border": null,
      "bottom": null,
      "display": null,
      "flex": null,
      "flex_flow": null,
      "grid_area": null,
      "grid_auto_columns": null,
      "grid_auto_flow": null,
      "grid_auto_rows": null,
      "grid_column": null,
      "grid_gap": null,
      "grid_row": null,
      "grid_template_areas": null,
      "grid_template_columns": null,
      "grid_template_rows": null,
      "height": null,
      "justify_content": null,
      "justify_items": null,
      "left": null,
      "margin": null,
      "max_height": null,
      "max_width": null,
      "min_height": null,
      "min_width": null,
      "object_fit": null,
      "object_position": null,
      "order": null,
      "overflow": null,
      "overflow_x": null,
      "overflow_y": null,
      "padding": null,
      "right": null,
      "top": null,
      "visibility": null,
      "width": null
     }
    },
    "62ca4ed95d79489c9a799eae268870e2": {
     "model_module": "@jupyter-widgets/controls",
     "model_name": "FloatProgressModel",
     "state": {
      "_dom_classes": [],
      "_model_module": "@jupyter-widgets/controls",
      "_model_module_version": "1.5.0",
      "_model_name": "FloatProgressModel",
      "_view_count": null,
      "_view_module": "@jupyter-widgets/controls",
      "_view_module_version": "1.5.0",
      "_view_name": "ProgressView",
      "bar_style": "danger",
      "description": " 93%",
      "description_tooltip": null,
      "layout": "IPY_MODEL_eb113f88f8864d6b837ac72506a1369f",
      "max": 100,
      "min": 0,
      "orientation": "horizontal",
      "style": "IPY_MODEL_17004c2c702d4e7c86cfbba559b5312c",
      "value": 93
     }
    },
    "7989216ffa2a4a3ea3d058740f427560": {
     "model_module": "@jupyter-widgets/controls",
     "model_name": "HTMLModel",
     "state": {
      "_dom_classes": [],
      "_model_module": "@jupyter-widgets/controls",
      "_model_module_version": "1.5.0",
      "_model_name": "HTMLModel",
      "_view_count": null,
      "_view_module": "@jupyter-widgets/controls",
      "_view_module_version": "1.5.0",
      "_view_name": "HTMLView",
      "description": "",
      "description_tooltip": null,
      "layout": "IPY_MODEL_4734f98a82384bbd96e95fd959d5652d",
      "placeholder": "​",
      "style": "IPY_MODEL_ee5f57d2f8a24db4b8247b9ce6269c06",
      "value": " 93/100 [01:14&lt;00:05,  1.26it/s]"
     }
    },
    "e926f9ab7a814b51b4795fc60b2668d8": {
     "model_module": "@jupyter-widgets/base",
     "model_name": "LayoutModel",
     "state": {
      "_model_module": "@jupyter-widgets/base",
      "_model_module_version": "1.2.0",
      "_model_name": "LayoutModel",
      "_view_count": null,
      "_view_module": "@jupyter-widgets/base",
      "_view_module_version": "1.2.0",
      "_view_name": "LayoutView",
      "align_content": null,
      "align_items": null,
      "align_self": null,
      "border": null,
      "bottom": null,
      "display": null,
      "flex": null,
      "flex_flow": null,
      "grid_area": null,
      "grid_auto_columns": null,
      "grid_auto_flow": null,
      "grid_auto_rows": null,
      "grid_column": null,
      "grid_gap": null,
      "grid_row": null,
      "grid_template_areas": null,
      "grid_template_columns": null,
      "grid_template_rows": null,
      "height": null,
      "justify_content": null,
      "justify_items": null,
      "left": null,
      "margin": null,
      "max_height": null,
      "max_width": null,
      "min_height": null,
      "min_width": null,
      "object_fit": null,
      "object_position": null,
      "order": null,
      "overflow": null,
      "overflow_x": null,
      "overflow_y": null,
      "padding": null,
      "right": null,
      "top": null,
      "visibility": null,
      "width": null
     }
    },
    "eb113f88f8864d6b837ac72506a1369f": {
     "model_module": "@jupyter-widgets/base",
     "model_name": "LayoutModel",
     "state": {
      "_model_module": "@jupyter-widgets/base",
      "_model_module_version": "1.2.0",
      "_model_name": "LayoutModel",
      "_view_count": null,
      "_view_module": "@jupyter-widgets/base",
      "_view_module_version": "1.2.0",
      "_view_name": "LayoutView",
      "align_content": null,
      "align_items": null,
      "align_self": null,
      "border": null,
      "bottom": null,
      "display": null,
      "flex": null,
      "flex_flow": null,
      "grid_area": null,
      "grid_auto_columns": null,
      "grid_auto_flow": null,
      "grid_auto_rows": null,
      "grid_column": null,
      "grid_gap": null,
      "grid_row": null,
      "grid_template_areas": null,
      "grid_template_columns": null,
      "grid_template_rows": null,
      "height": null,
      "justify_content": null,
      "justify_items": null,
      "left": null,
      "margin": null,
      "max_height": null,
      "max_width": null,
      "min_height": null,
      "min_width": null,
      "object_fit": null,
      "object_position": null,
      "order": null,
      "overflow": null,
      "overflow_x": null,
      "overflow_y": null,
      "padding": null,
      "right": null,
      "top": null,
      "visibility": null,
      "width": null
     }
    },
    "ee5f57d2f8a24db4b8247b9ce6269c06": {
     "model_module": "@jupyter-widgets/controls",
     "model_name": "DescriptionStyleModel",
     "state": {
      "_model_module": "@jupyter-widgets/controls",
      "_model_module_version": "1.5.0",
      "_model_name": "DescriptionStyleModel",
      "_view_count": null,
      "_view_module": "@jupyter-widgets/base",
      "_view_module_version": "1.2.0",
      "_view_name": "StyleView",
      "description_width": ""
     }
    }
   }
  }
 },
 "nbformat": 4,
 "nbformat_minor": 1
}
